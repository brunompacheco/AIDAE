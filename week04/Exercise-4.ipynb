{
 "cells": [
  {
   "cell_type": "code",
   "execution_count": 16,
   "metadata": {},
   "outputs": [],
   "source": [
    "import os\n",
    "\n",
    "data_dir = os.path.join(os.curdir, 'data')\n",
    "\n",
    "assert os.path.exists(data_dir)"
   ]
  },
  {
   "cell_type": "markdown",
   "metadata": {},
   "source": [
    "# Exercise 4\n",
    "\n",
    "## Task 1"
   ]
  },
  {
   "cell_type": "code",
   "execution_count": 17,
   "metadata": {},
   "outputs": [],
   "source": [
    "import sqlite3\n",
    "\n",
    "db_path = os.path.join(data_dir, 'sensor_readings.db')\n",
    "assert os.path.exists(db_path)"
   ]
  },
  {
   "cell_type": "markdown",
   "metadata": {},
   "source": [
    "### a)"
   ]
  },
  {
   "cell_type": "code",
   "execution_count": 18,
   "metadata": {},
   "outputs": [
    {
     "data": {
      "text/plain": [
       "<sqlite3.Cursor at 0x7fd836875340>"
      ]
     },
     "execution_count": 18,
     "metadata": {},
     "output_type": "execute_result"
    }
   ],
   "source": [
    "conn = sqlite3.connect(db_path)\n",
    "\n",
    "c = conn.cursor()\n",
    "\n",
    "c"
   ]
  },
  {
   "cell_type": "code",
   "execution_count": 19,
   "metadata": {},
   "outputs": [
    {
     "data": {
      "text/plain": [
       "[(0, 'type', 'text', 0, None, 0),\n",
       " (1, 'name', 'text', 0, None, 0),\n",
       " (2, 'tbl_name', 'text', 0, None, 0),\n",
       " (3, 'rootpage', 'int', 0, None, 0),\n",
       " (4, 'sql', 'text', 0, None, 0)]"
      ]
     },
     "execution_count": 19,
     "metadata": {},
     "output_type": "execute_result"
    }
   ],
   "source": [
    "c.execute('PRAGMA table_info(sqlite_master)')\n",
    "\n",
    "c.fetchall()"
   ]
  },
  {
   "cell_type": "code",
   "execution_count": 20,
   "metadata": {},
   "outputs": [
    {
     "data": {
      "text/plain": [
       "['measurements', 'sensors']"
      ]
     },
     "execution_count": 20,
     "metadata": {},
     "output_type": "execute_result"
    }
   ],
   "source": [
    "c.execute(\"SELECT * FROM sqlite_master\")\n",
    "\n",
    "query = c.fetchall()\n",
    "\n",
    "all_tables = [row[1] for row in query]\n",
    "\n",
    "all_tables"
   ]
  },
  {
   "cell_type": "markdown",
   "metadata": {},
   "source": [
    "### b)"
   ]
  },
  {
   "cell_type": "code",
   "execution_count": 21,
   "metadata": {},
   "outputs": [
    {
     "data": {
      "text/plain": [
       "[(0, 'sensorid', 'real', 0, None, 0),\n",
       " (1, 'sensor_type', 'text', 0, None, 0),\n",
       " (2, 'channel', 'text', 0, None, 0)]"
      ]
     },
     "execution_count": 21,
     "metadata": {},
     "output_type": "execute_result"
    }
   ],
   "source": [
    "c.execute(\"PRAGMA table_info(sensors)\")\n",
    "\n",
    "c.fetchall()"
   ]
  },
  {
   "cell_type": "code",
   "execution_count": 22,
   "metadata": {},
   "outputs": [
    {
     "data": {
      "text/plain": [
       "[(0.0, 'Accelerometer', 'x'),\n",
       " (1.0, 'Accelerometer', 'y'),\n",
       " (2.0, 'Accelerometer', 'z'),\n",
       " (3.0, 'Gyroscope', 'x'),\n",
       " (4.0, 'Gyroscope', 'y'),\n",
       " (5.0, 'Gyroscope', 'z'),\n",
       " (6.0, 'Magnetometer', 'x'),\n",
       " (7.0, 'Magnetometer', 'y'),\n",
       " (8.0, 'Magnetometer', 'z'),\n",
       " (9.0, 'Gravity', 'x'),\n",
       " (10.0, 'Gravity', 'y'),\n",
       " (11.0, 'LinearAcceleration', 'x'),\n",
       " (12.0, 'LinearAcceleration', 'y'),\n",
       " (13.0, 'Gravity', 'z'),\n",
       " (14.0, 'RotationVector', 'x'),\n",
       " (15.0, 'LinearAcceleration', 'z'),\n",
       " (16.0, 'RotationVector', 'y'),\n",
       " (17.0, 'RotationVector', 'z'),\n",
       " (18.0, 'noise', 'decibels')]"
      ]
     },
     "execution_count": 22,
     "metadata": {},
     "output_type": "execute_result"
    }
   ],
   "source": [
    "c.execute(\"SELECT * FROM sensors\")\n",
    "\n",
    "c.fetchall()"
   ]
  },
  {
   "cell_type": "markdown",
   "metadata": {},
   "source": [
    "### c)"
   ]
  },
  {
   "cell_type": "code",
   "execution_count": 23,
   "metadata": {},
   "outputs": [
    {
     "data": {
      "text/html": [
       "<div>\n",
       "<style scoped>\n",
       "    .dataframe tbody tr th:only-of-type {\n",
       "        vertical-align: middle;\n",
       "    }\n",
       "\n",
       "    .dataframe tbody tr th {\n",
       "        vertical-align: top;\n",
       "    }\n",
       "\n",
       "    .dataframe thead th {\n",
       "        text-align: right;\n",
       "    }\n",
       "</style>\n",
       "<table border=\"1\" class=\"dataframe\">\n",
       "  <thead>\n",
       "    <tr style=\"text-align: right;\">\n",
       "      <th></th>\n",
       "      <th>sensorid</th>\n",
       "      <th>sensor_type</th>\n",
       "      <th>channel</th>\n",
       "    </tr>\n",
       "  </thead>\n",
       "  <tbody>\n",
       "    <tr>\n",
       "      <th>0</th>\n",
       "      <td>0.0</td>\n",
       "      <td>Accelerometer</td>\n",
       "      <td>x</td>\n",
       "    </tr>\n",
       "    <tr>\n",
       "      <th>1</th>\n",
       "      <td>1.0</td>\n",
       "      <td>Accelerometer</td>\n",
       "      <td>y</td>\n",
       "    </tr>\n",
       "    <tr>\n",
       "      <th>2</th>\n",
       "      <td>2.0</td>\n",
       "      <td>Accelerometer</td>\n",
       "      <td>z</td>\n",
       "    </tr>\n",
       "    <tr>\n",
       "      <th>3</th>\n",
       "      <td>3.0</td>\n",
       "      <td>Gyroscope</td>\n",
       "      <td>x</td>\n",
       "    </tr>\n",
       "    <tr>\n",
       "      <th>4</th>\n",
       "      <td>4.0</td>\n",
       "      <td>Gyroscope</td>\n",
       "      <td>y</td>\n",
       "    </tr>\n",
       "    <tr>\n",
       "      <th>5</th>\n",
       "      <td>5.0</td>\n",
       "      <td>Gyroscope</td>\n",
       "      <td>z</td>\n",
       "    </tr>\n",
       "    <tr>\n",
       "      <th>6</th>\n",
       "      <td>6.0</td>\n",
       "      <td>Magnetometer</td>\n",
       "      <td>x</td>\n",
       "    </tr>\n",
       "    <tr>\n",
       "      <th>7</th>\n",
       "      <td>7.0</td>\n",
       "      <td>Magnetometer</td>\n",
       "      <td>y</td>\n",
       "    </tr>\n",
       "    <tr>\n",
       "      <th>8</th>\n",
       "      <td>8.0</td>\n",
       "      <td>Magnetometer</td>\n",
       "      <td>z</td>\n",
       "    </tr>\n",
       "    <tr>\n",
       "      <th>9</th>\n",
       "      <td>9.0</td>\n",
       "      <td>Gravity</td>\n",
       "      <td>x</td>\n",
       "    </tr>\n",
       "    <tr>\n",
       "      <th>10</th>\n",
       "      <td>10.0</td>\n",
       "      <td>Gravity</td>\n",
       "      <td>y</td>\n",
       "    </tr>\n",
       "    <tr>\n",
       "      <th>11</th>\n",
       "      <td>11.0</td>\n",
       "      <td>LinearAcceleration</td>\n",
       "      <td>x</td>\n",
       "    </tr>\n",
       "    <tr>\n",
       "      <th>12</th>\n",
       "      <td>12.0</td>\n",
       "      <td>LinearAcceleration</td>\n",
       "      <td>y</td>\n",
       "    </tr>\n",
       "    <tr>\n",
       "      <th>13</th>\n",
       "      <td>13.0</td>\n",
       "      <td>Gravity</td>\n",
       "      <td>z</td>\n",
       "    </tr>\n",
       "    <tr>\n",
       "      <th>14</th>\n",
       "      <td>14.0</td>\n",
       "      <td>RotationVector</td>\n",
       "      <td>x</td>\n",
       "    </tr>\n",
       "    <tr>\n",
       "      <th>15</th>\n",
       "      <td>15.0</td>\n",
       "      <td>LinearAcceleration</td>\n",
       "      <td>z</td>\n",
       "    </tr>\n",
       "    <tr>\n",
       "      <th>16</th>\n",
       "      <td>16.0</td>\n",
       "      <td>RotationVector</td>\n",
       "      <td>y</td>\n",
       "    </tr>\n",
       "    <tr>\n",
       "      <th>17</th>\n",
       "      <td>17.0</td>\n",
       "      <td>RotationVector</td>\n",
       "      <td>z</td>\n",
       "    </tr>\n",
       "    <tr>\n",
       "      <th>18</th>\n",
       "      <td>18.0</td>\n",
       "      <td>noise</td>\n",
       "      <td>decibels</td>\n",
       "    </tr>\n",
       "  </tbody>\n",
       "</table>\n",
       "</div>"
      ],
      "text/plain": [
       "    sensorid         sensor_type   channel\n",
       "0        0.0       Accelerometer         x\n",
       "1        1.0       Accelerometer         y\n",
       "2        2.0       Accelerometer         z\n",
       "3        3.0           Gyroscope         x\n",
       "4        4.0           Gyroscope         y\n",
       "5        5.0           Gyroscope         z\n",
       "6        6.0        Magnetometer         x\n",
       "7        7.0        Magnetometer         y\n",
       "8        8.0        Magnetometer         z\n",
       "9        9.0             Gravity         x\n",
       "10      10.0             Gravity         y\n",
       "11      11.0  LinearAcceleration         x\n",
       "12      12.0  LinearAcceleration         y\n",
       "13      13.0             Gravity         z\n",
       "14      14.0      RotationVector         x\n",
       "15      15.0  LinearAcceleration         z\n",
       "16      16.0      RotationVector         y\n",
       "17      17.0      RotationVector         z\n",
       "18      18.0               noise  decibels"
      ]
     },
     "execution_count": 23,
     "metadata": {},
     "output_type": "execute_result"
    }
   ],
   "source": [
    "import pandas  as pd\n",
    "\n",
    "df_sensors = pd.read_sql_query(\"SELECT * from sensors\", conn)\n",
    "df_sensors"
   ]
  },
  {
   "cell_type": "code",
   "execution_count": 24,
   "metadata": {},
   "outputs": [
    {
     "data": {
      "text/html": [
       "<div>\n",
       "<style scoped>\n",
       "    .dataframe tbody tr th:only-of-type {\n",
       "        vertical-align: middle;\n",
       "    }\n",
       "\n",
       "    .dataframe tbody tr th {\n",
       "        vertical-align: top;\n",
       "    }\n",
       "\n",
       "    .dataframe thead th {\n",
       "        text-align: right;\n",
       "    }\n",
       "</style>\n",
       "<table border=\"1\" class=\"dataframe\">\n",
       "  <thead>\n",
       "    <tr style=\"text-align: right;\">\n",
       "      <th></th>\n",
       "      <th>sensorid</th>\n",
       "      <th>timestamp</th>\n",
       "      <th>data</th>\n",
       "    </tr>\n",
       "  </thead>\n",
       "  <tbody>\n",
       "    <tr>\n",
       "      <th>0</th>\n",
       "      <td>0.0</td>\n",
       "      <td>1.556136e+09</td>\n",
       "      <td>-0.605637</td>\n",
       "    </tr>\n",
       "    <tr>\n",
       "      <th>1</th>\n",
       "      <td>1.0</td>\n",
       "      <td>1.556136e+09</td>\n",
       "      <td>1.623474</td>\n",
       "    </tr>\n",
       "    <tr>\n",
       "      <th>2</th>\n",
       "      <td>2.0</td>\n",
       "      <td>1.556136e+09</td>\n",
       "      <td>9.710114</td>\n",
       "    </tr>\n",
       "    <tr>\n",
       "      <th>3</th>\n",
       "      <td>3.0</td>\n",
       "      <td>1.556136e+09</td>\n",
       "      <td>0.002228</td>\n",
       "    </tr>\n",
       "    <tr>\n",
       "      <th>4</th>\n",
       "      <td>4.0</td>\n",
       "      <td>1.556136e+09</td>\n",
       "      <td>0.005508</td>\n",
       "    </tr>\n",
       "  </tbody>\n",
       "</table>\n",
       "</div>"
      ],
      "text/plain": [
       "   sensorid     timestamp      data\n",
       "0       0.0  1.556136e+09 -0.605637\n",
       "1       1.0  1.556136e+09  1.623474\n",
       "2       2.0  1.556136e+09  9.710114\n",
       "3       3.0  1.556136e+09  0.002228\n",
       "4       4.0  1.556136e+09  0.005508"
      ]
     },
     "execution_count": 24,
     "metadata": {},
     "output_type": "execute_result"
    }
   ],
   "source": [
    "df = pd.read_sql_query(\"SELECT * FROM measurements\", conn)\n",
    "\n",
    "df.head()"
   ]
  },
  {
   "cell_type": "code",
   "execution_count": 25,
   "metadata": {},
   "outputs": [
    {
     "data": {
      "text/plain": [
       "sensorid\n",
       "0.0     1349\n",
       "1.0     1340\n",
       "2.0     1334\n",
       "3.0     1334\n",
       "4.0     1324\n",
       "5.0     1313\n",
       "6.0     1307\n",
       "7.0     1302\n",
       "8.0     1287\n",
       "9.0     1282\n",
       "10.0    1265\n",
       "13.0    1187\n",
       "11.0    1175\n",
       "12.0    1139\n",
       "15.0    1095\n",
       "14.0    1055\n",
       "18.0    1030\n",
       "16.0    1006\n",
       "17.0     949\n",
       "dtype: int64"
      ]
     },
     "execution_count": 25,
     "metadata": {},
     "output_type": "execute_result"
    }
   ],
   "source": [
    "df.groupby('sensorid').size().sort_values(ascending=False)"
   ]
  },
  {
   "cell_type": "code",
   "execution_count": 26,
   "metadata": {},
   "outputs": [
    {
     "name": "stdout",
     "output_type": "stream",
     "text": [
      "The sensor with the most measurements is sensor 0.0\n"
     ]
    }
   ],
   "source": [
    "sensor_max = df.groupby('sensorid') \\\n",
    "               .size() \\\n",
    "               .sort_values(ascending=False) \\\n",
    "               .index[0]\n",
    "\n",
    "print('The sensor with the most measurements is sensor {}'.format(sensor_max))"
   ]
  },
  {
   "cell_type": "code",
   "execution_count": 27,
   "metadata": {},
   "outputs": [
    {
     "data": {
      "text/plain": [
       "sensorid\n",
       "0.0     15.428329\n",
       "1.0      8.530746\n",
       "2.0     56.121720\n",
       "11.0     6.909350\n",
       "12.0    13.980898\n",
       "15.0    28.379932\n",
       "Name: data, dtype: float64"
      ]
     },
     "execution_count": 27,
     "metadata": {},
     "output_type": "execute_result"
    }
   ],
   "source": [
    "acc_sensors = df_sensors[df_sensors['sensor_type'].str.contains('Acc')].index\n",
    "\n",
    "acc_groups = df[df['sensorid'].isin(acc_sensors)].groupby('sensorid')\n",
    "\n",
    "acc_groups['data'].max()"
   ]
  },
  {
   "cell_type": "code",
   "execution_count": 28,
   "metadata": {},
   "outputs": [
    {
     "data": {
      "text/plain": [
       "sensorid\n",
       "0.0     -6.830551\n",
       "1.0     -9.574219\n",
       "2.0    -19.585342\n",
       "11.0    -7.031983\n",
       "12.0   -11.810923\n",
       "15.0   -21.138874\n",
       "Name: data, dtype: float64"
      ]
     },
     "execution_count": 28,
     "metadata": {},
     "output_type": "execute_result"
    }
   ],
   "source": [
    "acc_groups['data'].min()"
   ]
  },
  {
   "cell_type": "code",
   "execution_count": 29,
   "metadata": {},
   "outputs": [],
   "source": [
    "conn.close()"
   ]
  },
  {
   "cell_type": "markdown",
   "metadata": {},
   "source": [
    "## Task 2"
   ]
  },
  {
   "cell_type": "code",
   "execution_count": 75,
   "metadata": {},
   "outputs": [],
   "source": [
    "from tinydb import TinyDB, Query\n",
    "\n",
    "json_path = os.path.join(data_dir, 'sensor_reports.json')\n",
    "\n",
    "assert os.path.exists(json_path)"
   ]
  },
  {
   "cell_type": "markdown",
   "metadata": {},
   "source": [
    "### a)"
   ]
  },
  {
   "cell_type": "code",
   "execution_count": 87,
   "metadata": {},
   "outputs": [
    {
     "data": {
      "text/plain": [
       "[{'type': 'report',\n",
       "  'state': 'anomaly',\n",
       "  'value': '-inf',\n",
       "  'topic': 'aidae/1/noise/decibels',\n",
       "  'timestamp': 1556136466.2272274},\n",
       " {'type': 'report',\n",
       "  'state': 'high',\n",
       "  'value': '41.267395',\n",
       "  'topic': 'aidae/1/Magnetometer/y',\n",
       "  'timestamp': 1556136541.499493},\n",
       " {'type': 'report',\n",
       "  'state': 'high',\n",
       "  'value': '43.380736999999996',\n",
       "  'topic': 'aidae/1/Magnetometer/x',\n",
       "  'timestamp': 1556136589.8646376},\n",
       " {'type': 'report',\n",
       "  'state': 'high',\n",
       "  'value': '56.121719999999996',\n",
       "  'topic': 'aidae/1/Accelerometer/z',\n",
       "  'timestamp': 1556136590.254276},\n",
       " {'type': 'report',\n",
       "  'state': 'high',\n",
       "  'value': '47.239684999999994',\n",
       "  'topic': 'aidae/1/Magnetometer/z',\n",
       "  'timestamp': 1556136594.54553}]"
      ]
     },
     "execution_count": 87,
     "metadata": {},
     "output_type": "execute_result"
    }
   ],
   "source": [
    "conn = TinyDB(json_path)\n",
    "\n",
    "all_docs = conn.all()\n",
    "\n",
    "all_docs[:5]"
   ]
  },
  {
   "cell_type": "markdown",
   "metadata": {},
   "source": [
    "These are reports on the values of the sensor data in the sqlite db."
   ]
  },
  {
   "cell_type": "markdown",
   "metadata": {},
   "source": [
    "### b)"
   ]
  },
  {
   "cell_type": "code",
   "execution_count": 90,
   "metadata": {},
   "outputs": [
    {
     "data": {
      "text/plain": [
       "[{'type': 'report',\n",
       "  'state': 'high',\n",
       "  'value': '47.239684999999994',\n",
       "  'topic': 'aidae/1/Magnetometer/z',\n",
       "  'timestamp': 1556136594.54553},\n",
       " {'type': 'report',\n",
       "  'state': 'high',\n",
       "  'value': '48.85559',\n",
       "  'topic': 'aidae/1/Magnetometer/z',\n",
       "  'timestamp': 1556136601.8640122},\n",
       " {'type': 'report',\n",
       "  'state': 'high',\n",
       "  'value': '45.796203999999996',\n",
       "  'topic': 'aidae/1/Magnetometer/z',\n",
       "  'timestamp': 1556136623.4933126},\n",
       " {'type': 'report',\n",
       "  'state': 'high',\n",
       "  'value': '51.737976',\n",
       "  'topic': 'aidae/1/Magnetometer/z',\n",
       "  'timestamp': 1556136642.3971994}]"
      ]
     },
     "execution_count": 90,
     "metadata": {},
     "output_type": "execute_result"
    }
   ],
   "source": [
    "q = Query()\n",
    "\n",
    "mag_z = conn.search(q.topic == 'aidae/1/Magnetometer/z')\n",
    "\n",
    "mag_z"
   ]
  },
  {
   "cell_type": "code",
   "execution_count": 96,
   "metadata": {},
   "outputs": [
    {
     "name": "stdout",
     "output_type": "stream",
     "text": [
      "For the magnetometer z sensor, there are 0 anomalies and 4 warnings for a high value\n"
     ]
    }
   ],
   "source": [
    "mag_z_anomalies = conn.search((q.topic == 'aidae/1/Magnetometer/z') & \\\n",
    "                              (q.state == 'anomaly'))\n",
    "mag_z_warnings = conn.search((q.topic == 'aidae/1/Magnetometer/z') & \\\n",
    "                              (q.state == 'high'))\n",
    "\n",
    "print((\"For the magnetometer z sensor, there are {} anomalies and \"\n",
    "       \"{} warnings for a high value\").format(len(mag_z_anomalies),\n",
    "                                             len(mag_z_warnings)))"
   ]
  },
  {
   "cell_type": "markdown",
   "metadata": {},
   "source": [
    "### c)"
   ]
  },
  {
   "cell_type": "code",
   "execution_count": 97,
   "metadata": {},
   "outputs": [
    {
     "data": {
      "text/plain": [
       "[{'type': 'report',\n",
       "  'state': 'anomaly',\n",
       "  'value': '-inf',\n",
       "  'topic': 'aidae/1/noise/decibels',\n",
       "  'timestamp': 1556136466.2272274}]"
      ]
     },
     "execution_count": 97,
     "metadata": {},
     "output_type": "execute_result"
    }
   ],
   "source": [
    "conn.search(q.state == 'anomaly')"
   ]
  },
  {
   "cell_type": "markdown",
   "metadata": {},
   "source": [
    "It was caused by the -$\\infty$ value."
   ]
  },
  {
   "cell_type": "code",
   "execution_count": 73,
   "metadata": {},
   "outputs": [],
   "source": [
    "conn.close()"
   ]
  },
  {
   "cell_type": "markdown",
   "metadata": {},
   "source": [
    "## Task 3"
   ]
  },
  {
   "cell_type": "code",
   "execution_count": 1,
   "metadata": {},
   "outputs": [],
   "source": [
    "import paho.mqtt.client as mqtt"
   ]
  },
  {
   "cell_type": "markdown",
   "metadata": {},
   "source": [
    "### a)"
   ]
  },
  {
   "cell_type": "code",
   "execution_count": 2,
   "metadata": {},
   "outputs": [
    {
     "data": {
      "image/png": "[encoded data removed]",
      "text/plain": [
       "<Figure size 432x288 with 1 Axes>"
      ]
     },
     "metadata": {
      "needs_background": "light"
     },
     "output_type": "display_data"
    }
   ],
   "source": [
    "import numpy as np\n",
    "import matplotlib.pyplot as plt\n",
    "\n",
    "class SinSensor:\n",
    "    def __init__(self, amplitude=5, variance=0.2):\n",
    "        self.amplitude = amplitude\n",
    "        self.variance = variance\n",
    "\n",
    "    def get_measurement(self, t):\n",
    "        clean_signal = np.sin(t * 2 * np.pi) * self.amplitude\n",
    "        noisy_signal = np.random.normal(clean_signal, np.sqrt(self.variance))\n",
    "        return noisy_signal\n",
    "    \n",
    "s = SinSensor()\n",
    "\n",
    "values = list()\n",
    "time = np.arange(0, 1, 0.01)\n",
    "for t in time:\n",
    "    values.append(s.get_measurement(t))\n",
    "\n",
    "plt.plot(time, values)\n",
    "plt.show()"
   ]
  },
  {
   "cell_type": "markdown",
   "metadata": {},
   "source": [
    "### b)"
   ]
  },
  {
   "cell_type": "code",
   "execution_count": 3,
   "metadata": {
    "scrolled": true
   },
   "outputs": [
    {
     "data": {
      "text/plain": [
       "<paho.mqtt.client.Client at 0x7fd84e542640>"
      ]
     },
     "execution_count": 3,
     "metadata": {},
     "output_type": "execute_result"
    }
   ],
   "source": [
    "# The callback for when the client receives a CONNACK response from the server.\n",
    "def on_connect(client, userdata, flags, rc):\n",
    "    print(\"Connected with result code \"+str(rc))\n",
    "\n",
    "    # Subscribing in on_connect() means that if we lose the connection and\n",
    "    # reconnect then subscriptions will be renewed.\n",
    "    client.subscribe(\"$SYS/#\")\n",
    "\n",
    "# The callback for when a PUBLISH message is received from the server.\n",
    "def on_message(client, userdata, msg):\n",
    "    print('MSG: '+msg.topic+\" \"+str(msg.payload))\n",
    "\n",
    "client = mqtt.Client()\n",
    "client.on_connect = on_connect\n",
    "client.on_message = on_message\n",
    "\n",
    "client.connect(\"broker.hivemq.com\")\n",
    "\n",
    "client"
   ]
  },
  {
   "cell_type": "code",
   "execution_count": 4,
   "metadata": {},
   "outputs": [],
   "source": [
    "from threading import Timer\n",
    "import time\n",
    "\n",
    "class PublishTimer():\n",
    "   def __init__(self, interval, publish_function):\n",
    "      self.interval = interval\n",
    "      self.publish_function = publish_function\n",
    "      self.thread = Timer(self.interval, self.handle_function)\n",
    "\n",
    "   def handle_function(self):\n",
    "      self.publish_function()\n",
    "      self.thread = Timer(self.interval, self.handle_function)\n",
    "      self.thread.start()\n",
    "\n",
    "   def start(self):\n",
    "      self.thread.start()\n",
    "\n",
    "   def cancel(self):\n",
    "      self.thread.cancel()\n",
    "\n",
    "def get_sensor_publish(client, sensor, topic):\n",
    "    def publish():\n",
    "        return client.publish(\n",
    "            topic=topic,\n",
    "            payload=sensor.get_measurement(time.time()))\n",
    "\n",
    "    return publish\n",
    "\n",
    "topic = 'aidae/123456/SinSensor'"
   ]
  },
  {
   "cell_type": "code",
   "execution_count": 5,
   "metadata": {},
   "outputs": [
    {
     "name": "stdout",
     "output_type": "stream",
     "text": [
      "Connected with result code 0\n",
      "MSG: $SYS/broker/connection/raspberrypi.hivemq/state b'0'\n",
      "MSG: $SYS/broker/connection/566522NN.dfnalkfalkghalgnalgknalvjksfsjkl/state b'0'\n",
      "MSG: $SYS/broker/connection/fhem1.local.hivemqbridge02/state b'0'\n",
      "MSG: $SYS/broker/connection/gobrain.broker-hivemq-com/state b'0'\n",
      "MSG: $SYS/broker/connection/hyperion.bridge01/state b'0'\n"
     ]
    }
   ],
   "source": [
    "client.loop_start()\n",
    "\n",
    "publisher = PublishTimer(0.2, get_sensor_publish(client, SinSensor(), topic))\n",
    "publisher.start()"
   ]
  },
  {
   "cell_type": "markdown",
   "metadata": {},
   "source": [
    "### c)"
   ]
  },
  {
   "cell_type": "code",
   "execution_count": 6,
   "metadata": {},
   "outputs": [
    {
     "data": {
      "text/plain": [
       "(0, 14)"
      ]
     },
     "execution_count": 6,
     "metadata": {},
     "output_type": "execute_result"
    },
    {
     "name": "stdout",
     "output_type": "stream",
     "text": [
      "MSG: aidae/123456/SinSensor b'4.8654803612852495'\n",
      "MSG: aidae/123456/SinSensor b'3.090072614430188'\n",
      "MSG: aidae/123456/SinSensor b'-2.327031271589695'\n",
      "MSG: aidae/123456/SinSensor b'-4.936922241067779'\n",
      "MSG: aidae/123456/SinSensor b'-0.6712020184869315'\n",
      "MSG: aidae/123456/SinSensor b'3.7615254539168355'\n",
      "MSG: aidae/123456/SinSensor b'2.988089172222725'\n",
      "MSG: aidae/123456/SinSensor b'-2.770775695170656'\n",
      "MSG: $SYS/broker/connection/gobrain.broker-hivemq-com/state b'0'\n",
      "MSG: aidae/123456/SinSensor b'-5.294888540466159'\n"
     ]
    }
   ],
   "source": [
    "client.subscribe(topic)"
   ]
  },
  {
   "cell_type": "code",
   "execution_count": 7,
   "metadata": {},
   "outputs": [
    {
     "name": "stdout",
     "output_type": "stream",
     "text": [
      "MSG: aidae/123456/SinSensor b'0.33434993264552165'\n"
     ]
    }
   ],
   "source": [
    "publisher.cancel()\n",
    "client.unsubscribe(topic)\n",
    "client.loop_stop()"
   ]
  },
  {
   "cell_type": "markdown",
   "metadata": {},
   "source": [
    "### d)"
   ]
  },
  {
   "cell_type": "code",
   "execution_count": 11,
   "metadata": {},
   "outputs": [
    {
     "name": "stdout",
     "output_type": "stream",
     "text": [
      "MSG: $SYS/broker/connection/fhem1.local.hivemqbridge02/state b'0'\n",
      "MSG: $SYS/broker/connection/gobrain.broker-hivemq-com/state b'0'\n"
     ]
    },
    {
     "data": {
      "text/plain": [
       "(0, 74)"
      ]
     },
     "execution_count": 11,
     "metadata": {},
     "output_type": "execute_result"
    },
    {
     "name": "stdout",
     "output_type": "stream",
     "text": [
      "MSG: aidae/123456/SinSensor b'3.673284548595732'\n",
      "MSG: aidae/123456/SinSensor b'4.869239699747763'\n",
      "MSG: aidae/123456/SinSensor b'-2.1385842647705635'\n",
      "MSG: aidae/123456/SinSensor b'-5.026453323558153'\n",
      "MSG: aidae/123456/SinSensor b'-0.9507749156081562'\n",
      "MSG: aidae/123456/SinSensor b'4.222213332427871'\n",
      "MSG: aidae/123456/SinSensor b'3.5981894415857267'\n",
      "MSG: aidae/123456/SinSensor b'-2.125061265476417'\n",
      "MSG: aidae/123456/SinSensor b'-4.780097196887363'\n",
      "MSG: aidae/123456/SinSensor b'-0.8166698902128047'\n",
      "MSG: aidae/123456/SinSensor b'4.328595627816596'\n",
      "MSG: aidae/123456/SinSensor b'4.183003541990516'\n",
      "MSG: $SYS/broker/connection/fhem1.local.hivemqbridge02/state b'0'\n",
      "MSG: aidae/123456/SinSensor b'-2.469365844834252'\n",
      "MSG: aidae/123456/SinSensor b'-3.81763453781935'\n",
      "MSG: aidae/123456/SinSensor b'-0.6546795375013457'\n",
      "MSG: aidae/123456/SinSensor b'4.909057467772923'\n",
      "MSG: aidae/123456/SinSensor b'3.455731076484719'\n",
      "MSG: aidae/123456/SinSensor b'-2.2037045820391272'\n",
      "MSG: $SYS/broker/connection/gobrain.broker-hivemq-com/state b'0'\n",
      "MSG: aidae/123456/SinSensor b'-4.6234458736833925'\n",
      "MSG: aidae/123456/SinSensor b'0.060955083399420296'\n",
      "MSG: aidae/123456/SinSensor b'4.284923814240359'\n",
      "MSG: aidae/123456/SinSensor b'3.3615951135673425'\n",
      "MSG: aidae/123456/SinSensor b'-2.733464992049422'\n",
      "MSG: aidae/123456/SinSensor b'-5.147694116224944'\n",
      "MSG: aidae/123456/SinSensor b'-0.7774994999098997'\n",
      "MSG: aidae/123456/SinSensor b'5.677231133003672'\n",
      "MSG: aidae/123456/SinSensor b'3.1879414831234714'\n",
      "MSG: aidae/123456/SinSensor b'-1.3792193004392292'\n",
      "MSG: aidae/123456/SinSensor b'-4.3029776466654965'\n",
      "MSG: aidae/123456/SinSensor b'0.9108151752001057'\n"
     ]
    }
   ],
   "source": [
    "# The callback for when a PUBLISH message is received from the server.\n",
    "def on_message(client, userdata, msg):\n",
    "    print('MSG: '+msg.topic+\" \"+str(msg.payload))\n",
    "\n",
    "sensor_payloads = list()\n",
    "def on_message_store(client, userdata, msg):\n",
    "    if msg.topic == topic:\n",
    "        sensor_payloads.append(msg.payload)\n",
    "\n",
    "    on_message(client, userdata, msg)\n",
    "    \n",
    "client.on_message = on_message_store\n",
    "\n",
    "client.loop_start()\n",
    "\n",
    "time.sleep(1)\n",
    "\n",
    "publisher = PublishTimer(0.2, get_sensor_publish(client, SinSensor(), topic))\n",
    "publisher.start()\n",
    "\n",
    "client.subscribe(topic)"
   ]
  },
  {
   "cell_type": "code",
   "execution_count": 12,
   "metadata": {},
   "outputs": [
    {
     "name": "stdout",
     "output_type": "stream",
     "text": [
      "MSG: aidae/123456/SinSensor b'5.11827630547437'\n"
     ]
    }
   ],
   "source": [
    "publisher.cancel()\n",
    "client.unsubscribe(topic)\n",
    "client.loop_stop()"
   ]
  },
  {
   "cell_type": "code",
   "execution_count": 8,
   "metadata": {
    "scrolled": true
   },
   "outputs": [
    {
     "name": "stdout",
     "output_type": "stream",
     "text": [
      "MSG: $SYS/broker/connection/fhem1.local.hivemqbridge02/state b'0'\n",
      "MSG: $SYS/broker/connection/gobrain.broker-hivemq-com/state b'0'\n",
      "MSG: $SYS/broker/connection/fhem1.local.hivemqbridge02/state b'0'\n",
      "MSG: aidae/123456/SinSensor b'-0.29390087963237255'\n",
      "MSG: aidae/123456/SinSensor b'-5.511143923367505'\n",
      "MSG: aidae/123456/SinSensor b'-2.234135974063564'\n",
      "MSG: aidae/123456/SinSensor b'3.593571059582417'\n",
      "MSG: aidae/123456/SinSensor b'4.59541972071764'\n",
      "MSG: $SYS/broker/connection/fhem1.local.hivemqbridge02/state b'0'\n",
      "MSG: aidae/123456/SinSensor b'-0.8513746717617092'\n",
      "MSG: $SYS/broker/connection/gobrain.broker-hivemq-com/state b'0'\n",
      "MSG: aidae/123456/SinSensor b'-4.557018872604045'\n",
      "MSG: aidae/123456/SinSensor b'-1.3911118010542785'\n",
      "MSG: aidae/123456/SinSensor b'2.32087036110501'\n",
      "MSG: aidae/123456/SinSensor b'4.433068691623704'\n",
      "MSG: aidae/123456/SinSensor b'0.10965820374293433'\n",
      "MSG: aidae/123456/SinSensor b'-4.29968689102441'\n",
      "MSG: aidae/123456/SinSensor b'-3.32116535155615'\n",
      "MSG: aidae/123456/SinSensor b'3.782334855843312'\n",
      "MSG: aidae/123456/SinSensor b'4.558189052239494'\n",
      "MSG: aidae/123456/SinSensor b'-0.6522956361250173'\n",
      "MSG: aidae/123456/SinSensor b'-5.052063785104984'\n",
      "MSG: aidae/123456/SinSensor b'-2.4095671291868865'\n",
      "MSG: aidae/123456/SinSensor b'2.716674418203171'\n",
      "MSG: aidae/123456/SinSensor b'4.188078751653516'\n",
      "MSG: aidae/123456/SinSensor b'-1.6272331403296931'\n",
      "MSG: aidae/123456/SinSensor b'-4.602696278947167'\n",
      "MSG: aidae/123456/SinSensor b'-1.9574397254344273'\n",
      "MSG: aidae/123456/SinSensor b'3.6860266200887604'\n",
      "MSG: aidae/123456/SinSensor b'5.054574574825693'\n",
      "MSG: aidae/123456/SinSensor b'-1.6345223546519434'\n",
      "MSG: aidae/123456/SinSensor b'-5.0595987773971505'\n",
      "MSG: aidae/123456/SinSensor b'-1.5612509510101387'\n",
      "MSG: aidae/123456/SinSensor b'4.052564164564699'\n",
      "MSG: aidae/123456/SinSensor b'4.422498816819041'\n",
      "MSG: aidae/123456/SinSensor b'-2.0507248870855315'\n",
      "MSG: aidae/123456/SinSensor b'-5.455256796807356'\n",
      "MSG: aidae/123456/SinSensor b'-1.5682593390912507'\n",
      "MSG: aidae/123456/SinSensor b'4.208089846929343'\n",
      "MSG: $SYS/broker/connection/fhem1.local.hivemqbridge02/state b'0'\n",
      "MSG: aidae/123456/SinSensor b'4.616471626626585'\n",
      "MSG: aidae/123456/SinSensor b'-1.933443152033715'\n",
      "MSG: aidae/123456/SinSensor b'-5.399789082128911'\n",
      "MSG: aidae/123456/SinSensor b'-1.5144942151554173'\n",
      "MSG: aidae/123456/SinSensor b'3.6832618048777546'\n",
      "MSG: aidae/123456/SinSensor b'4.096256212855854'\n",
      "MSG: aidae/123456/SinSensor b'-1.0752770801259608'\n",
      "MSG: $SYS/broker/connection/gobrain.broker-hivemq-com/state b'0'\n",
      "MSG: aidae/123456/SinSensor b'-5.1148875579050435'\n",
      "MSG: aidae/123456/SinSensor b'-1.3764532701671006'\n",
      "MSG: aidae/123456/SinSensor b'4.428449872611119'\n",
      "MSG: aidae/123456/SinSensor b'3.5369954032632704'\n",
      "MSG: aidae/123456/SinSensor b'-1.5603059448481296'\n",
      "MSG: $SYS/broker/connection/566522NN.dfnalkfalkghalgnalgknalvjksfsjkl/state b'0'\n",
      "MSG: aidae/123456/SinSensor b'-5.170935139115846'\n",
      "MSG: aidae/123456/SinSensor b'-0.7942542455067343'\n",
      "MSG: aidae/123456/SinSensor b'4.010950217601557'\n",
      "MSG: aidae/123456/SinSensor b'3.0958268838043654'\n",
      "MSG: aidae/123456/SinSensor b'-2.61335377166554'\n",
      "MSG: aidae/123456/SinSensor b'-4.664771804840701'\n",
      "MSG: aidae/123456/SinSensor b'-0.6638042187481602'\n",
      "MSG: aidae/123456/SinSensor b'3.629440837443729'\n",
      "MSG: aidae/123456/SinSensor b'3.4491885405736644'\n",
      "MSG: aidae/123456/SinSensor b'-1.8247711775750683'\n",
      "MSG: aidae/123456/SinSensor b'-4.916002234540748'\n",
      "MSG: aidae/123456/SinSensor b'-0.6126054670756449'\n",
      "MSG: aidae/123456/SinSensor b'4.501530810877249'\n",
      "MSG: aidae/123456/SinSensor b'3.787741497841325'\n",
      "MSG: aidae/123456/SinSensor b'-3.214715629920921'\n",
      "MSG: aidae/123456/SinSensor b'-5.052576071848929'\n",
      "MSG: aidae/123456/SinSensor b'-0.3520468765426079'\n",
      "MSG: aidae/123456/SinSensor b'5.158016101967373'\n",
      "MSG: $SYS/broker/connection/fhem1.local.hivemqbridge02/state b'0'\n",
      "MSG: aidae/123456/SinSensor b'2.9346555534884335'\n",
      "MSG: $SYS/broker/connection/hyperion.bridge01/state b'0'\n",
      "MSG: aidae/123456/SinSensor b'-2.276989198983768'\n",
      "MSG: aidae/123456/SinSensor b'-5.575901189851776'\n",
      "MSG: aidae/123456/SinSensor b'0.2314459552537872'\n",
      "MSG: aidae/123456/SinSensor b'4.620917041475348'\n",
      "MSG: aidae/123456/SinSensor b'2.9970257271635377'\n",
      "MSG: aidae/123456/SinSensor b'-3.013333251492192'\n",
      "MSG: aidae/123456/SinSensor b'-4.989362783002603'\n",
      "MSG: aidae/123456/SinSensor b'0.01603108381870383'\n",
      "MSG: aidae/123456/SinSensor b'4.006522229164292'\n",
      "MSG: aidae/123456/SinSensor b'2.1198610115334366'\n",
      "MSG: aidae/123456/SinSensor b'-3.7529657032861405'\n",
      "MSG: $SYS/broker/connection/gobrain.broker-hivemq-com/state b'0'\n",
      "MSG: aidae/123456/SinSensor b'-4.92330699692593'\n",
      "MSG: aidae/123456/SinSensor b'-0.4920632047275637'\n",
      "MSG: aidae/123456/SinSensor b'4.606431891346942'\n",
      "MSG: aidae/123456/SinSensor b'2.1149721950882183'\n",
      "MSG: aidae/123456/SinSensor b'-2.69838963810198'\n",
      "MSG: aidae/123456/SinSensor b'-5.069361292848444'\n",
      "MSG: aidae/123456/SinSensor b'0.7665120316799916'\n",
      "MSG: aidae/123456/SinSensor b'5.513021690340742'\n",
      "MSG: aidae/123456/SinSensor b'2.6929680901494404'\n",
      "MSG: aidae/123456/SinSensor b'-3.8118397090394014'\n",
      "MSG: aidae/123456/SinSensor b'-4.8620801420831405'\n",
      "MSG: aidae/123456/SinSensor b'0.17481516367901145'\n",
      "MSG: aidae/123456/SinSensor b'5.26132063513978'\n",
      "MSG: aidae/123456/SinSensor b'2.2818693273228963'\n",
      "MSG: aidae/123456/SinSensor b'-3.1616212536230766'\n",
      "MSG: aidae/123456/SinSensor b'-3.9680299632299345'\n",
      "MSG: aidae/123456/SinSensor b'1.263713747434966'\n",
      "MSG: aidae/123456/SinSensor b'4.197940998562426'\n",
      "MSG: $SYS/broker/connection/fhem1.local.hivemqbridge02/state b'0'\n",
      "MSG: aidae/123456/SinSensor b'2.784250292221999'\n",
      "MSG: aidae/123456/SinSensor b'-4.017032285411666'\n",
      "MSG: aidae/123456/SinSensor b'-3.9792817475640008'\n",
      "MSG: aidae/123456/SinSensor b'0.7394360732762579'\n",
      "MSG: aidae/123456/SinSensor b'4.237097423265526'\n",
      "MSG: aidae/123456/SinSensor b'2.059908856493953'\n",
      "MSG: aidae/123456/SinSensor b'-3.5299783648341085'\n",
      "MSG: aidae/123456/SinSensor b'-4.660564615536906'\n",
      "MSG: aidae/123456/SinSensor b'1.1899318545139739'\n",
      "MSG: aidae/123456/SinSensor b'5.191365017697662'\n",
      "MSG: aidae/123456/SinSensor b'1.3927779346220832'\n",
      "MSG: aidae/123456/SinSensor b'-3.606214519130028'\n",
      "MSG: aidae/123456/SinSensor b'-4.43923168607059'\n",
      "MSG: aidae/123456/SinSensor b'1.1707192293640643'\n",
      "MSG: aidae/123456/SinSensor b'5.013968603203073'\n",
      "MSG: aidae/123456/SinSensor b'1.4963736456682444'\n",
      "MSG: aidae/123456/SinSensor b'-3.8093796632905024'\n",
      "MSG: $SYS/broker/connection/gobrain.broker-hivemq-com/state b'0'\n",
      "MSG: aidae/123456/SinSensor b'-4.262934601148862'\n",
      "MSG: aidae/123456/SinSensor b'0.8245827150396214'\n",
      "MSG: aidae/123456/SinSensor b'4.446259594319235'\n",
      "MSG: aidae/123456/SinSensor b'1.6530161775447458'\n",
      "MSG: aidae/123456/SinSensor b'-4.038523178242132'\n",
      "MSG: aidae/123456/SinSensor b'-4.261133294025557'\n",
      "MSG: aidae/123456/SinSensor b'1.1485054840331028'\n",
      "MSG: aidae/123456/SinSensor b'5.710252490195436'\n",
      "MSG: aidae/123456/SinSensor b'1.1569225342569558'\n",
      "MSG: aidae/123456/SinSensor b'-3.456624254850992'\n",
      "MSG: aidae/123456/SinSensor b'-3.6014591965716103'\n",
      "MSG: aidae/123456/SinSensor b'1.9362736404737309'\n",
      "MSG: aidae/123456/SinSensor b'5.163336182842284'\n",
      "MSG: $SYS/broker/connection/fhem1.local.hivemqbridge02/state b'0'\n",
      "MSG: aidae/123456/SinSensor b'1.4902316508996394'\n",
      "MSG: aidae/123456/SinSensor b'-4.336848503525473'\n",
      "MSG: aidae/123456/SinSensor b'-3.9327230445996144'\n",
      "MSG: aidae/123456/SinSensor b'1.8746663673510642'\n",
      "MSG: aidae/123456/SinSensor b'4.470860781112213'\n",
      "MSG: aidae/123456/SinSensor b'0.6081680729747135'\n",
      "MSG: aidae/123456/SinSensor b'-4.533735344132506'\n",
      "MSG: aidae/123456/SinSensor b'-4.6284768604436195'\n",
      "MSG: aidae/123456/SinSensor b'2.696803708072774'\n",
      "MSG: aidae/123456/SinSensor b'4.540380623553295'\n",
      "MSG: aidae/123456/SinSensor b'1.2497972521203795'\n",
      "MSG: aidae/123456/SinSensor b'-4.12293415173911'\n",
      "MSG: aidae/123456/SinSensor b'-3.5377995570721854'\n",
      "MSG: aidae/123456/SinSensor b'1.436659033425363'\n",
      "MSG: aidae/123456/SinSensor b'4.8278325531461'\n",
      "MSG: aidae/123456/SinSensor b'1.277508691574306'\n",
      "MSG: aidae/123456/SinSensor b'-3.5930317763454767'\n",
      "MSG: aidae/123456/SinSensor b'-3.604149466743977'\n",
      "MSG: aidae/123456/SinSensor b'2.2215480442063362'\n",
      "MSG: aidae/123456/SinSensor b'4.355833533314232'\n",
      "MSG: aidae/123456/SinSensor b'0.16702292012746478'\n",
      "MSG: aidae/123456/SinSensor b'-3.8519734177623723'\n",
      "MSG: $SYS/broker/connection/gobrain.broker-hivemq-com/state b'0'\n",
      "MSG: aidae/123456/SinSensor b'-4.110676493434215'\n"
     ]
    },
    {
     "name": "stdout",
     "output_type": "stream",
     "text": [
      "MSG: aidae/123456/SinSensor b'2.6407172437840725'\n",
      "MSG: aidae/123456/SinSensor b'5.059980351872968'\n",
      "MSG: aidae/123456/SinSensor b'0.08301257704204751'\n",
      "MSG: aidae/123456/SinSensor b'-5.0974365543365945'\n",
      "MSG: aidae/123456/SinSensor b'-3.4681165954103355'\n",
      "MSG: aidae/123456/SinSensor b'3.25198254023815'\n",
      "MSG: aidae/123456/SinSensor b'4.70372371598916'\n",
      "MSG: $SYS/broker/connection/fhem1.local.hivemqbridge02/state b'0'\n",
      "MSG: aidae/123456/SinSensor b'0.23368765579029507'\n",
      "MSG: aidae/123456/SinSensor b'-4.956001680955503'\n",
      "MSG: aidae/123456/SinSensor b'-2.53774690546089'\n",
      "MSG: aidae/123456/SinSensor b'2.4192364194508174'\n",
      "MSG: aidae/123456/SinSensor b'4.285606016923127'\n",
      "MSG: aidae/123456/SinSensor b'-0.11277942324041382'\n",
      "MSG: aidae/123456/SinSensor b'-4.488850640555201'\n",
      "MSG: aidae/123456/SinSensor b'-3.120334437693564'\n",
      "MSG: aidae/123456/SinSensor b'3.111279168106873'\n",
      "MSG: aidae/123456/SinSensor b'4.778464644096858'\n",
      "MSG: aidae/123456/SinSensor b'-0.057693670986948324'\n",
      "MSG: aidae/123456/SinSensor b'-5.179476525402635'\n",
      "MSG: aidae/123456/SinSensor b'-2.6815263995813114'\n",
      "MSG: aidae/123456/SinSensor b'3.2955926846335797'\n",
      "MSG: aidae/123456/SinSensor b'4.780022960138882'\n",
      "MSG: aidae/123456/SinSensor b'-0.7348340306035801'\n",
      "MSG: aidae/123456/SinSensor b'-5.3667023435686465'\n",
      "MSG: aidae/123456/SinSensor b'-2.6178228871872475'\n",
      "MSG: aidae/123456/SinSensor b'2.7284573632823337'\n",
      "MSG: aidae/123456/SinSensor b'4.964960485188993'\n",
      "MSG: aidae/123456/SinSensor b'0.011165893477835198'\n",
      "MSG: aidae/123456/SinSensor b'-4.820281762023903'\n",
      "MSG: aidae/123456/SinSensor b'-2.950585522586183'\n",
      "MSG: aidae/123456/SinSensor b'3.958311528415819'\n",
      "MSG: aidae/123456/SinSensor b'4.488618064501373'\n",
      "MSG: aidae/123456/SinSensor b'-0.6894789779186946'\n",
      "MSG: $SYS/broker/connection/gobrain.broker-hivemq-com/state b'0'\n",
      "MSG: aidae/123456/SinSensor b'-4.972315625058218'\n",
      "MSG: aidae/123456/SinSensor b'-2.2517790103097313'\n",
      "MSG: aidae/123456/SinSensor b'3.4192724429677614'\n",
      "MSG: aidae/123456/SinSensor b'3.7461794709282588'\n",
      "MSG: $SYS/broker/connection/fhem1.local.hivemqbridge02/state b'0'\n",
      "MSG: aidae/123456/SinSensor b'-0.5137347968395283'\n",
      "MSG: aidae/123456/SinSensor b'-5.134835075716382'\n",
      "MSG: aidae/123456/SinSensor b'-2.3408947446689075'\n",
      "MSG: aidae/123456/SinSensor b'3.5029617368456463'\n",
      "MSG: aidae/123456/SinSensor b'4.376624852137491'\n",
      "MSG: aidae/123456/SinSensor b'-1.3540386021843656'\n",
      "MSG: aidae/123456/SinSensor b'-5.239944111522656'\n",
      "MSG: aidae/123456/SinSensor b'-1.8568073531037843'\n",
      "MSG: aidae/123456/SinSensor b'4.057852729408128'\n",
      "MSG: aidae/123456/SinSensor b'3.9360139069529185'\n",
      "MSG: aidae/123456/SinSensor b'-1.650852097441125'\n",
      "MSG: aidae/123456/SinSensor b'-4.399769632346689'\n",
      "MSG: aidae/123456/SinSensor b'-1.958201507270261'\n",
      "MSG: aidae/123456/SinSensor b'3.541732126284623'\n",
      "MSG: aidae/123456/SinSensor b'4.453159719834179'\n",
      "MSG: aidae/123456/SinSensor b'-0.8889483249074756'\n",
      "MSG: $SYS/broker/connection/566522NN.dfnalkfalkghalgnalgknalvjksfsjkl/state b'0'\n",
      "MSG: aidae/123456/SinSensor b'-4.689271220396179'\n",
      "MSG: aidae/123456/SinSensor b'-1.7642385928999234'\n",
      "MSG: aidae/123456/SinSensor b'4.26913142162146'\n",
      "MSG: aidae/123456/SinSensor b'4.373130479588445'\n",
      "MSG: aidae/123456/SinSensor b'-1.3309758890242687'\n",
      "MSG: aidae/123456/SinSensor b'-5.2557530939271135'\n",
      "MSG: aidae/123456/SinSensor b'-2.327865073625892'\n",
      "MSG: aidae/123456/SinSensor b'4.212903912711318'\n",
      "MSG: aidae/123456/SinSensor b'4.967703691962171'\n",
      "MSG: aidae/123456/SinSensor b'-1.3111243563101798'\n",
      "MSG: aidae/123456/SinSensor b'-5.384306099519253'\n",
      "MSG: aidae/123456/SinSensor b'-1.8540286832415824'\n",
      "MSG: aidae/123456/SinSensor b'4.604222201313444'\n",
      "MSG: $SYS/broker/connection/fhem1.local.hivemqbridge02/state b'0'\n",
      "MSG: aidae/123456/SinSensor b'5.067895115540413'\n",
      "MSG: aidae/123456/SinSensor b'-1.2578409970674818'\n",
      "MSG: $SYS/broker/connection/gobrain.broker-hivemq-com/state b'0'\n",
      "MSG: aidae/123456/SinSensor b'-4.903103089043157'\n",
      "MSG: aidae/123456/SinSensor b'-1.8839039742821342'\n",
      "MSG: aidae/123456/SinSensor b'3.6958576150336464'\n",
      "MSG: aidae/123456/SinSensor b'3.2883144653115632'\n",
      "MSG: aidae/123456/SinSensor b'-1.639596798198313'\n",
      "MSG: $SYS/broker/connection/hyperion.bridge01/state b'0'\n",
      "MSG: aidae/123456/SinSensor b'-5.719759240564262'\n",
      "MSG: aidae/123456/SinSensor b'-1.109833322523415'\n",
      "MSG: aidae/123456/SinSensor b'4.955452097824484'\n",
      "MSG: aidae/123456/SinSensor b'3.7762522430923617'\n",
      "MSG: aidae/123456/SinSensor b'-1.5406856151114616'\n",
      "MSG: aidae/123456/SinSensor b'-4.522465420209579'\n",
      "MSG: aidae/123456/SinSensor b'-0.9704466139438179'\n",
      "MSG: aidae/123456/SinSensor b'4.908012448554078'\n",
      "MSG: aidae/123456/SinSensor b'4.016505628068667'\n",
      "MSG: aidae/123456/SinSensor b'-3.245218844179414'\n",
      "MSG: aidae/123456/SinSensor b'-4.274457067947977'\n",
      "MSG: aidae/123456/SinSensor b'-0.32146259510782194'\n",
      "MSG: aidae/123456/SinSensor b'4.876901135167539'\n",
      "MSG: aidae/123456/SinSensor b'3.7990488278632677'\n",
      "MSG: aidae/123456/SinSensor b'-2.1238969970366797'\n",
      "MSG: aidae/123456/SinSensor b'-4.3084086269601025'\n",
      "MSG: aidae/123456/SinSensor b'-1.4648397758960245'\n",
      "MSG: aidae/123456/SinSensor b'3.5846047696853542'\n",
      "MSG: aidae/123456/SinSensor b'3.2525190373307553'\n",
      "MSG: aidae/123456/SinSensor b'-1.9723719206319843'\n",
      "MSG: aidae/123456/SinSensor b'-4.604849579742054'\n",
      "MSG: aidae/123456/SinSensor b'-0.1573431115628764'\n",
      "MSG: aidae/123456/SinSensor b'5.1213412694354234'\n",
      "MSG: aidae/123456/SinSensor b'3.8210724919374046'\n",
      "MSG: $SYS/broker/connection/fhem1.local.hivemqbridge02/state b'0'\n",
      "MSG: aidae/123456/SinSensor b'-3.0670390774910867'\n",
      "MSG: aidae/123456/SinSensor b'-5.320836610633153'\n",
      "MSG: aidae/123456/SinSensor b'-0.14406007530297243'\n",
      "MSG: aidae/123456/SinSensor b'3.5670713725822742'\n",
      "MSG: aidae/123456/SinSensor b'2.901653172966668'\n",
      "MSG: aidae/123456/SinSensor b'-2.8534382830807825'\n",
      "MSG: $SYS/broker/connection/gobrain.broker-hivemq-com/state b'0'\n",
      "MSG: aidae/123456/SinSensor b'-4.989347529148496'\n",
      "MSG: aidae/123456/SinSensor b'0.013467383528169868'\n",
      "MSG: aidae/123456/SinSensor b'4.732588636316686'\n",
      "MSG: aidae/123456/SinSensor b'3.19728062770184'\n",
      "MSG: aidae/123456/SinSensor b'-2.683092139370669'\n",
      "MSG: aidae/123456/SinSensor b'-5.003201909710814'\n",
      "MSG: aidae/123456/SinSensor b'0.8032967350017186'\n",
      "MSG: aidae/123456/SinSensor b'5.161214164610974'\n",
      "MSG: aidae/123456/SinSensor b'2.9420260718763327'\n",
      "MSG: aidae/123456/SinSensor b'-2.3067139273244055'\n",
      "MSG: aidae/123456/SinSensor b'-4.675336107655526'\n",
      "MSG: aidae/123456/SinSensor b'0.4234732155353622'\n",
      "MSG: aidae/123456/SinSensor b'5.532273454867919'\n",
      "MSG: aidae/123456/SinSensor b'3.4995960367620933'\n",
      "MSG: aidae/123456/SinSensor b'-2.515608502619591'\n",
      "MSG: aidae/123456/SinSensor b'-4.6154531019407194'\n",
      "MSG: aidae/123456/SinSensor b'0.5642071057826585'\n",
      "MSG: aidae/123456/SinSensor b'4.426249440337526'\n",
      "MSG: aidae/123456/SinSensor b'2.938554821277524'\n",
      "MSG: aidae/123456/SinSensor b'-2.972329184271821'\n",
      "MSG: aidae/123456/SinSensor b'-4.427217906749748'\n",
      "MSG: aidae/123456/SinSensor b'0.6022522572104512'\n",
      "MSG: aidae/123456/SinSensor b'5.107602990004159'\n",
      "MSG: $SYS/broker/connection/fhem1.local.hivemqbridge02/state b'0'\n",
      "MSG: aidae/123456/SinSensor b'2.442151429970686'\n",
      "MSG: aidae/123456/SinSensor b'-3.5861535949861176'\n",
      "MSG: aidae/123456/SinSensor b'-4.744880091889402'\n",
      "MSG: aidae/123456/SinSensor b'0.13422530199479'\n",
      "MSG: aidae/123456/SinSensor b'5.112680282165407'\n",
      "MSG: aidae/123456/SinSensor b'1.834584233644319'\n",
      "MSG: aidae/123456/SinSensor b'-3.837178237453142'\n",
      "MSG: aidae/123456/SinSensor b'-4.543414947191668'\n",
      "MSG: aidae/123456/SinSensor b'1.6830080475297964'\n",
      "MSG: aidae/123456/SinSensor b'4.694249135105034'\n",
      "MSG: aidae/123456/SinSensor b'3.209693896858653'\n",
      "MSG: aidae/123456/SinSensor b'-3.319984990752687'\n",
      "MSG: $SYS/broker/connection/gobrain.broker-hivemq-com/state b'0'\n",
      "MSG: aidae/123456/SinSensor b'-3.7320121011321357'\n",
      "MSG: aidae/123456/SinSensor b'0.910911352887048'\n",
      "MSG: aidae/123456/SinSensor b'5.561133297231262'\n",
      "MSG: aidae/123456/SinSensor b'2.5433909201141027'\n",
      "MSG: aidae/123456/SinSensor b'-4.482312693747656'\n",
      "MSG: aidae/123456/SinSensor b'-3.7918035588368197'\n",
      "MSG: aidae/123456/SinSensor b'1.4497825064795458'\n",
      "MSG: aidae/123456/SinSensor b'5.032898531812636'\n",
      "MSG: aidae/123456/SinSensor b'1.2973579598490428'\n",
      "MSG: aidae/123456/SinSensor b'-3.3206416458531254'\n",
      "MSG: aidae/123456/SinSensor b'-4.2283359479400895'\n",
      "MSG: aidae/123456/SinSensor b'0.523611610907841'\n",
      "MSG: aidae/123456/SinSensor b'5.075293821276331'\n"
     ]
    },
    {
     "name": "stdout",
     "output_type": "stream",
     "text": [
      "Over!\n"
     ]
    }
   ],
   "source": [
    "payloads = list()\n",
    "class AcquisitionTimer():\n",
    "    def __init__(self, length, client, topic, publisher):\n",
    "        self.length = length\n",
    "        self.client = client\n",
    "        self.topic = topic\n",
    "        self.publisher = publisher\n",
    "\n",
    "        curr_on_message = client.on_message\n",
    "        def on_message_store(client, userdata, msg):\n",
    "            if msg.topic == topic:\n",
    "                payloads.append(msg.payload)\n",
    "\n",
    "            curr_on_message(client, userdata, msg)\n",
    "\n",
    "        self.client.on_message = on_message_store\n",
    "        \n",
    "        self.stop_thread = Timer(self.length, self._cancel)\n",
    "    \n",
    "    def start(self):\n",
    "        self.client.loop_start()\n",
    "\n",
    "        self.publisher.start()\n",
    "\n",
    "        self.client.subscribe(self.topic)\n",
    "        \n",
    "        self.stop_thread.start()\n",
    "        \n",
    "    def cancel(self):\n",
    "        self.stop_thread.cancel()\n",
    "        self._cancel()\n",
    "\n",
    "    def _cancel(self):\n",
    "        self.publisher.cancel()\n",
    "        self.client.unsubscribe(self.topic)\n",
    "        self.client.loop_stop()\n",
    "        print('Over!')\n",
    "\n",
    "acq = AcquisitionTimer(60, client, topic, PublishTimer(0.2, get_sensor_publish(client, SinSensor(), topic)))\n",
    "acq.start()"
   ]
  },
  {
   "cell_type": "code",
   "execution_count": 55,
   "metadata": {},
   "outputs": [
    {
     "name": "stdout",
     "output_type": "stream",
     "text": [
      "MSG: aidae/123456/SinSensor b'-5.095418896653654'\n",
      "MSG: aidae/123456/SinSensor b'-5.041254148320705'\n",
      "Over!\n"
     ]
    }
   ],
   "source": [
    "acq.cancel()"
   ]
  },
  {
   "cell_type": "code",
   "execution_count": 61,
   "metadata": {},
   "outputs": [
    {
     "data": {
      "image/png": "[encoded data removed]",
      "text/plain": [
       "<Figure size 432x288 with 1 Axes>"
      ]
     },
     "metadata": {
      "needs_background": "light"
     },
     "output_type": "display_data"
    }
   ],
   "source": [
    "time_index = np.linspace(0, len(payloads)*0.2, len(payloads), endpoint=False)\n",
    "\n",
    "sensor_data = [float(payload) for payload in payloads]\n",
    "\n",
    "data = pd.Series(sensor_data, index=time_index)\n",
    "\n",
    "data.plot()\n",
    "plt.show()"
   ]
  },
  {
   "cell_type": "code",
   "execution_count": 34,
   "metadata": {},
   "outputs": [
    {
     "data": {
      "text/plain": [
       "0"
      ]
     },
     "execution_count": 34,
     "metadata": {},
     "output_type": "execute_result"
    }
   ],
   "source": [
    "client.disconnect()"
   ]
  },
  {
   "cell_type": "markdown",
   "metadata": {},
   "source": [
    "## Task 1 (continuation)\n",
    "\n",
    "### d) and e)"
   ]
  },
  {
   "cell_type": "code",
   "execution_count": 35,
   "metadata": {},
   "outputs": [
    {
     "data": {
      "text/plain": [
       "<sqlite3.Cursor at 0x7fd8368293b0>"
      ]
     },
     "execution_count": 35,
     "metadata": {},
     "output_type": "execute_result"
    }
   ],
   "source": [
    "conn = sqlite3.connect(db_path)\n",
    "\n",
    "c = conn.cursor()\n",
    "\n",
    "c"
   ]
  },
  {
   "cell_type": "code",
   "execution_count": 37,
   "metadata": {},
   "outputs": [
    {
     "data": {
      "text/plain": [
       "[(0, 'sensorid', 'real', 0, None, 0),\n",
       " (1, 'sensor_type', 'text', 0, None, 0),\n",
       " (2, 'channel', 'text', 0, None, 0)]"
      ]
     },
     "execution_count": 37,
     "metadata": {},
     "output_type": "execute_result"
    }
   ],
   "source": [
    "c.execute(\"PRAGMA table_info(sensors)\")\n",
    "\n",
    "c.fetchall()"
   ]
  },
  {
   "cell_type": "code",
   "execution_count": 54,
   "metadata": {},
   "outputs": [],
   "source": [
    "# ensures sensorid will be unique\n",
    "c.execute(\"CREATE UNIQUE INDEX sensoridx ON sensors(sensorid)\")\n",
    "\n",
    "conn.commit()"
   ]
  },
  {
   "cell_type": "code",
   "execution_count": 49,
   "metadata": {},
   "outputs": [
    {
     "data": {
      "text/plain": [
       "[(0.0, 'Accelerometer', 'x'),\n",
       " (1.0, 'Accelerometer', 'y'),\n",
       " (2.0, 'Accelerometer', 'z'),\n",
       " (3.0, 'Gyroscope', 'x'),\n",
       " (4.0, 'Gyroscope', 'y'),\n",
       " (5.0, 'Gyroscope', 'z'),\n",
       " (6.0, 'Magnetometer', 'x'),\n",
       " (7.0, 'Magnetometer', 'y'),\n",
       " (8.0, 'Magnetometer', 'z'),\n",
       " (9.0, 'Gravity', 'x'),\n",
       " (10.0, 'Gravity', 'y'),\n",
       " (11.0, 'LinearAcceleration', 'x'),\n",
       " (12.0, 'LinearAcceleration', 'y'),\n",
       " (13.0, 'Gravity', 'z'),\n",
       " (14.0, 'RotationVector', 'x'),\n",
       " (15.0, 'LinearAcceleration', 'z'),\n",
       " (16.0, 'RotationVector', 'y'),\n",
       " (17.0, 'RotationVector', 'z'),\n",
       " (18.0, 'noise', 'decibels')]"
      ]
     },
     "execution_count": 49,
     "metadata": {},
     "output_type": "execute_result"
    }
   ],
   "source": [
    "c.execute(\"SELECT * FROM sensors\")\n",
    "\n",
    "c.fetchall()"
   ]
  },
  {
   "cell_type": "code",
   "execution_count": 51,
   "metadata": {},
   "outputs": [
    {
     "data": {
      "text/plain": [
       "[(0.0, 'Accelerometer', 'x'),\n",
       " (1.0, 'Accelerometer', 'y'),\n",
       " (2.0, 'Accelerometer', 'z'),\n",
       " (3.0, 'Gyroscope', 'x'),\n",
       " (4.0, 'Gyroscope', 'y'),\n",
       " (5.0, 'Gyroscope', 'z'),\n",
       " (6.0, 'Magnetometer', 'x'),\n",
       " (7.0, 'Magnetometer', 'y'),\n",
       " (8.0, 'Magnetometer', 'z'),\n",
       " (9.0, 'Gravity', 'x'),\n",
       " (10.0, 'Gravity', 'y'),\n",
       " (11.0, 'LinearAcceleration', 'x'),\n",
       " (12.0, 'LinearAcceleration', 'y'),\n",
       " (13.0, 'Gravity', 'z'),\n",
       " (14.0, 'RotationVector', 'x'),\n",
       " (15.0, 'LinearAcceleration', 'z'),\n",
       " (16.0, 'RotationVector', 'y'),\n",
       " (17.0, 'RotationVector', 'z'),\n",
       " (18.0, 'noise', 'decibels'),\n",
       " (19.0, 'SimulatedSensor', 'value')]"
      ]
     },
     "execution_count": 51,
     "metadata": {},
     "output_type": "execute_result"
    }
   ],
   "source": [
    "c.execute(\"REPLACE INTO sensors VALUES (19.0, 'SimulatedSensor', 'value')\")\n",
    "\n",
    "conn.commit()\n",
    "\n",
    "c.execute(\"SELECT * FROM sensors\")\n",
    "\n",
    "c.fetchall()"
   ]
  },
  {
   "cell_type": "code",
   "execution_count": 55,
   "metadata": {},
   "outputs": [
    {
     "data": {
      "text/plain": [
       "[(0, 'sensorid', 'real', 0, None, 0),\n",
       " (1, 'timestamp', 'real', 0, None, 0),\n",
       " (2, 'data', 'real', 0, None, 0)]"
      ]
     },
     "execution_count": 55,
     "metadata": {},
     "output_type": "execute_result"
    }
   ],
   "source": [
    "c.execute(\"PRAGMA table_info(measurements)\")\n",
    "\n",
    "c.fetchall()"
   ]
  },
  {
   "cell_type": "markdown",
   "metadata": {},
   "source": [
    "Skipped the insertion of 200 data points."
   ]
  },
  {
   "cell_type": "code",
   "execution_count": 67,
   "metadata": {},
   "outputs": [
    {
     "data": {
      "text/html": [
       "<div>\n",
       "<style scoped>\n",
       "    .dataframe tbody tr th:only-of-type {\n",
       "        vertical-align: middle;\n",
       "    }\n",
       "\n",
       "    .dataframe tbody tr th {\n",
       "        vertical-align: top;\n",
       "    }\n",
       "\n",
       "    .dataframe thead th {\n",
       "        text-align: right;\n",
       "    }\n",
       "</style>\n",
       "<table border=\"1\" class=\"dataframe\">\n",
       "  <thead>\n",
       "    <tr style=\"text-align: right;\">\n",
       "      <th></th>\n",
       "      <th>timestamp</th>\n",
       "      <th>data</th>\n",
       "      <th>sensorid</th>\n",
       "    </tr>\n",
       "  </thead>\n",
       "  <tbody>\n",
       "    <tr>\n",
       "      <th>0</th>\n",
       "      <td>1.590141e+09</td>\n",
       "      <td>-0.293901</td>\n",
       "      <td>19.0</td>\n",
       "    </tr>\n",
       "    <tr>\n",
       "      <th>1</th>\n",
       "      <td>1.590141e+09</td>\n",
       "      <td>-5.511144</td>\n",
       "      <td>19.0</td>\n",
       "    </tr>\n",
       "    <tr>\n",
       "      <th>2</th>\n",
       "      <td>1.590141e+09</td>\n",
       "      <td>-2.234136</td>\n",
       "      <td>19.0</td>\n",
       "    </tr>\n",
       "    <tr>\n",
       "      <th>3</th>\n",
       "      <td>1.590141e+09</td>\n",
       "      <td>3.593571</td>\n",
       "      <td>19.0</td>\n",
       "    </tr>\n",
       "    <tr>\n",
       "      <th>4</th>\n",
       "      <td>1.590141e+09</td>\n",
       "      <td>4.595420</td>\n",
       "      <td>19.0</td>\n",
       "    </tr>\n",
       "  </tbody>\n",
       "</table>\n",
       "</div>"
      ],
      "text/plain": [
       "      timestamp      data  sensorid\n",
       "0  1.590141e+09 -0.293901      19.0\n",
       "1  1.590141e+09 -5.511144      19.0\n",
       "2  1.590141e+09 -2.234136      19.0\n",
       "3  1.590141e+09  3.593571      19.0\n",
       "4  1.590141e+09  4.595420      19.0"
      ]
     },
     "execution_count": 67,
     "metadata": {},
     "output_type": "execute_result"
    }
   ],
   "source": [
    "df_data = pd.DataFrame(data)\n",
    "\n",
    "# so it fits the `timestamp` columns of the DB\n",
    "df_data.index = data.index + time.time()\n",
    "\n",
    "df_data = df_data.reset_index()\n",
    "\n",
    "df_data = df_data.rename({0: 'data', 'index': 'timestamp'}, axis='columns')\n",
    "\n",
    "df_data['sensorid'] = 19.0\n",
    "\n",
    "df_data.head()"
   ]
  },
  {
   "cell_type": "code",
   "execution_count": 71,
   "metadata": {},
   "outputs": [
    {
     "data": {
      "text/plain": [
       "[(19.0, 1590141188.7267096, 4.453159719834179),\n",
       " (19.0, 1590141188.9267097, -0.8889483249074756),\n",
       " (19.0, 1590141189.1267097, -4.689271220396179),\n",
       " (19.0, 1590141189.3267097, -1.7642385928999234),\n",
       " (19.0, 1590141189.5267098, 4.26913142162146),\n",
       " (19.0, 1590141189.7267096, 4.373130479588445),\n",
       " (19.0, 1590141189.9267097, -1.3309758890242687),\n",
       " (19.0, 1590141190.1267097, -5.2557530939271135),\n",
       " (19.0, 1590141190.3267097, -2.327865073625892),\n",
       " (19.0, 1590141190.5267098, 4.212903912711318),\n",
       " (19.0, 1590141190.7267096, 4.967703691962171),\n",
       " (19.0, 1590141190.9267097, -1.3111243563101798),\n",
       " (19.0, 1590141191.1267097, -5.384306099519253),\n",
       " (19.0, 1590141191.3267097, -1.8540286832415824),\n",
       " (19.0, 1590141191.5267098, 4.604222201313444),\n",
       " (19.0, 1590141191.7267096, 5.067895115540413),\n",
       " (19.0, 1590141191.9267097, -1.2578409970674818),\n",
       " (19.0, 1590141192.1267097, -4.903103089043157),\n",
       " (19.0, 1590141192.3267097, -1.8839039742821342),\n",
       " (19.0, 1590141192.5267098, 3.6958576150336464),\n",
       " (19.0, 1590141192.7267096, 3.2883144653115632),\n",
       " (19.0, 1590141192.9267097, -1.639596798198313),\n",
       " (19.0, 1590141193.1267097, -5.719759240564262),\n",
       " (19.0, 1590141193.3267097, -1.109833322523415),\n",
       " (19.0, 1590141193.5267098, 4.955452097824484),\n",
       " (19.0, 1590141193.7267096, 3.7762522430923617),\n",
       " (19.0, 1590141193.9267097, -1.5406856151114616),\n",
       " (19.0, 1590141194.1267097, -4.522465420209579),\n",
       " (19.0, 1590141194.3267097, -0.9704466139438179),\n",
       " (19.0, 1590141194.5267098, 4.908012448554078),\n",
       " (19.0, 1590141194.7267096, 4.016505628068667),\n",
       " (19.0, 1590141194.9267097, -3.245218844179414),\n",
       " (19.0, 1590141195.1267097, -4.274457067947977),\n",
       " (19.0, 1590141195.3267097, -0.32146259510782194),\n",
       " (19.0, 1590141195.5267098, 4.876901135167539),\n",
       " (19.0, 1590141195.7267096, 3.7990488278632677),\n",
       " (19.0, 1590141195.9267097, -2.1238969970366797),\n",
       " (19.0, 1590141196.1267097, -4.3084086269601025),\n",
       " (19.0, 1590141196.3267097, -1.4648397758960245),\n",
       " (19.0, 1590141196.5267098, 3.5846047696853542),\n",
       " (19.0, 1590141196.7267096, 3.2525190373307553),\n",
       " (19.0, 1590141196.9267097, -1.9723719206319843),\n",
       " (19.0, 1590141197.1267097, -4.604849579742054),\n",
       " (19.0, 1590141197.3267097, -0.1573431115628764),\n",
       " (19.0, 1590141197.5267098, 5.1213412694354234),\n",
       " (19.0, 1590141197.7267096, 3.8210724919374046),\n",
       " (19.0, 1590141197.9267097, -3.0670390774910867),\n",
       " (19.0, 1590141198.1267097, -5.320836610633153),\n",
       " (19.0, 1590141198.3267097, -0.14406007530297243),\n",
       " (19.0, 1590141198.5267098, 3.5670713725822742),\n",
       " (19.0, 1590141198.7267096, 2.901653172966668),\n",
       " (19.0, 1590141198.9267097, -2.8534382830807825),\n",
       " (19.0, 1590141199.1267097, -4.989347529148496),\n",
       " (19.0, 1590141199.3267097, 0.013467383528169868),\n",
       " (19.0, 1590141199.5267098, 4.732588636316686),\n",
       " (19.0, 1590141199.7267096, 3.19728062770184),\n",
       " (19.0, 1590141199.9267097, -2.683092139370669),\n",
       " (19.0, 1590141200.1267097, -5.003201909710814),\n",
       " (19.0, 1590141200.3267097, 0.8032967350017186),\n",
       " (19.0, 1590141200.5267098, 5.161214164610974),\n",
       " (19.0, 1590141200.7267096, 2.9420260718763327),\n",
       " (19.0, 1590141200.9267097, -2.3067139273244055),\n",
       " (19.0, 1590141201.1267097, -4.675336107655526),\n",
       " (19.0, 1590141201.3267097, 0.4234732155353622),\n",
       " (19.0, 1590141201.5267098, 5.532273454867919),\n",
       " (19.0, 1590141201.7267096, 3.4995960367620933),\n",
       " (19.0, 1590141201.9267097, -2.515608502619591),\n",
       " (19.0, 1590141202.1267097, -4.6154531019407194),\n",
       " (19.0, 1590141202.3267097, 0.5642071057826585),\n",
       " (19.0, 1590141202.5267098, 4.426249440337526),\n",
       " (19.0, 1590141202.7267096, 2.938554821277524),\n",
       " (19.0, 1590141202.9267097, -2.972329184271821),\n",
       " (19.0, 1590141203.1267097, -4.427217906749748),\n",
       " (19.0, 1590141203.3267097, 0.6022522572104512),\n",
       " (19.0, 1590141203.5267098, 5.107602990004159),\n",
       " (19.0, 1590141203.7267096, 2.442151429970686),\n",
       " (19.0, 1590141203.9267097, -3.5861535949861176),\n",
       " (19.0, 1590141204.1267097, -4.744880091889402),\n",
       " (19.0, 1590141204.3267097, 0.13422530199479),\n",
       " (19.0, 1590141204.5267098, 5.112680282165407),\n",
       " (19.0, 1590141204.7267096, 1.834584233644319),\n",
       " (19.0, 1590141204.9267097, -3.837178237453142),\n",
       " (19.0, 1590141205.1267097, -4.543414947191668),\n",
       " (19.0, 1590141205.3267097, 1.6830080475297964),\n",
       " (19.0, 1590141205.5267098, 4.694249135105034),\n",
       " (19.0, 1590141205.7267096, 3.209693896858653),\n",
       " (19.0, 1590141205.9267097, -3.319984990752687),\n",
       " (19.0, 1590141206.1267097, -3.7320121011321357),\n",
       " (19.0, 1590141206.3267097, 0.910911352887048),\n",
       " (19.0, 1590141206.5267098, 5.561133297231262),\n",
       " (19.0, 1590141206.7267096, 2.5433909201141027),\n",
       " (19.0, 1590141206.9267097, -4.482312693747656),\n",
       " (19.0, 1590141207.1267097, -3.7918035588368197),\n",
       " (19.0, 1590141207.3267097, 1.4497825064795458),\n",
       " (19.0, 1590141207.5267098, 5.032898531812636),\n",
       " (19.0, 1590141207.7267096, 1.2973579598490428),\n",
       " (19.0, 1590141207.9267097, -3.3206416458531254),\n",
       " (19.0, 1590141208.1267097, -4.2283359479400895),\n",
       " (19.0, 1590141208.3267097, 0.523611610907841),\n",
       " (19.0, 1590141208.5267098, 5.075293821276331)]"
      ]
     },
     "execution_count": 71,
     "metadata": {},
     "output_type": "execute_result"
    }
   ],
   "source": [
    "df_data.to_sql(name='measurements', con=conn, if_exists='append', index=False)\n",
    "\n",
    "c.execute(\"SELECT * FROM measurements\")\n",
    "\n",
    "c.fetchall()[-100:]"
   ]
  },
  {
   "cell_type": "code",
   "execution_count": 72,
   "metadata": {},
   "outputs": [],
   "source": [
    "conn.close()"
   ]
  },
  {
   "cell_type": "markdown",
   "metadata": {},
   "source": [
    "## Task 2 (continuation)\n",
    "\n",
    "### d)"
   ]
  },
  {
   "cell_type": "code",
   "execution_count": 82,
   "metadata": {},
   "outputs": [
    {
     "data": {
      "text/plain": [
       "33"
      ]
     },
     "execution_count": 82,
     "metadata": {},
     "output_type": "execute_result"
    }
   ],
   "source": [
    "conn = TinyDB(json_path)\n",
    "\n",
    "all_docs = conn.all()\n",
    "\n",
    "len(all_docs)"
   ]
  },
  {
   "cell_type": "code",
   "execution_count": 83,
   "metadata": {},
   "outputs": [
    {
     "data": {
      "text/plain": [
       "[{'type': 'sensor', 'sensor_type': 'RotationVector', 'channel': 'x'},\n",
       " {'type': 'sensor', 'sensor_type': 'LinearAcceleration', 'channel': 'z'},\n",
       " {'type': 'sensor', 'sensor_type': 'RotationVector', 'channel': 'y'},\n",
       " {'type': 'sensor', 'sensor_type': 'RotationVector', 'channel': 'z'},\n",
       " {'type': 'sensor', 'sensor_type': 'noise', 'channel': 'decibels'}]"
      ]
     },
     "execution_count": 83,
     "metadata": {},
     "output_type": "execute_result"
    }
   ],
   "source": [
    "all_docs[-5:]"
   ]
  },
  {
   "cell_type": "code",
   "execution_count": 88,
   "metadata": {},
   "outputs": [
    {
     "data": {
      "text/plain": [
       "[{'timestamp': 1590141153.9267097,\n",
       "  'data': 5.054574574825693,\n",
       "  'sensorid': 19.0},\n",
       " {'timestamp': 1590141161.7267096,\n",
       "  'data': 5.158016101967373,\n",
       "  'sensorid': 19.0},\n",
       " {'timestamp': 1590141165.7267096,\n",
       "  'data': 5.513021690340742,\n",
       "  'sensorid': 19.0},\n",
       " {'timestamp': 1590141166.7267096, 'data': 5.26132063513978, 'sensorid': 19.0},\n",
       " {'timestamp': 1590141169.7267096,\n",
       "  'data': 5.191365017697662,\n",
       "  'sensorid': 19.0},\n",
       " {'timestamp': 1590141170.7267096,\n",
       "  'data': 5.013968603203073,\n",
       "  'sensorid': 19.0},\n",
       " {'timestamp': 1590141172.7267096,\n",
       "  'data': 5.710252490195436,\n",
       "  'sensorid': 19.0},\n",
       " {'timestamp': 1590141173.7267096,\n",
       "  'data': 5.163336182842284,\n",
       "  'sensorid': 19.0},\n",
       " {'timestamp': 1590141178.7267096,\n",
       "  'data': 5.059980351872968,\n",
       "  'sensorid': 19.0},\n",
       " {'timestamp': 1590141191.7267096,\n",
       "  'data': 5.067895115540413,\n",
       "  'sensorid': 19.0},\n",
       " {'timestamp': 1590141197.5267098,\n",
       "  'data': 5.1213412694354234,\n",
       "  'sensorid': 19.0},\n",
       " {'timestamp': 1590141200.5267098,\n",
       "  'data': 5.161214164610974,\n",
       "  'sensorid': 19.0},\n",
       " {'timestamp': 1590141201.5267098,\n",
       "  'data': 5.532273454867919,\n",
       "  'sensorid': 19.0},\n",
       " {'timestamp': 1590141203.5267098,\n",
       "  'data': 5.107602990004159,\n",
       "  'sensorid': 19.0},\n",
       " {'timestamp': 1590141204.5267098,\n",
       "  'data': 5.112680282165407,\n",
       "  'sensorid': 19.0},\n",
       " {'timestamp': 1590141206.5267098,\n",
       "  'data': 5.561133297231262,\n",
       "  'sensorid': 19.0},\n",
       " {'timestamp': 1590141207.5267098,\n",
       "  'data': 5.032898531812636,\n",
       "  'sensorid': 19.0},\n",
       " {'timestamp': 1590141208.5267098,\n",
       "  'data': 5.075293821276331,\n",
       "  'sensorid': 19.0}]"
      ]
     },
     "execution_count": 88,
     "metadata": {},
     "output_type": "execute_result"
    }
   ],
   "source": [
    "df_reports = df_data[df_data['data'] > 5]\n",
    "\n",
    "reports = df_reports.to_dict('records')\n",
    "\n",
    "reports"
   ]
  },
  {
   "cell_type": "code",
   "execution_count": 89,
   "metadata": {},
   "outputs": [
    {
     "data": {
      "text/plain": [
       "[{'type': 'report',\n",
       "  'state': 'high-threshold',\n",
       "  'value': 5.054574574825693,\n",
       "  'topic': 'aidae/123456/SinSensor',\n",
       "  'timestamp': 1590141153.9267097},\n",
       " {'type': 'report',\n",
       "  'state': 'high-threshold',\n",
       "  'value': 5.158016101967373,\n",
       "  'topic': 'aidae/123456/SinSensor',\n",
       "  'timestamp': 1590141161.7267096},\n",
       " {'type': 'report',\n",
       "  'state': 'high-threshold',\n",
       "  'value': 5.513021690340742,\n",
       "  'topic': 'aidae/123456/SinSensor',\n",
       "  'timestamp': 1590141165.7267096},\n",
       " {'type': 'report',\n",
       "  'state': 'high-threshold',\n",
       "  'value': 5.26132063513978,\n",
       "  'topic': 'aidae/123456/SinSensor',\n",
       "  'timestamp': 1590141166.7267096},\n",
       " {'type': 'report',\n",
       "  'state': 'high-threshold',\n",
       "  'value': 5.191365017697662,\n",
       "  'topic': 'aidae/123456/SinSensor',\n",
       "  'timestamp': 1590141169.7267096},\n",
       " {'type': 'report',\n",
       "  'state': 'high-threshold',\n",
       "  'value': 5.013968603203073,\n",
       "  'topic': 'aidae/123456/SinSensor',\n",
       "  'timestamp': 1590141170.7267096},\n",
       " {'type': 'report',\n",
       "  'state': 'high-threshold',\n",
       "  'value': 5.710252490195436,\n",
       "  'topic': 'aidae/123456/SinSensor',\n",
       "  'timestamp': 1590141172.7267096},\n",
       " {'type': 'report',\n",
       "  'state': 'high-threshold',\n",
       "  'value': 5.163336182842284,\n",
       "  'topic': 'aidae/123456/SinSensor',\n",
       "  'timestamp': 1590141173.7267096},\n",
       " {'type': 'report',\n",
       "  'state': 'high-threshold',\n",
       "  'value': 5.059980351872968,\n",
       "  'topic': 'aidae/123456/SinSensor',\n",
       "  'timestamp': 1590141178.7267096},\n",
       " {'type': 'report',\n",
       "  'state': 'high-threshold',\n",
       "  'value': 5.067895115540413,\n",
       "  'topic': 'aidae/123456/SinSensor',\n",
       "  'timestamp': 1590141191.7267096},\n",
       " {'type': 'report',\n",
       "  'state': 'high-threshold',\n",
       "  'value': 5.1213412694354234,\n",
       "  'topic': 'aidae/123456/SinSensor',\n",
       "  'timestamp': 1590141197.5267098},\n",
       " {'type': 'report',\n",
       "  'state': 'high-threshold',\n",
       "  'value': 5.161214164610974,\n",
       "  'topic': 'aidae/123456/SinSensor',\n",
       "  'timestamp': 1590141200.5267098},\n",
       " {'type': 'report',\n",
       "  'state': 'high-threshold',\n",
       "  'value': 5.532273454867919,\n",
       "  'topic': 'aidae/123456/SinSensor',\n",
       "  'timestamp': 1590141201.5267098},\n",
       " {'type': 'report',\n",
       "  'state': 'high-threshold',\n",
       "  'value': 5.107602990004159,\n",
       "  'topic': 'aidae/123456/SinSensor',\n",
       "  'timestamp': 1590141203.5267098},\n",
       " {'type': 'report',\n",
       "  'state': 'high-threshold',\n",
       "  'value': 5.112680282165407,\n",
       "  'topic': 'aidae/123456/SinSensor',\n",
       "  'timestamp': 1590141204.5267098},\n",
       " {'type': 'report',\n",
       "  'state': 'high-threshold',\n",
       "  'value': 5.561133297231262,\n",
       "  'topic': 'aidae/123456/SinSensor',\n",
       "  'timestamp': 1590141206.5267098},\n",
       " {'type': 'report',\n",
       "  'state': 'high-threshold',\n",
       "  'value': 5.032898531812636,\n",
       "  'topic': 'aidae/123456/SinSensor',\n",
       "  'timestamp': 1590141207.5267098},\n",
       " {'type': 'report',\n",
       "  'state': 'high-threshold',\n",
       "  'value': 5.075293821276331,\n",
       "  'topic': 'aidae/123456/SinSensor',\n",
       "  'timestamp': 1590141208.5267098}]"
      ]
     },
     "execution_count": 89,
     "metadata": {},
     "output_type": "execute_result"
    }
   ],
   "source": [
    "reports = [{\n",
    "    'type': 'report',\n",
    "    'state': 'high-threshold',\n",
    "    'value': r['data'],\n",
    "    'topic': topic,\n",
    "    'timestamp': r['timestamp']\n",
    "} for r in reports]\n",
    "\n",
    "reports"
   ]
  },
  {
   "cell_type": "code",
   "execution_count": 90,
   "metadata": {},
   "outputs": [
    {
     "data": {
      "text/plain": [
       "51"
      ]
     },
     "execution_count": 90,
     "metadata": {},
     "output_type": "execute_result"
    }
   ],
   "source": [
    "for report in reports:\n",
    "    conn.insert(report)\n",
    "\n",
    "all_docs = conn.all()\n",
    "\n",
    "len(all_docs)"
   ]
  },
  {
   "cell_type": "code",
   "execution_count": 91,
   "metadata": {},
   "outputs": [
    {
     "data": {
      "text/plain": [
       "[{'type': 'report',\n",
       "  'state': 'high-threshold',\n",
       "  'value': 5.107602990004159,\n",
       "  'topic': 'aidae/123456/SinSensor',\n",
       "  'timestamp': 1590141203.5267098},\n",
       " {'type': 'report',\n",
       "  'state': 'high-threshold',\n",
       "  'value': 5.112680282165407,\n",
       "  'topic': 'aidae/123456/SinSensor',\n",
       "  'timestamp': 1590141204.5267098},\n",
       " {'type': 'report',\n",
       "  'state': 'high-threshold',\n",
       "  'value': 5.561133297231262,\n",
       "  'topic': 'aidae/123456/SinSensor',\n",
       "  'timestamp': 1590141206.5267098},\n",
       " {'type': 'report',\n",
       "  'state': 'high-threshold',\n",
       "  'value': 5.032898531812636,\n",
       "  'topic': 'aidae/123456/SinSensor',\n",
       "  'timestamp': 1590141207.5267098},\n",
       " {'type': 'report',\n",
       "  'state': 'high-threshold',\n",
       "  'value': 5.075293821276331,\n",
       "  'topic': 'aidae/123456/SinSensor',\n",
       "  'timestamp': 1590141208.5267098}]"
      ]
     },
     "execution_count": 91,
     "metadata": {},
     "output_type": "execute_result"
    }
   ],
   "source": [
    "all_docs[-5:]"
   ]
  },
  {
   "cell_type": "code",
   "execution_count": 92,
   "metadata": {},
   "outputs": [],
   "source": [
    "conn.close()"
   ]
  }
 ],
 "metadata": {
  "kernelspec": {
   "display_name": "Python [conda env:AIDAE] *",
   "language": "python",
   "name": "conda-env-AIDAE-py"
  },
  "language_info": {
   "codemirror_mode": {
    "name": "ipython",
    "version": 3
   },
   "file_extension": ".py",
   "mimetype": "text/x-python",
   "name": "python",
   "nbconvert_exporter": "python",
   "pygments_lexer": "ipython3",
   "version": "3.8.2"
  }
 },
 "nbformat": 4,
 "nbformat_minor": 4
}
