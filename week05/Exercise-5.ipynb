{
 "cells": [
  {
   "cell_type": "code",
   "execution_count": 1,
   "metadata": {},
   "outputs": [],
   "source": [
    "import os\n",
    "\n",
    "data_dir = os.path.join(os.curdir, 'data')\n",
    "\n",
    "assert os.path.exists(data_dir)"
   ]
  },
  {
   "cell_type": "markdown",
   "metadata": {},
   "source": [
    "# Exercise 5\n",
    "\n",
    "## Task 1"
   ]
  },
  {
   "cell_type": "markdown",
   "metadata": {},
   "source": [
    "### a)"
   ]
  },
  {
   "cell_type": "code",
   "execution_count": 2,
   "metadata": {},
   "outputs": [
    {
     "name": "stdout",
     "output_type": "stream",
     "text": [
      "Help on class CountVectorizer in module sklearn.feature_extraction.text:\n",
      "\n",
      "class CountVectorizer(_VectorizerMixin, sklearn.base.BaseEstimator)\n",
      " |  CountVectorizer(input='content', encoding='utf-8', decode_error='strict', strip_accents=None, lowercase=True, preprocessor=None, tokenizer=None, stop_words=None, token_pattern='(?u)\\\\b\\\\w\\\\w+\\\\b', ngram_range=(1, 1), analyzer='word', max_df=1.0, min_df=1, max_features=None, vocabulary=None, binary=False, dtype=<class 'numpy.int64'>)\n",
      " |  \n",
      " |  Convert a collection of text documents to a matrix of token counts\n",
      " |  \n",
      " |  This implementation produces a sparse representation of the counts using\n",
      " |  scipy.sparse.csr_matrix.\n",
      " |  \n",
      " |  If you do not provide an a-priori dictionary and you do not use an analyzer\n",
      " |  that does some kind of feature selection then the number of features will\n",
      " |  be equal to the vocabulary size found by analyzing the data.\n",
      " |  \n",
      " |  Read more in the :ref:`User Guide <text_feature_extraction>`.\n",
      " |  \n",
      " |  Parameters\n",
      " |  ----------\n",
      " |  input : string {'filename', 'file', 'content'}\n",
      " |      If 'filename', the sequence passed as an argument to fit is\n",
      " |      expected to be a list of filenames that need reading to fetch\n",
      " |      the raw content to analyze.\n",
      " |  \n",
      " |      If 'file', the sequence items must have a 'read' method (file-like\n",
      " |      object) that is called to fetch the bytes in memory.\n",
      " |  \n",
      " |      Otherwise the input is expected to be a sequence of items that\n",
      " |      can be of type string or byte.\n",
      " |  \n",
      " |  encoding : string, 'utf-8' by default.\n",
      " |      If bytes or files are given to analyze, this encoding is used to\n",
      " |      decode.\n",
      " |  \n",
      " |  decode_error : {'strict', 'ignore', 'replace'}\n",
      " |      Instruction on what to do if a byte sequence is given to analyze that\n",
      " |      contains characters not of the given `encoding`. By default, it is\n",
      " |      'strict', meaning that a UnicodeDecodeError will be raised. Other\n",
      " |      values are 'ignore' and 'replace'.\n",
      " |  \n",
      " |  strip_accents : {'ascii', 'unicode', None}\n",
      " |      Remove accents and perform other character normalization\n",
      " |      during the preprocessing step.\n",
      " |      'ascii' is a fast method that only works on characters that have\n",
      " |      an direct ASCII mapping.\n",
      " |      'unicode' is a slightly slower method that works on any characters.\n",
      " |      None (default) does nothing.\n",
      " |  \n",
      " |      Both 'ascii' and 'unicode' use NFKD normalization from\n",
      " |      :func:`unicodedata.normalize`.\n",
      " |  \n",
      " |  lowercase : boolean, True by default\n",
      " |      Convert all characters to lowercase before tokenizing.\n",
      " |  \n",
      " |  preprocessor : callable or None (default)\n",
      " |      Override the preprocessing (string transformation) stage while\n",
      " |      preserving the tokenizing and n-grams generation steps.\n",
      " |      Only applies if ``analyzer is not callable``.\n",
      " |  \n",
      " |  tokenizer : callable or None (default)\n",
      " |      Override the string tokenization step while preserving the\n",
      " |      preprocessing and n-grams generation steps.\n",
      " |      Only applies if ``analyzer == 'word'``.\n",
      " |  \n",
      " |  stop_words : string {'english'}, list, or None (default)\n",
      " |      If 'english', a built-in stop word list for English is used.\n",
      " |      There are several known issues with 'english' and you should\n",
      " |      consider an alternative (see :ref:`stop_words`).\n",
      " |  \n",
      " |      If a list, that list is assumed to contain stop words, all of which\n",
      " |      will be removed from the resulting tokens.\n",
      " |      Only applies if ``analyzer == 'word'``.\n",
      " |  \n",
      " |      If None, no stop words will be used. max_df can be set to a value\n",
      " |      in the range [0.7, 1.0) to automatically detect and filter stop\n",
      " |      words based on intra corpus document frequency of terms.\n",
      " |  \n",
      " |  token_pattern : string\n",
      " |      Regular expression denoting what constitutes a \"token\", only used\n",
      " |      if ``analyzer == 'word'``. The default regexp select tokens of 2\n",
      " |      or more alphanumeric characters (punctuation is completely ignored\n",
      " |      and always treated as a token separator).\n",
      " |  \n",
      " |  ngram_range : tuple (min_n, max_n), default=(1, 1)\n",
      " |      The lower and upper boundary of the range of n-values for different\n",
      " |      word n-grams or char n-grams to be extracted. All values of n such\n",
      " |      such that min_n <= n <= max_n will be used. For example an\n",
      " |      ``ngram_range`` of ``(1, 1)`` means only unigrams, ``(1, 2)`` means\n",
      " |      unigrams and bigrams, and ``(2, 2)`` means only bigrams.\n",
      " |      Only applies if ``analyzer is not callable``.\n",
      " |  \n",
      " |  analyzer : string, {'word', 'char', 'char_wb'} or callable\n",
      " |      Whether the feature should be made of word n-gram or character\n",
      " |      n-grams.\n",
      " |      Option 'char_wb' creates character n-grams only from text inside\n",
      " |      word boundaries; n-grams at the edges of words are padded with space.\n",
      " |  \n",
      " |      If a callable is passed it is used to extract the sequence of features\n",
      " |      out of the raw, unprocessed input.\n",
      " |  \n",
      " |      .. versionchanged:: 0.21\n",
      " |  \n",
      " |      Since v0.21, if ``input`` is ``filename`` or ``file``, the data is\n",
      " |      first read from the file and then passed to the given callable\n",
      " |      analyzer.\n",
      " |  \n",
      " |  max_df : float in range [0.0, 1.0] or int, default=1.0\n",
      " |      When building the vocabulary ignore terms that have a document\n",
      " |      frequency strictly higher than the given threshold (corpus-specific\n",
      " |      stop words).\n",
      " |      If float, the parameter represents a proportion of documents, integer\n",
      " |      absolute counts.\n",
      " |      This parameter is ignored if vocabulary is not None.\n",
      " |  \n",
      " |  min_df : float in range [0.0, 1.0] or int, default=1\n",
      " |      When building the vocabulary ignore terms that have a document\n",
      " |      frequency strictly lower than the given threshold. This value is also\n",
      " |      called cut-off in the literature.\n",
      " |      If float, the parameter represents a proportion of documents, integer\n",
      " |      absolute counts.\n",
      " |      This parameter is ignored if vocabulary is not None.\n",
      " |  \n",
      " |  max_features : int or None, default=None\n",
      " |      If not None, build a vocabulary that only consider the top\n",
      " |      max_features ordered by term frequency across the corpus.\n",
      " |  \n",
      " |      This parameter is ignored if vocabulary is not None.\n",
      " |  \n",
      " |  vocabulary : Mapping or iterable, optional\n",
      " |      Either a Mapping (e.g., a dict) where keys are terms and values are\n",
      " |      indices in the feature matrix, or an iterable over terms. If not\n",
      " |      given, a vocabulary is determined from the input documents. Indices\n",
      " |      in the mapping should not be repeated and should not have any gap\n",
      " |      between 0 and the largest index.\n",
      " |  \n",
      " |  binary : boolean, default=False\n",
      " |      If True, all non zero counts are set to 1. This is useful for discrete\n",
      " |      probabilistic models that model binary events rather than integer\n",
      " |      counts.\n",
      " |  \n",
      " |  dtype : type, optional\n",
      " |      Type of the matrix returned by fit_transform() or transform().\n",
      " |  \n",
      " |  Attributes\n",
      " |  ----------\n",
      " |  vocabulary_ : dict\n",
      " |      A mapping of terms to feature indices.\n",
      " |  \n",
      " |  fixed_vocabulary_: boolean\n",
      " |      True if a fixed vocabulary of term to indices mapping\n",
      " |      is provided by the user\n",
      " |  \n",
      " |  stop_words_ : set\n",
      " |      Terms that were ignored because they either:\n",
      " |  \n",
      " |        - occurred in too many documents (`max_df`)\n",
      " |        - occurred in too few documents (`min_df`)\n",
      " |        - were cut off by feature selection (`max_features`).\n",
      " |  \n",
      " |      This is only available if no vocabulary was given.\n",
      " |  \n",
      " |  Examples\n",
      " |  --------\n",
      " |  >>> from sklearn.feature_extraction.text import CountVectorizer\n",
      " |  >>> corpus = [\n",
      " |  ...     'This is the first document.',\n",
      " |  ...     'This document is the second document.',\n",
      " |  ...     'And this is the third one.',\n",
      " |  ...     'Is this the first document?',\n",
      " |  ... ]\n",
      " |  >>> vectorizer = CountVectorizer()\n",
      " |  >>> X = vectorizer.fit_transform(corpus)\n",
      " |  >>> print(vectorizer.get_feature_names())\n",
      " |  ['and', 'document', 'first', 'is', 'one', 'second', 'the', 'third', 'this']\n",
      " |  >>> print(X.toarray())\n",
      " |  [[0 1 1 1 0 0 1 0 1]\n",
      " |   [0 2 0 1 0 1 1 0 1]\n",
      " |   [1 0 0 1 1 0 1 1 1]\n",
      " |   [0 1 1 1 0 0 1 0 1]]\n",
      " |  >>> vectorizer2 = CountVectorizer(analyzer='word', ngram_range=(2, 2))\n",
      " |  >>> X2 = vectorizer2.fit_transform(corpus)\n",
      " |  >>> print(vectorizer2.get_feature_names())\n",
      " |  ['and this', 'document is', 'first document', 'is the', 'is this',\n",
      " |  'second document', 'the first', 'the second', 'the third', 'third one',\n",
      " |   'this document', 'this is', 'this the']\n",
      " |   >>> print(X2.toarray())\n",
      " |   [[0 0 1 1 0 0 1 0 0 0 0 1 0]\n",
      " |   [0 1 0 1 0 1 0 1 0 0 1 0 0]\n",
      " |   [1 0 0 1 0 0 0 0 1 1 0 1 0]\n",
      " |   [0 0 1 0 1 0 1 0 0 0 0 0 1]]\n",
      " |  \n",
      " |  See Also\n",
      " |  --------\n",
      " |  HashingVectorizer, TfidfVectorizer\n",
      " |  \n",
      " |  Notes\n",
      " |  -----\n",
      " |  The ``stop_words_`` attribute can get large and increase the model size\n",
      " |  when pickling. This attribute is provided only for introspection and can\n",
      " |  be safely removed using delattr or set to None before pickling.\n",
      " |  \n",
      " |  Method resolution order:\n",
      " |      CountVectorizer\n",
      " |      _VectorizerMixin\n",
      " |      sklearn.base.BaseEstimator\n",
      " |      builtins.object\n",
      " |  \n",
      " |  Methods defined here:\n",
      " |  \n",
      " |  __init__(self, input='content', encoding='utf-8', decode_error='strict', strip_accents=None, lowercase=True, preprocessor=None, tokenizer=None, stop_words=None, token_pattern='(?u)\\\\b\\\\w\\\\w+\\\\b', ngram_range=(1, 1), analyzer='word', max_df=1.0, min_df=1, max_features=None, vocabulary=None, binary=False, dtype=<class 'numpy.int64'>)\n",
      " |      Initialize self.  See help(type(self)) for accurate signature.\n",
      " |  \n",
      " |  fit(self, raw_documents, y=None)\n",
      " |      Learn a vocabulary dictionary of all tokens in the raw documents.\n",
      " |      \n",
      " |      Parameters\n",
      " |      ----------\n",
      " |      raw_documents : iterable\n",
      " |          An iterable which yields either str, unicode or file objects.\n",
      " |      \n",
      " |      Returns\n",
      " |      -------\n",
      " |      self\n",
      " |  \n",
      " |  fit_transform(self, raw_documents, y=None)\n",
      " |      Learn the vocabulary dictionary and return term-document matrix.\n",
      " |      \n",
      " |      This is equivalent to fit followed by transform, but more efficiently\n",
      " |      implemented.\n",
      " |      \n",
      " |      Parameters\n",
      " |      ----------\n",
      " |      raw_documents : iterable\n",
      " |          An iterable which yields either str, unicode or file objects.\n",
      " |      \n",
      " |      Returns\n",
      " |      -------\n",
      " |      X : array, [n_samples, n_features]\n",
      " |          Document-term matrix.\n",
      " |  \n",
      " |  get_feature_names(self)\n",
      " |      Array mapping from feature integer indices to feature name.\n",
      " |      \n",
      " |      Returns\n",
      " |      -------\n",
      " |      feature_names : list\n",
      " |          A list of feature names.\n",
      " |  \n",
      " |  inverse_transform(self, X)\n",
      " |      Return terms per document with nonzero entries in X.\n",
      " |      \n",
      " |      Parameters\n",
      " |      ----------\n",
      " |      X : {array-like, sparse matrix} of shape (n_samples, n_features)\n",
      " |          Document-term matrix.\n",
      " |      \n",
      " |      Returns\n",
      " |      -------\n",
      " |      X_inv : list of arrays, len = n_samples\n",
      " |          List of arrays of terms.\n",
      " |  \n",
      " |  transform(self, raw_documents)\n",
      " |      Transform documents to document-term matrix.\n",
      " |      \n",
      " |      Extract token counts out of raw text documents using the vocabulary\n",
      " |      fitted with fit or the one provided to the constructor.\n",
      " |      \n",
      " |      Parameters\n",
      " |      ----------\n",
      " |      raw_documents : iterable\n",
      " |          An iterable which yields either str, unicode or file objects.\n",
      " |      \n",
      " |      Returns\n",
      " |      -------\n",
      " |      X : sparse matrix, [n_samples, n_features]\n",
      " |          Document-term matrix.\n",
      " |  \n",
      " |  ----------------------------------------------------------------------\n",
      " |  Methods inherited from _VectorizerMixin:\n",
      " |  \n",
      " |  build_analyzer(self)\n",
      " |      Return a callable that handles preprocessing, tokenization\n",
      " |      and n-grams generation.\n",
      " |      \n",
      " |      Returns\n",
      " |      -------\n",
      " |      analyzer: callable\n",
      " |          A function to handle preprocessing, tokenization\n",
      " |          and n-grams generation.\n",
      " |  \n",
      " |  build_preprocessor(self)\n",
      " |      Return a function to preprocess the text before tokenization.\n",
      " |      \n",
      " |      Returns\n",
      " |      -------\n",
      " |      preprocessor: callable\n",
      " |            A function to preprocess the text before tokenization.\n",
      " |  \n",
      " |  build_tokenizer(self)\n",
      " |      Return a function that splits a string into a sequence of tokens.\n",
      " |      \n",
      " |      Returns\n",
      " |      -------\n",
      " |      tokenizer: callable\n",
      " |            A function to split a string into a sequence of tokens.\n",
      " |  \n",
      " |  decode(self, doc)\n",
      " |      Decode the input into a string of unicode symbols.\n",
      " |      \n",
      " |      The decoding strategy depends on the vectorizer parameters.\n",
      " |      \n",
      " |      Parameters\n",
      " |      ----------\n",
      " |      doc : str\n",
      " |          The string to decode.\n",
      " |      \n",
      " |      Returns\n",
      " |      -------\n",
      " |      doc: str\n",
      " |          A string of unicode symbols.\n",
      " |  \n",
      " |  get_stop_words(self)\n",
      " |      Build or fetch the effective stop words list.\n",
      " |      \n",
      " |      Returns\n",
      " |      -------\n",
      " |      stop_words: list or None\n",
      " |              A list of stop words.\n",
      " |  \n",
      " |  ----------------------------------------------------------------------\n",
      " |  Data descriptors inherited from _VectorizerMixin:\n",
      " |  \n",
      " |  __dict__\n",
      " |      dictionary for instance variables (if defined)\n",
      " |  \n",
      " |  __weakref__\n",
      " |      list of weak references to the object (if defined)\n",
      " |  \n",
      " |  ----------------------------------------------------------------------\n",
      " |  Methods inherited from sklearn.base.BaseEstimator:\n",
      " |  \n",
      " |  __getstate__(self)\n",
      " |  \n",
      " |  __repr__(self, N_CHAR_MAX=700)\n",
      " |      Return repr(self).\n",
      " |  \n",
      " |  __setstate__(self, state)\n",
      " |  \n",
      " |  get_params(self, deep=True)\n",
      " |      Get parameters for this estimator.\n",
      " |      \n",
      " |      Parameters\n",
      " |      ----------\n",
      " |      deep : bool, default=True\n",
      " |          If True, will return the parameters for this estimator and\n",
      " |          contained subobjects that are estimators.\n",
      " |      \n",
      " |      Returns\n",
      " |      -------\n",
      " |      params : mapping of string to any\n",
      " |          Parameter names mapped to their values.\n",
      " |  \n",
      " |  set_params(self, **params)\n",
      " |      Set the parameters of this estimator.\n",
      " |      \n",
      " |      The method works on simple estimators as well as on nested objects\n",
      " |      (such as pipelines). The latter have parameters of the form\n",
      " |      ``<component>__<parameter>`` so that it's possible to update each\n",
      " |      component of a nested object.\n",
      " |      \n",
      " |      Parameters\n",
      " |      ----------\n",
      " |      **params : dict\n",
      " |          Estimator parameters.\n",
      " |      \n",
      " |      Returns\n",
      " |      -------\n",
      " |      self : object\n",
      " |          Estimator instance.\n",
      "\n"
     ]
    }
   ],
   "source": [
    "from sklearn.feature_extraction.text import CountVectorizer\n",
    "\n",
    "help(CountVectorizer)"
   ]
  },
  {
   "cell_type": "code",
   "execution_count": 3,
   "metadata": {},
   "outputs": [
    {
     "data": {
      "text/plain": [
       "array([[0, 0, 0, ..., 0, 1, 1],\n",
       "       [0, 0, 0, ..., 0, 0, 0],\n",
       "       [0, 0, 0, ..., 0, 0, 0],\n",
       "       ...,\n",
       "       [0, 0, 0, ..., 0, 0, 0],\n",
       "       [0, 0, 0, ..., 0, 0, 0],\n",
       "       [0, 0, 0, ..., 0, 1, 0]])"
      ]
     },
     "execution_count": 3,
     "metadata": {},
     "output_type": "execute_result"
    }
   ],
   "source": [
    "speech_path = os.path.join(data_dir, 'speech.txt')\n",
    "assert os.path.exists(speech_path)\n",
    "\n",
    "vectorizer = CountVectorizer()\n",
    "\n",
    "with open(speech_path) as f:\n",
    "    X = vectorizer.fit_transform(f).toarray()\n",
    "\n",
    "X"
   ]
  },
  {
   "cell_type": "code",
   "execution_count": 4,
   "metadata": {},
   "outputs": [
    {
     "name": "stdout",
     "output_type": "stream",
     "text": [
      "Top 10 words and their frequencies: \n",
      " - the (117 times)\n",
      " - and (108 times)\n",
      " - of (93 times)\n",
      " - to (63 times)\n",
      " - we (46 times)\n",
      " - this (44 times)\n",
      " - in (43 times)\n",
      " - be (30 times)\n",
      " - for (27 times)\n",
      " - that (27 times)\n"
     ]
    }
   ],
   "source": [
    "import numpy as np\n",
    "\n",
    "def get_most_common_ngrams(X, vectorizer):\n",
    "    X_total = X.sum(axis=0)\n",
    "\n",
    "    X_sorted_idx = np.argsort(X_total)[::-1]\n",
    "\n",
    "    X_total_sorted = X_total[X_sorted_idx]\n",
    "    vocabulary_sorted = np.array(vectorizer.get_feature_names())[X_sorted_idx]\n",
    "\n",
    "    vocabulary_sorted = np.dstack((vocabulary_sorted, X_total_sorted))\n",
    "    \n",
    "    return vocabulary_sorted\n",
    "\n",
    "# since words are actually 1-grams...\n",
    "vocabulary_sorted = get_most_common_ngrams(X, vectorizer)\n",
    "\n",
    "n_words = 10\n",
    "print('Top {} words and their frequencies: '.format(n_words))\n",
    "for p in vocabulary_sorted[0, :n_words]:\n",
    "    print(' - {} ({} times)'.format(*p))"
   ]
  },
  {
   "cell_type": "markdown",
   "metadata": {},
   "source": [
    "Words that occur together in the same paragraph."
   ]
  },
  {
   "cell_type": "code",
   "execution_count": 5,
   "metadata": {},
   "outputs": [
    {
     "data": {
      "text/plain": [
       "atmosphere  deal            1.0\n",
       "think       job             1.0\n",
       "condense    christianity    1.0\n",
       "glenn       site            1.0\n",
       "seen        powerful        1.0\n",
       "condense    century         1.0\n",
       "await       precision       1.0\n",
       "job         ought           1.0\n",
       "            paid            1.0\n",
       "glenn       shattered       1.0\n",
       "dtype: float64"
      ]
     },
     "execution_count": 5,
     "metadata": {},
     "output_type": "execute_result"
    }
   ],
   "source": [
    "import pandas as pd\n",
    "\n",
    "df_occurrence = pd.DataFrame(X, columns=vectorizer.get_feature_names())\n",
    "\n",
    "df_occurrence = df_occurrence.astype(bool)\n",
    "\n",
    "occ_corr = df_occurrence.corr(method='pearson')\n",
    "\n",
    "occ_corr = occ_corr.unstack()\n",
    "\n",
    "# remove the obvious values (word matching with itself)\n",
    "occ_corr = occ_corr[occ_corr.index.map(lambda t: t[0] != t[1])]\n",
    "\n",
    "occ_corr.sort_values(ascending=False).head(10)"
   ]
  },
  {
   "cell_type": "markdown",
   "metadata": {},
   "source": [
    "Words that occur one after another (bigram)."
   ]
  },
  {
   "cell_type": "code",
   "execution_count": 6,
   "metadata": {},
   "outputs": [
    {
     "data": {
      "text/plain": [
       "(59, 1749)"
      ]
     },
     "execution_count": 6,
     "metadata": {},
     "output_type": "execute_result"
    }
   ],
   "source": [
    "bigram_vectorizer = CountVectorizer(ngram_range=(2,2))\n",
    "\n",
    "with open(speech_path) as f:\n",
    "    X_bigram = bigram_vectorizer.fit_transform(f).toarray()\n",
    "\n",
    "X_bigram.shape"
   ]
  },
  {
   "cell_type": "code",
   "execution_count": 7,
   "metadata": {},
   "outputs": [
    {
     "name": "stdout",
     "output_type": "stream",
     "text": [
      "Top 10 bigrams and their frequencies: \n",
      " - of the (20 times)\n",
      " - to be (11 times)\n",
      " - will be (11 times)\n",
      " - we have (8 times)\n",
      " - in this (8 times)\n",
      " - in the (7 times)\n",
      " - the moon (7 times)\n",
      " - it is (7 times)\n",
      " - and the (7 times)\n",
      " - that we (6 times)\n"
     ]
    }
   ],
   "source": [
    "bigrams_sorted = get_most_common_ngrams(X_bigram, bigram_vectorizer)\n",
    "\n",
    "n_bigrams = 10\n",
    "print('Top {} bigrams and their frequencies: '.format(n_bigrams))\n",
    "for p in bigrams_sorted[0, :n_bigrams]:\n",
    "    print(' - {} ({} times)'.format(*p))"
   ]
  },
  {
   "cell_type": "code",
   "execution_count": 9,
   "metadata": {},
   "outputs": [
    {
     "data": {
      "image/png": "[encoded data removed]",
      "text/plain": [
       "<Figure size 720x576 with 1 Axes>"
      ]
     },
     "metadata": {
      "needs_background": "light"
     },
     "output_type": "display_data"
    }
   ],
   "source": [
    "import matplotlib.pyplot as plt\n",
    "import seaborn as sns\n",
    "\n",
    "sns.distplot(a=vocabulary_sorted[0,:,1][::-1], bins=10, kde=False)\n",
    "\n",
    "plt.title('Words frequency distribution')\n",
    "plt.gcf().set_size_inches((10,8))\n",
    "plt.show()"
   ]
  },
  {
   "cell_type": "code",
   "execution_count": 10,
   "metadata": {},
   "outputs": [
    {
     "data": {
      "image/png": "[encoded data removed]",
      "text/plain": [
       "<Figure size 720x576 with 1 Axes>"
      ]
     },
     "metadata": {
      "needs_background": "light"
     },
     "output_type": "display_data"
    }
   ],
   "source": [
    "sns.distplot(a=bigrams_sorted[0,:,1][::-1], bins=10, kde=False)\n",
    "\n",
    "plt.title('Bigrams frequency distribution')\n",
    "plt.gcf().set_size_inches((10,8))\n",
    "plt.show()"
   ]
  },
  {
   "cell_type": "markdown",
   "metadata": {},
   "source": [
    "The matrices returned have several columns, and this number grows exponentially with the size of the n-grams. Besides that, most of the words are quite rare, as we can see in the histograms. Therefore, this implies in a huge dimension, which diminishes the generalization capability of machine learning models, and most of the data is not relevant because it represents rare occurrences."
   ]
  },
  {
   "cell_type": "markdown",
   "metadata": {},
   "source": [
    "### b)"
   ]
  },
  {
   "cell_type": "code",
   "execution_count": 14,
   "metadata": {},
   "outputs": [
    {
     "data": {
      "text/plain": [
       "matrix([[1, 0, 0, ..., 0, 0, 0],\n",
       "        [0, 0, 0, ..., 0, 0, 0],\n",
       "        [0, 0, 0, ..., 0, 0, 0],\n",
       "        ...,\n",
       "        [1, 1, 0, ..., 0, 0, 0],\n",
       "        [1, 0, 0, ..., 0, 0, 0],\n",
       "        [0, 0, 0, ..., 0, 0, 0]])"
      ]
     },
     "execution_count": 14,
     "metadata": {},
     "output_type": "execute_result"
    }
   ],
   "source": [
    "import re\n",
    "\n",
    "def bag_of_words(text):\n",
    "    # split text into sentences by the presence of '.'\n",
    "    sentences = re.split('\\.[\\n\\s]', text)\n",
    "    \n",
    "    # remove '\\n'\n",
    "    sentences = [sentence.replace('\\n', '') for sentence in sentences]\n",
    "    \n",
    "    # split words at non-word characters\n",
    "    sentences = [re.split('\\W', sentence) for sentence in sentences]\n",
    "    \n",
    "    # convert to lowercase\n",
    "    sentences = [[word.lower() for word in sentence] for sentence in sentences]\n",
    "    \n",
    "    # concatenate words\n",
    "    all_words = [word for sentence in sentences for word in sentence]\n",
    "    all_words = set(all_words)  # drop duplicates\n",
    "    try:\n",
    "        all_words.remove('')  # remove empty word, if it exists\n",
    "    except KeyError:\n",
    "        pass\n",
    "    \n",
    "    # counts occurences\n",
    "    word_count = [[sentence.count(word) for word in all_words] for sentence in sentences]\n",
    "    \n",
    "    return np.matrix(word_count), all_words\n",
    "\n",
    "text = '''\n",
    "No man can fully grasp how far and how fast we have come, but condense, if you will, the 50 thousand years of man's recorded history in a time span of but a half-century. Stated in these terms, we know very little about the first 40 years, except at the end of them advanced man had learned to use the skins of animals to cover them. Then about 10 years ago, under this standard, man emerged from his caves to construct other kinds of shelter. Only five years ago man learned to write and use a cart with wheels. Christianity began less than two years ago. The printing press came this year, and then less than two months ago, during this whole 50-year span of human history, the steam engine provided a new source of power. Newton explored the meaning of gravity. Last month electric lights and telephones and automobiles and airplanes became available. Only last week did we develop penicillin and television and nuclear power, and now if America's new spacecraft succeeds in reaching Venus, we will have literally reached the stars before midnight tonight.\n",
    "\n",
    "This is a breathtaking pace, and such a pace cannot help but create new ills as it dispels old, new ignorance, new problems, new dangers. Surely the opening vistas of space promise high costs and hardships, as well as high reward.\n",
    "'''\n",
    "\n",
    "X, vocab = bag_of_words(text)\n",
    "\n",
    "X"
   ]
  },
  {
   "cell_type": "code",
   "execution_count": 15,
   "metadata": {},
   "outputs": [
    {
     "data": {
      "text/plain": [
       "(12, 147)"
      ]
     },
     "execution_count": 15,
     "metadata": {},
     "output_type": "execute_result"
    }
   ],
   "source": [
    "X.shape"
   ]
  },
  {
   "cell_type": "code",
   "execution_count": 16,
   "metadata": {},
   "outputs": [
    {
     "data": {
      "text/plain": [
       "147"
      ]
     },
     "execution_count": 16,
     "metadata": {},
     "output_type": "execute_result"
    }
   ],
   "source": [
    "len(vocab)"
   ]
  },
  {
   "cell_type": "markdown",
   "metadata": {},
   "source": [
    "## Task 2\n",
    "\n",
    "### a)\n",
    "\n",
    "For data set 1, the best approach would be to apply PCA as the direction of highest variance coincides with the one in which we have also a clear distinction between the labels. On data set 2, on the other hand, we cannot stablish such a relationship between the labels distribution and variance of the data, therefore LDA would be more appropriate.\n",
    "\n",
    "It would be better to apply PCA on data set 3 as there are no class labels, which makes it impossible to apply LDA. Besides that, the relation between the two dimensions can be better explained by the direction of highest variance. Even though the relation between the dimensions of data set 4 is very simillar to data set 3, we notice once again that the classes distribution does not follow the variance of the data, therefore PCA would make more harm than good, which leads us to the use of LDA.\n",
    "\n",
    "### b)"
   ]
  },
  {
   "cell_type": "code",
   "execution_count": 85,
   "metadata": {
    "scrolled": true
   },
   "outputs": [
    {
     "data": {
      "text/plain": [
       "(150, 4)"
      ]
     },
     "execution_count": 85,
     "metadata": {},
     "output_type": "execute_result"
    }
   ],
   "source": [
    "from sklearn.datasets import load_iris\n",
    "\n",
    "X, y = load_iris(return_X_y=True)\n",
    "\n",
    "X.shape"
   ]
  },
  {
   "cell_type": "code",
   "execution_count": 17,
   "metadata": {},
   "outputs": [
    {
     "data": {
      "text/plain": [
       "array([[ 8.06179978e+00,  3.00420621e-01],\n",
       "       [ 7.12868772e+00, -7.86660426e-01],\n",
       "       [ 7.48982797e+00, -2.65384488e-01],\n",
       "       [ 6.81320057e+00, -6.70631068e-01],\n",
       "       [ 8.13230933e+00,  5.14462530e-01],\n",
       "       [ 7.70194674e+00,  1.46172097e+00],\n",
       "       [ 7.21261762e+00,  3.55836209e-01],\n",
       "       [ 7.60529355e+00, -1.16338380e-02],\n",
       "       [ 6.56055159e+00, -1.01516362e+00],\n",
       "       [ 7.34305989e+00, -9.47319209e-01],\n",
       "       [ 8.39738652e+00,  6.47363392e-01],\n",
       "       [ 7.21929685e+00, -1.09646389e-01],\n",
       "       [ 7.32679599e+00, -1.07298943e+00],\n",
       "       [ 7.57247066e+00, -8.05464137e-01],\n",
       "       [ 9.84984300e+00,  1.58593698e+00],\n",
       "       [ 9.15823890e+00,  2.73759647e+00],\n",
       "       [ 8.58243141e+00,  1.83448945e+00],\n",
       "       [ 7.78075375e+00,  5.84339407e-01],\n",
       "       [ 8.07835876e+00,  9.68580703e-01],\n",
       "       [ 8.02097451e+00,  1.14050366e+00],\n",
       "       [ 7.49680227e+00, -1.88377220e-01],\n",
       "       [ 7.58648117e+00,  1.20797032e+00],\n",
       "       [ 8.68104293e+00,  8.77590154e-01],\n",
       "       [ 6.25140358e+00,  4.39696367e-01],\n",
       "       [ 6.55893336e+00, -3.89222752e-01],\n",
       "       [ 6.77138315e+00, -9.70634453e-01],\n",
       "       [ 6.82308032e+00,  4.63011612e-01],\n",
       "       [ 7.92461638e+00,  2.09638715e-01],\n",
       "       [ 7.99129024e+00,  8.63787128e-02],\n",
       "       [ 6.82946447e+00, -5.44960851e-01],\n",
       "       [ 6.75895493e+00, -7.59002759e-01],\n",
       "       [ 7.37495254e+00,  5.65844592e-01],\n",
       "       [ 9.12634625e+00,  1.22443267e+00],\n",
       "       [ 9.46768199e+00,  1.82522635e+00],\n",
       "       [ 7.06201386e+00, -6.63400423e-01],\n",
       "       [ 7.95876243e+00, -1.64961722e-01],\n",
       "       [ 8.61367201e+00,  4.03253602e-01],\n",
       "       [ 8.33041759e+00,  2.28133530e-01],\n",
       "       [ 6.93412007e+00, -7.05519379e-01],\n",
       "       [ 7.68823131e+00, -9.22362309e-03],\n",
       "       [ 7.91793715e+00,  6.75121313e-01],\n",
       "       [ 5.66188065e+00, -1.93435524e+00],\n",
       "       [ 7.24101468e+00, -2.72615132e-01],\n",
       "       [ 6.41443556e+00,  1.24730131e+00],\n",
       "       [ 6.85944381e+00,  1.05165396e+00],\n",
       "       [ 6.76470393e+00, -5.05151855e-01],\n",
       "       [ 8.08189937e+00,  7.63392750e-01],\n",
       "       [ 7.18676904e+00, -3.60986823e-01],\n",
       "       [ 8.31444876e+00,  6.44953177e-01],\n",
       "       [ 7.67196741e+00, -1.34893840e-01],\n",
       "       [-1.45927545e+00,  2.85437643e-02],\n",
       "       [-1.79770574e+00,  4.84385502e-01],\n",
       "       [-2.41694888e+00, -9.27840307e-02],\n",
       "       [-2.26247349e+00, -1.58725251e+00],\n",
       "       [-2.54867836e+00, -4.72204898e-01],\n",
       "       [-2.42996725e+00, -9.66132066e-01],\n",
       "       [-2.44848456e+00,  7.95961954e-01],\n",
       "       [-2.22666513e-01, -1.58467318e+00],\n",
       "       [-1.75020123e+00, -8.21180130e-01],\n",
       "       [-1.95842242e+00, -3.51563753e-01],\n",
       "       [-1.19376031e+00, -2.63445570e+00],\n",
       "       [-1.85892567e+00,  3.19006544e-01],\n",
       "       [-1.15809388e+00, -2.64340991e+00],\n",
       "       [-2.66605725e+00, -6.42504540e-01],\n",
       "       [-3.78367218e-01,  8.66389312e-02],\n",
       "       [-1.20117255e+00,  8.44373592e-02],\n",
       "       [-2.76810246e+00,  3.21995363e-02],\n",
       "       [-7.76854039e-01, -1.65916185e+00],\n",
       "       [-3.49805433e+00, -1.68495616e+00],\n",
       "       [-1.09042788e+00, -1.62658350e+00],\n",
       "       [-3.71589615e+00,  1.04451442e+00],\n",
       "       [-9.97610366e-01, -4.90530602e-01],\n",
       "       [-3.83525931e+00, -1.40595806e+00],\n",
       "       [-2.25741249e+00, -1.42679423e+00],\n",
       "       [-1.25571326e+00, -5.46424197e-01],\n",
       "       [-1.43755762e+00, -1.34424979e-01],\n",
       "       [-2.45906137e+00, -9.35277280e-01],\n",
       "       [-3.51848495e+00,  1.60588866e-01],\n",
       "       [-2.58979871e+00, -1.74611728e-01],\n",
       "       [ 3.07487884e-01, -1.31887146e+00],\n",
       "       [-1.10669179e+00, -1.75225371e+00],\n",
       "       [-6.05524589e-01, -1.94298038e+00],\n",
       "       [-8.98703769e-01, -9.04940034e-01],\n",
       "       [-4.49846635e+00, -8.82749915e-01],\n",
       "       [-2.93397799e+00,  2.73791065e-02],\n",
       "       [-2.10360821e+00,  1.19156767e+00],\n",
       "       [-2.14258208e+00,  8.87797815e-02],\n",
       "       [-2.47945603e+00, -1.94073927e+00],\n",
       "       [-1.32552574e+00, -1.62869550e-01],\n",
       "       [-1.95557887e+00, -1.15434826e+00],\n",
       "       [-2.40157020e+00, -1.59458341e+00],\n",
       "       [-2.29248878e+00, -3.32860296e-01],\n",
       "       [-1.27227224e+00, -1.21458428e+00],\n",
       "       [-2.93176055e-01, -1.79871509e+00],\n",
       "       [-2.00598883e+00, -9.05418042e-01],\n",
       "       [-1.18166311e+00, -5.37570242e-01],\n",
       "       [-1.61615645e+00, -4.70103580e-01],\n",
       "       [-1.42158879e+00, -5.51244626e-01],\n",
       "       [ 4.75973788e-01, -7.99905482e-01],\n",
       "       [-1.54948259e+00, -5.93363582e-01],\n",
       "       [-7.83947399e+00,  2.13973345e+00],\n",
       "       [-5.50747997e+00, -3.58139892e-02],\n",
       "       [-6.29200850e+00,  4.67175777e-01],\n",
       "       [-5.60545633e+00, -3.40738058e-01],\n",
       "       [-6.85055995e+00,  8.29825394e-01],\n",
       "       [-7.41816784e+00, -1.73117995e-01],\n",
       "       [-4.67799541e+00, -4.99095015e-01],\n",
       "       [-6.31692685e+00, -9.68980756e-01],\n",
       "       [-6.32773684e+00, -1.38328993e+00],\n",
       "       [-6.85281335e+00,  2.71758963e+00],\n",
       "       [-4.44072512e+00,  1.34723692e+00],\n",
       "       [-5.45009572e+00, -2.07736942e-01],\n",
       "       [-5.66033713e+00,  8.32713617e-01],\n",
       "       [-5.95823722e+00, -9.40175447e-02],\n",
       "       [-6.75926282e+00,  1.60023206e+00],\n",
       "       [-5.80704331e+00,  2.01019882e+00],\n",
       "       [-5.06601233e+00, -2.62733839e-02],\n",
       "       [-6.60881882e+00,  1.75163587e+00],\n",
       "       [-9.17147486e+00, -7.48255067e-01],\n",
       "       [-4.76453569e+00, -2.15573720e+00],\n",
       "       [-6.27283915e+00,  1.64948141e+00],\n",
       "       [-5.36071189e+00,  6.46120732e-01],\n",
       "       [-7.58119982e+00, -9.80722934e-01],\n",
       "       [-4.37150279e+00, -1.21297458e-01],\n",
       "       [-5.72317531e+00,  1.29327553e+00],\n",
       "       [-5.27915920e+00, -4.24582377e-02],\n",
       "       [-4.08087208e+00,  1.85936572e-01],\n",
       "       [-4.07703640e+00,  5.23238483e-01],\n",
       "       [-6.51910397e+00,  2.96976389e-01],\n",
       "       [-4.58371942e+00, -8.56815813e-01],\n",
       "       [-6.22824009e+00, -7.12719638e-01],\n",
       "       [-5.22048773e+00,  1.46819509e+00],\n",
       "       [-6.80015000e+00,  5.80895175e-01],\n",
       "       [-3.81515972e+00, -9.42985932e-01],\n",
       "       [-5.10748966e+00, -2.13059000e+00],\n",
       "       [-6.79671631e+00,  8.63090395e-01],\n",
       "       [-6.52449599e+00,  2.44503527e+00],\n",
       "       [-4.99550279e+00,  1.87768525e-01],\n",
       "       [-3.93985300e+00,  6.14020389e-01],\n",
       "       [-5.20383090e+00,  1.14476808e+00],\n",
       "       [-6.65308685e+00,  1.80531976e+00],\n",
       "       [-5.10555946e+00,  1.99218201e+00],\n",
       "       [-5.50747997e+00, -3.58139892e-02],\n",
       "       [-6.79601924e+00,  1.46068695e+00],\n",
       "       [-6.84735943e+00,  2.42895067e+00],\n",
       "       [-5.64500346e+00,  1.67771734e+00],\n",
       "       [-5.17956460e+00, -3.63475041e-01],\n",
       "       [-4.96774090e+00,  8.21140550e-01],\n",
       "       [-5.88614539e+00,  2.34509051e+00],\n",
       "       [-4.68315426e+00,  3.32033811e-01]])"
      ]
     },
     "execution_count": 17,
     "metadata": {},
     "output_type": "execute_result"
    }
   ],
   "source": [
    "from sklearn.discriminant_analysis import LinearDiscriminantAnalysis\n",
    "\n",
    "lda = LinearDiscriminantAnalysis(n_components=2)\n",
    "\n",
    "X_new = lda.fit_transform(X, y)\n",
    "\n",
    "X_new"
   ]
  },
  {
   "cell_type": "code",
   "execution_count": 27,
   "metadata": {},
   "outputs": [
    {
     "data": {
      "image/png": "[encoded data removed]",
      "text/plain": [
       "<Figure size 720x576 with 1 Axes>"
      ]
     },
     "metadata": {
      "needs_background": "light"
     },
     "output_type": "display_data"
    }
   ],
   "source": [
    "for label in set(y):\n",
    "    X_plot = X_new[y == label]\n",
    "    \n",
    "    plt.scatter(X_plot[:,0], X_plot[:,1], label=label)\n",
    "    \n",
    "plt.title('LDA reduction of Iris dataset')\n",
    "plt.gcf().set_size_inches((10,8))\n",
    "plt.legend()\n",
    "plt.show()"
   ]
  },
  {
   "cell_type": "markdown",
   "metadata": {},
   "source": [
    "### c)"
   ]
  },
  {
   "cell_type": "code",
   "execution_count": 81,
   "metadata": {},
   "outputs": [
    {
     "data": {
      "text/plain": [
       "array([[ 2.93808505e+00, -1.03338384e-16,  3.84220643e-16,\n",
       "         1.67611882e-16],\n",
       "       [-1.03338384e-16,  9.20164904e-01, -3.34119573e-16,\n",
       "         9.20777751e-17],\n",
       "       [ 3.84220643e-16, -3.34119573e-16,  1.47741821e-01,\n",
       "         2.57394972e-16],\n",
       "       [ 1.67611882e-16,  9.20777751e-17,  2.57394972e-16,\n",
       "         2.08538622e-02]])"
      ]
     },
     "execution_count": 81,
     "metadata": {},
     "output_type": "execute_result"
    }
   ],
   "source": [
    "from sklearn.preprocessing import StandardScaler\n",
    "\n",
    "def custom_PCA(X):\n",
    "    scaler = StandardScaler()\n",
    "    X_ = scaler.fit_transform(X)\n",
    "    \n",
    "    X_cov = np.cov(X_.T)\n",
    "    \n",
    "    w, V = np.linalg.eig(X_cov)\n",
    "    \n",
    "    sort_idx = np.argsort(w)[::-1]\n",
    "    \n",
    "    w, V = w[sort_idx], V[:, sort_idx]\n",
    "    \n",
    "    return np.matmul(X_,V)\n",
    "\n",
    "X_new = custom_PCA(X)\n",
    "\n",
    "np.cov(X_new.T)"
   ]
  },
  {
   "cell_type": "code",
   "execution_count": 83,
   "metadata": {},
   "outputs": [
    {
     "data": {
      "text/plain": [
       "<seaborn.axisgrid.PairGrid at 0x7f75ccc28370>"
      ]
     },
     "execution_count": 83,
     "metadata": {},
     "output_type": "execute_result"
    },
    {
     "data": {
      "image/png": "[encoded data removed]",
      "text/plain": [
       "<Figure size 720x720 with 20 Axes>"
      ]
     },
     "metadata": {
      "needs_background": "light"
     },
     "output_type": "display_data"
    }
   ],
   "source": [
    "sns.pairplot(pd.DataFrame(X_new))"
   ]
  },
  {
   "cell_type": "code",
   "execution_count": 84,
   "metadata": {},
   "outputs": [
    {
     "data": {
      "image/png": "[encoded data removed]",
      "text/plain": [
       "<Figure size 720x576 with 1 Axes>"
      ]
     },
     "metadata": {
      "needs_background": "light"
     },
     "output_type": "display_data"
    }
   ],
   "source": [
    "for label in set(y):\n",
    "    # 2D projection using PCA\n",
    "    X_plot = X_new[:, :2][y == label]\n",
    "    \n",
    "    plt.scatter(X_plot[:,0], X_plot[:,1], label=label)\n",
    "    \n",
    "plt.title('PCA reduction of Iris dataset')\n",
    "plt.gcf().set_size_inches((10,8))\n",
    "plt.legend()\n",
    "plt.show()"
   ]
  }
 ],
 "metadata": {
  "kernelspec": {
   "display_name": "Python [conda env:AIDAE] *",
   "language": "python",
   "name": "conda-env-AIDAE-py"
  },
  "language_info": {
   "codemirror_mode": {
    "name": "ipython",
    "version": 3
   },
   "file_extension": ".py",
   "mimetype": "text/x-python",
   "name": "python",
   "nbconvert_exporter": "python",
   "pygments_lexer": "ipython3",
   "version": "3.8.2"
  }
 },
 "nbformat": 4,
 "nbformat_minor": 4
}
