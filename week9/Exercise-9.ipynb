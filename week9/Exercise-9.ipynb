{
 "cells": [
  {
   "cell_type": "code",
   "execution_count": 15,
   "metadata": {},
   "outputs": [
    {
     "data": {
      "text/plain": [
       "'2.2.0'"
      ]
     },
     "execution_count": 15,
     "metadata": {},
     "output_type": "execute_result"
    }
   ],
   "source": [
    "import tensorflow as tf\n",
    "\n",
    "tf.__version__"
   ]
  },
  {
   "cell_type": "code",
   "execution_count": 16,
   "metadata": {},
   "outputs": [
    {
     "data": {
      "text/plain": [
       "'1.2.0'"
      ]
     },
     "execution_count": 16,
     "metadata": {},
     "output_type": "execute_result"
    }
   ],
   "source": [
    "import tensorflow_datasets as tfds\n",
    "\n",
    "tfds.__version__"
   ]
  },
  {
   "cell_type": "code",
   "execution_count": 52,
   "metadata": {},
   "outputs": [],
   "source": [
    "import matplotlib.pyplot as plt\n",
    "import numpy as np"
   ]
  },
  {
   "cell_type": "markdown",
   "metadata": {},
   "source": [
    "# Exercise 9\n",
    "\n",
    "## Task 1\n",
    "\n",
    "### b)"
   ]
  },
  {
   "cell_type": "code",
   "execution_count": 17,
   "metadata": {},
   "outputs": [
    {
     "name": "stdout",
     "output_type": "stream",
     "text": [
      "\u001b[1mDownloading and preparing dataset mnist (11.06 MiB) to /home/bruno/tensorflow_datasets/mnist/1.0.0...\u001b[0m\n"
     ]
    },
    {
     "data": {
      "application/vnd.jupyter.widget-view+json": {
       "model_id": "bc1047cc1b484e299469c1719a5b4d09",
       "version_major": 2,
       "version_minor": 0
      },
      "text/plain": [
       "HBox(children=(FloatProgress(value=1.0, bar_style='info', description='Dl Completed...', max=1.0, style=Progre…"
      ]
     },
     "metadata": {},
     "output_type": "display_data"
    },
    {
     "data": {
      "application/vnd.jupyter.widget-view+json": {
       "model_id": "3a23bc7fb72c4983939a318384af5d61",
       "version_major": 2,
       "version_minor": 0
      },
      "text/plain": [
       "HBox(children=(FloatProgress(value=1.0, bar_style='info', description='Dl Size...', max=1.0, style=ProgressSty…"
      ]
     },
     "metadata": {},
     "output_type": "display_data"
    },
    {
     "data": {
      "application/vnd.jupyter.widget-view+json": {
       "model_id": "71ff518778974e4f8e75b6034ce5ff4e",
       "version_major": 2,
       "version_minor": 0
      },
      "text/plain": [
       "HBox(children=(FloatProgress(value=1.0, bar_style='info', description='Extraction completed...', max=1.0, styl…"
      ]
     },
     "metadata": {},
     "output_type": "display_data"
    },
    {
     "name": "stderr",
     "output_type": "stream",
     "text": [
      "/home/bruno/miniconda3/envs/AIDAE/lib/python3.8/site-packages/urllib3/connectionpool.py:979: InsecureRequestWarning: Unverified HTTPS request is being made to host 'storage.googleapis.com'. Adding certificate verification is strongly advised. See: https://urllib3.readthedocs.io/en/latest/advanced-usage.html#ssl-warnings\n",
      "  warnings.warn(\n",
      "/home/bruno/miniconda3/envs/AIDAE/lib/python3.8/site-packages/urllib3/connectionpool.py:979: InsecureRequestWarning: Unverified HTTPS request is being made to host 'storage.googleapis.com'. Adding certificate verification is strongly advised. See: https://urllib3.readthedocs.io/en/latest/advanced-usage.html#ssl-warnings\n",
      "  warnings.warn(\n",
      "/home/bruno/miniconda3/envs/AIDAE/lib/python3.8/site-packages/urllib3/connectionpool.py:979: InsecureRequestWarning: Unverified HTTPS request is being made to host 'storage.googleapis.com'. Adding certificate verification is strongly advised. See: https://urllib3.readthedocs.io/en/latest/advanced-usage.html#ssl-warnings\n",
      "  warnings.warn(\n",
      "/home/bruno/miniconda3/envs/AIDAE/lib/python3.8/site-packages/urllib3/connectionpool.py:979: InsecureRequestWarning: Unverified HTTPS request is being made to host 'storage.googleapis.com'. Adding certificate verification is strongly advised. See: https://urllib3.readthedocs.io/en/latest/advanced-usage.html#ssl-warnings\n",
      "  warnings.warn(\n"
     ]
    },
    {
     "name": "stdout",
     "output_type": "stream",
     "text": [
      "\n",
      "\n",
      "\n",
      "\n",
      "\n",
      "\n"
     ]
    },
    {
     "data": {
      "application/vnd.jupyter.widget-view+json": {
       "model_id": "",
       "version_major": 2,
       "version_minor": 0
      },
      "text/plain": [
       "HBox(children=(FloatProgress(value=1.0, bar_style='info', max=1.0), HTML(value='')))"
      ]
     },
     "metadata": {},
     "output_type": "display_data"
    },
    {
     "data": {
      "application/vnd.jupyter.widget-view+json": {
       "model_id": "",
       "version_major": 2,
       "version_minor": 0
      },
      "text/plain": [
       "HBox(children=(FloatProgress(value=0.0, description='Shuffling...', max=10.0, style=ProgressStyle(description_…"
      ]
     },
     "metadata": {},
     "output_type": "display_data"
    },
    {
     "name": "stdout",
     "output_type": "stream",
     "text": [
      "WARNING:tensorflow:From /home/bruno/miniconda3/envs/AIDAE/lib/python3.8/site-packages/tensorflow_datasets/core/file_format_adapter.py:209: tf_record_iterator (from tensorflow.python.lib.io.tf_record) is deprecated and will be removed in a future version.\n",
      "Instructions for updating:\n",
      "Use eager execution and: \n",
      "`tf.data.TFRecordDataset(path)`\n"
     ]
    },
    {
     "name": "stderr",
     "output_type": "stream",
     "text": [
      "WARNING:tensorflow:From /home/bruno/miniconda3/envs/AIDAE/lib/python3.8/site-packages/tensorflow_datasets/core/file_format_adapter.py:209: tf_record_iterator (from tensorflow.python.lib.io.tf_record) is deprecated and will be removed in a future version.\n",
      "Instructions for updating:\n",
      "Use eager execution and: \n",
      "`tf.data.TFRecordDataset(path)`\n"
     ]
    },
    {
     "data": {
      "application/vnd.jupyter.widget-view+json": {
       "model_id": "",
       "version_major": 2,
       "version_minor": 0
      },
      "text/plain": [
       "HBox(children=(FloatProgress(value=1.0, bar_style='info', description='Reading...', max=1.0, style=ProgressSty…"
      ]
     },
     "metadata": {},
     "output_type": "display_data"
    },
    {
     "data": {
      "application/vnd.jupyter.widget-view+json": {
       "model_id": "",
       "version_major": 2,
       "version_minor": 0
      },
      "text/plain": [
       "HBox(children=(FloatProgress(value=0.0, description='Writing...', max=6000.0, style=ProgressStyle(description_…"
      ]
     },
     "metadata": {},
     "output_type": "display_data"
    },
    {
     "data": {
      "application/vnd.jupyter.widget-view+json": {
       "model_id": "",
       "version_major": 2,
       "version_minor": 0
      },
      "text/plain": [
       "HBox(children=(FloatProgress(value=1.0, bar_style='info', description='Reading...', max=1.0, style=ProgressSty…"
      ]
     },
     "metadata": {},
     "output_type": "display_data"
    },
    {
     "data": {
      "application/vnd.jupyter.widget-view+json": {
       "model_id": "",
       "version_major": 2,
       "version_minor": 0
      },
      "text/plain": [
       "HBox(children=(FloatProgress(value=0.0, description='Writing...', max=6000.0, style=ProgressStyle(description_…"
      ]
     },
     "metadata": {},
     "output_type": "display_data"
    },
    {
     "data": {
      "application/vnd.jupyter.widget-view+json": {
       "model_id": "",
       "version_major": 2,
       "version_minor": 0
      },
      "text/plain": [
       "HBox(children=(FloatProgress(value=1.0, bar_style='info', description='Reading...', max=1.0, style=ProgressSty…"
      ]
     },
     "metadata": {},
     "output_type": "display_data"
    },
    {
     "data": {
      "application/vnd.jupyter.widget-view+json": {
       "model_id": "",
       "version_major": 2,
       "version_minor": 0
      },
      "text/plain": [
       "HBox(children=(FloatProgress(value=0.0, description='Writing...', max=6000.0, style=ProgressStyle(description_…"
      ]
     },
     "metadata": {},
     "output_type": "display_data"
    },
    {
     "data": {
      "application/vnd.jupyter.widget-view+json": {
       "model_id": "",
       "version_major": 2,
       "version_minor": 0
      },
      "text/plain": [
       "HBox(children=(FloatProgress(value=1.0, bar_style='info', description='Reading...', max=1.0, style=ProgressSty…"
      ]
     },
     "metadata": {},
     "output_type": "display_data"
    },
    {
     "data": {
      "application/vnd.jupyter.widget-view+json": {
       "model_id": "",
       "version_major": 2,
       "version_minor": 0
      },
      "text/plain": [
       "HBox(children=(FloatProgress(value=0.0, description='Writing...', max=6000.0, style=ProgressStyle(description_…"
      ]
     },
     "metadata": {},
     "output_type": "display_data"
    },
    {
     "data": {
      "application/vnd.jupyter.widget-view+json": {
       "model_id": "",
       "version_major": 2,
       "version_minor": 0
      },
      "text/plain": [
       "HBox(children=(FloatProgress(value=1.0, bar_style='info', description='Reading...', max=1.0, style=ProgressSty…"
      ]
     },
     "metadata": {},
     "output_type": "display_data"
    },
    {
     "data": {
      "application/vnd.jupyter.widget-view+json": {
       "model_id": "",
       "version_major": 2,
       "version_minor": 0
      },
      "text/plain": [
       "HBox(children=(FloatProgress(value=0.0, description='Writing...', max=6000.0, style=ProgressStyle(description_…"
      ]
     },
     "metadata": {},
     "output_type": "display_data"
    },
    {
     "data": {
      "application/vnd.jupyter.widget-view+json": {
       "model_id": "",
       "version_major": 2,
       "version_minor": 0
      },
      "text/plain": [
       "HBox(children=(FloatProgress(value=1.0, bar_style='info', description='Reading...', max=1.0, style=ProgressSty…"
      ]
     },
     "metadata": {},
     "output_type": "display_data"
    },
    {
     "data": {
      "application/vnd.jupyter.widget-view+json": {
       "model_id": "",
       "version_major": 2,
       "version_minor": 0
      },
      "text/plain": [
       "HBox(children=(FloatProgress(value=0.0, description='Writing...', max=6000.0, style=ProgressStyle(description_…"
      ]
     },
     "metadata": {},
     "output_type": "display_data"
    },
    {
     "data": {
      "application/vnd.jupyter.widget-view+json": {
       "model_id": "",
       "version_major": 2,
       "version_minor": 0
      },
      "text/plain": [
       "HBox(children=(FloatProgress(value=1.0, bar_style='info', description='Reading...', max=1.0, style=ProgressSty…"
      ]
     },
     "metadata": {},
     "output_type": "display_data"
    },
    {
     "data": {
      "application/vnd.jupyter.widget-view+json": {
       "model_id": "",
       "version_major": 2,
       "version_minor": 0
      },
      "text/plain": [
       "HBox(children=(FloatProgress(value=0.0, description='Writing...', max=6000.0, style=ProgressStyle(description_…"
      ]
     },
     "metadata": {},
     "output_type": "display_data"
    },
    {
     "data": {
      "application/vnd.jupyter.widget-view+json": {
       "model_id": "",
       "version_major": 2,
       "version_minor": 0
      },
      "text/plain": [
       "HBox(children=(FloatProgress(value=1.0, bar_style='info', description='Reading...', max=1.0, style=ProgressSty…"
      ]
     },
     "metadata": {},
     "output_type": "display_data"
    },
    {
     "data": {
      "application/vnd.jupyter.widget-view+json": {
       "model_id": "",
       "version_major": 2,
       "version_minor": 0
      },
      "text/plain": [
       "HBox(children=(FloatProgress(value=0.0, description='Writing...', max=6000.0, style=ProgressStyle(description_…"
      ]
     },
     "metadata": {},
     "output_type": "display_data"
    },
    {
     "data": {
      "application/vnd.jupyter.widget-view+json": {
       "model_id": "",
       "version_major": 2,
       "version_minor": 0
      },
      "text/plain": [
       "HBox(children=(FloatProgress(value=1.0, bar_style='info', description='Reading...', max=1.0, style=ProgressSty…"
      ]
     },
     "metadata": {},
     "output_type": "display_data"
    },
    {
     "data": {
      "application/vnd.jupyter.widget-view+json": {
       "model_id": "",
       "version_major": 2,
       "version_minor": 0
      },
      "text/plain": [
       "HBox(children=(FloatProgress(value=0.0, description='Writing...', max=6000.0, style=ProgressStyle(description_…"
      ]
     },
     "metadata": {},
     "output_type": "display_data"
    },
    {
     "data": {
      "application/vnd.jupyter.widget-view+json": {
       "model_id": "",
       "version_major": 2,
       "version_minor": 0
      },
      "text/plain": [
       "HBox(children=(FloatProgress(value=1.0, bar_style='info', description='Reading...', max=1.0, style=ProgressSty…"
      ]
     },
     "metadata": {},
     "output_type": "display_data"
    },
    {
     "data": {
      "application/vnd.jupyter.widget-view+json": {
       "model_id": "",
       "version_major": 2,
       "version_minor": 0
      },
      "text/plain": [
       "HBox(children=(FloatProgress(value=0.0, description='Writing...', max=6000.0, style=ProgressStyle(description_…"
      ]
     },
     "metadata": {},
     "output_type": "display_data"
    },
    {
     "data": {
      "application/vnd.jupyter.widget-view+json": {
       "model_id": "",
       "version_major": 2,
       "version_minor": 0
      },
      "text/plain": [
       "HBox(children=(FloatProgress(value=1.0, bar_style='info', max=1.0), HTML(value='')))"
      ]
     },
     "metadata": {},
     "output_type": "display_data"
    },
    {
     "data": {
      "application/vnd.jupyter.widget-view+json": {
       "model_id": "",
       "version_major": 2,
       "version_minor": 0
      },
      "text/plain": [
       "HBox(children=(FloatProgress(value=0.0, description='Shuffling...', max=1.0, style=ProgressStyle(description_w…"
      ]
     },
     "metadata": {},
     "output_type": "display_data"
    },
    {
     "data": {
      "application/vnd.jupyter.widget-view+json": {
       "model_id": "",
       "version_major": 2,
       "version_minor": 0
      },
      "text/plain": [
       "HBox(children=(FloatProgress(value=1.0, bar_style='info', description='Reading...', max=1.0, style=ProgressSty…"
      ]
     },
     "metadata": {},
     "output_type": "display_data"
    },
    {
     "data": {
      "application/vnd.jupyter.widget-view+json": {
       "model_id": "",
       "version_major": 2,
       "version_minor": 0
      },
      "text/plain": [
       "HBox(children=(FloatProgress(value=0.0, description='Writing...', max=10000.0, style=ProgressStyle(description…"
      ]
     },
     "metadata": {},
     "output_type": "display_data"
    },
    {
     "name": "stdout",
     "output_type": "stream",
     "text": [
      "\u001b[1mDataset mnist downloaded and prepared to /home/bruno/tensorflow_datasets/mnist/1.0.0. Subsequent calls will reuse this data.\u001b[0m\n"
     ]
    },
    {
     "name": "stderr",
     "output_type": "stream",
     "text": [
      "WARNING:absl:Warning: Setting shuffle_files=True because split=TRAIN and shuffle_files=None. This behavior will be deprecated on 2019-08-06, at which point shuffle_files=False will be the default for all splits.\n"
     ]
    },
    {
     "data": {
      "text/plain": [
       "{'test': <_OptionsDataset shapes: {image: (28, 28, 1), label: ()}, types: {image: tf.uint8, label: tf.int64}>,\n",
       " 'train': <_OptionsDataset shapes: {image: (28, 28, 1), label: ()}, types: {image: tf.uint8, label: tf.int64}>}"
      ]
     },
     "execution_count": 17,
     "metadata": {},
     "output_type": "execute_result"
    }
   ],
   "source": [
    "mnist = tfds.load('mnist')\n",
    "\n",
    "mnist"
   ]
  },
  {
   "cell_type": "code",
   "execution_count": 90,
   "metadata": {},
   "outputs": [
    {
     "data": {
      "image/png": "[encoded data removed]",
      "text/plain": [
       "<Figure size 432x288 with 1 Axes>"
      ]
     },
     "metadata": {
      "needs_background": "light"
     },
     "output_type": "display_data"
    },
    {
     "data": {
      "image/png": "[encoded data removed]",
      "text/plain": [
       "<Figure size 432x288 with 1 Axes>"
      ]
     },
     "metadata": {
      "needs_background": "light"
     },
     "output_type": "display_data"
    },
    {
     "data": {
      "image/png": "[encoded data removed]",
      "text/plain": [
       "<Figure size 432x288 with 1 Axes>"
      ]
     },
     "metadata": {
      "needs_background": "light"
     },
     "output_type": "display_data"
    },
    {
     "data": {
      "image/png": "[encoded data removed]",
      "text/plain": [
       "<Figure size 432x288 with 1 Axes>"
      ]
     },
     "metadata": {
      "needs_background": "light"
     },
     "output_type": "display_data"
    },
    {
     "data": {
      "image/png": "[encoded data removed]",
      "text/plain": [
       "<Figure size 432x288 with 1 Axes>"
      ]
     },
     "metadata": {
      "needs_background": "light"
     },
     "output_type": "display_data"
    }
   ],
   "source": [
    "for mnist_sample in mnist['train'].take(5):\n",
    "    plt.imshow(np.squeeze(mnist_sample['image'].numpy()))\n",
    "    plt.title(mnist_sample['label'].numpy())\n",
    "    plt.show()"
   ]
  },
  {
   "cell_type": "markdown",
   "metadata": {},
   "source": [
    "### c)"
   ]
  },
  {
   "cell_type": "code",
   "execution_count": 68,
   "metadata": {},
   "outputs": [
    {
     "data": {
      "text/plain": [
       "{'image': <tf.Tensor: shape=(28, 28, 1), dtype=uint8, numpy=\n",
       " array([[[  0],\n",
       "         [  0],\n",
       "         [  0],\n",
       "         [  0],\n",
       "         [  0],\n",
       "         [  0],\n",
       "         [  0],\n",
       "         [  0],\n",
       "         [  0],\n",
       "         [  0],\n",
       "         [  0],\n",
       "         [  0],\n",
       "         [  0],\n",
       "         [  0],\n",
       "         [  0],\n",
       "         [  0],\n",
       "         [  0],\n",
       "         [  0],\n",
       "         [  0],\n",
       "         [  0],\n",
       "         [  0],\n",
       "         [  0],\n",
       "         [  0],\n",
       "         [  0],\n",
       "         [  0],\n",
       "         [  0],\n",
       "         [  0],\n",
       "         [  0]],\n",
       " \n",
       "        [[  0],\n",
       "         [  0],\n",
       "         [  0],\n",
       "         [  0],\n",
       "         [  0],\n",
       "         [  0],\n",
       "         [  0],\n",
       "         [  0],\n",
       "         [  0],\n",
       "         [  0],\n",
       "         [  0],\n",
       "         [  0],\n",
       "         [  0],\n",
       "         [  0],\n",
       "         [  0],\n",
       "         [  0],\n",
       "         [  0],\n",
       "         [  0],\n",
       "         [  0],\n",
       "         [  0],\n",
       "         [  0],\n",
       "         [  0],\n",
       "         [  0],\n",
       "         [  0],\n",
       "         [  0],\n",
       "         [  0],\n",
       "         [  0],\n",
       "         [  0]],\n",
       " \n",
       "        [[  0],\n",
       "         [  0],\n",
       "         [  0],\n",
       "         [  0],\n",
       "         [  0],\n",
       "         [  0],\n",
       "         [  0],\n",
       "         [  0],\n",
       "         [  0],\n",
       "         [  0],\n",
       "         [  0],\n",
       "         [  0],\n",
       "         [  0],\n",
       "         [  0],\n",
       "         [  0],\n",
       "         [  0],\n",
       "         [  0],\n",
       "         [  0],\n",
       "         [  0],\n",
       "         [  0],\n",
       "         [  0],\n",
       "         [  0],\n",
       "         [  0],\n",
       "         [  0],\n",
       "         [  0],\n",
       "         [  0],\n",
       "         [  0],\n",
       "         [  0]],\n",
       " \n",
       "        [[  0],\n",
       "         [  0],\n",
       "         [  0],\n",
       "         [  0],\n",
       "         [  0],\n",
       "         [  0],\n",
       "         [  0],\n",
       "         [  0],\n",
       "         [  0],\n",
       "         [  0],\n",
       "         [  0],\n",
       "         [  0],\n",
       "         [  0],\n",
       "         [  0],\n",
       "         [  0],\n",
       "         [  0],\n",
       "         [  0],\n",
       "         [  0],\n",
       "         [  0],\n",
       "         [  0],\n",
       "         [  0],\n",
       "         [  0],\n",
       "         [  0],\n",
       "         [  0],\n",
       "         [  0],\n",
       "         [  0],\n",
       "         [  0],\n",
       "         [  0]],\n",
       " \n",
       "        [[  0],\n",
       "         [  0],\n",
       "         [  0],\n",
       "         [  0],\n",
       "         [  0],\n",
       "         [  0],\n",
       "         [  0],\n",
       "         [  0],\n",
       "         [  0],\n",
       "         [  0],\n",
       "         [  0],\n",
       "         [  0],\n",
       "         [  0],\n",
       "         [  0],\n",
       "         [  0],\n",
       "         [  0],\n",
       "         [  0],\n",
       "         [  0],\n",
       "         [  0],\n",
       "         [  0],\n",
       "         [  0],\n",
       "         [  0],\n",
       "         [  0],\n",
       "         [  0],\n",
       "         [  0],\n",
       "         [  0],\n",
       "         [  0],\n",
       "         [  0]],\n",
       " \n",
       "        [[  0],\n",
       "         [  0],\n",
       "         [  0],\n",
       "         [  0],\n",
       "         [  0],\n",
       "         [  0],\n",
       "         [  0],\n",
       "         [  0],\n",
       "         [  0],\n",
       "         [  0],\n",
       "         [  0],\n",
       "         [  0],\n",
       "         [  0],\n",
       "         [ 44],\n",
       "         [156],\n",
       "         [182],\n",
       "         [214],\n",
       "         [120],\n",
       "         [  0],\n",
       "         [  0],\n",
       "         [  0],\n",
       "         [  0],\n",
       "         [  0],\n",
       "         [  0],\n",
       "         [  0],\n",
       "         [  0],\n",
       "         [  0],\n",
       "         [  0]],\n",
       " \n",
       "        [[  0],\n",
       "         [  0],\n",
       "         [  0],\n",
       "         [  0],\n",
       "         [  0],\n",
       "         [  0],\n",
       "         [  0],\n",
       "         [  0],\n",
       "         [  0],\n",
       "         [  0],\n",
       "         [  0],\n",
       "         [  0],\n",
       "         [  0],\n",
       "         [219],\n",
       "         [254],\n",
       "         [254],\n",
       "         [254],\n",
       "         [254],\n",
       "         [204],\n",
       "         [ 19],\n",
       "         [  0],\n",
       "         [  0],\n",
       "         [  0],\n",
       "         [  0],\n",
       "         [  0],\n",
       "         [  0],\n",
       "         [  0],\n",
       "         [  0]],\n",
       " \n",
       "        [[  0],\n",
       "         [  0],\n",
       "         [  0],\n",
       "         [  0],\n",
       "         [  0],\n",
       "         [  0],\n",
       "         [  0],\n",
       "         [  0],\n",
       "         [  0],\n",
       "         [  0],\n",
       "         [  0],\n",
       "         [ 17],\n",
       "         [ 74],\n",
       "         [201],\n",
       "         [227],\n",
       "         [ 23],\n",
       "         [ 20],\n",
       "         [143],\n",
       "         [254],\n",
       "         [198],\n",
       "         [  0],\n",
       "         [  0],\n",
       "         [  0],\n",
       "         [  0],\n",
       "         [  0],\n",
       "         [  0],\n",
       "         [  0],\n",
       "         [  0]],\n",
       " \n",
       "        [[  0],\n",
       "         [  0],\n",
       "         [  0],\n",
       "         [  0],\n",
       "         [  0],\n",
       "         [  0],\n",
       "         [  0],\n",
       "         [  0],\n",
       "         [  0],\n",
       "         [  0],\n",
       "         [134],\n",
       "         [245],\n",
       "         [254],\n",
       "         [254],\n",
       "         [226],\n",
       "         [ 15],\n",
       "         [  0],\n",
       "         [ 23],\n",
       "         [239],\n",
       "         [246],\n",
       "         [ 40],\n",
       "         [  0],\n",
       "         [  0],\n",
       "         [  0],\n",
       "         [  0],\n",
       "         [  0],\n",
       "         [  0],\n",
       "         [  0]],\n",
       " \n",
       "        [[  0],\n",
       "         [  0],\n",
       "         [  0],\n",
       "         [  0],\n",
       "         [  0],\n",
       "         [  0],\n",
       "         [  0],\n",
       "         [  0],\n",
       "         [  0],\n",
       "         [ 61],\n",
       "         [253],\n",
       "         [240],\n",
       "         [142],\n",
       "         [ 58],\n",
       "         [ 14],\n",
       "         [  0],\n",
       "         [  0],\n",
       "         [  0],\n",
       "         [199],\n",
       "         [242],\n",
       "         [ 26],\n",
       "         [  0],\n",
       "         [  0],\n",
       "         [  0],\n",
       "         [  0],\n",
       "         [  0],\n",
       "         [  0],\n",
       "         [  0]],\n",
       " \n",
       "        [[  0],\n",
       "         [  0],\n",
       "         [  0],\n",
       "         [  0],\n",
       "         [  0],\n",
       "         [  0],\n",
       "         [  0],\n",
       "         [  0],\n",
       "         [  0],\n",
       "         [ 66],\n",
       "         [254],\n",
       "         [198],\n",
       "         [  0],\n",
       "         [  0],\n",
       "         [  0],\n",
       "         [  0],\n",
       "         [  0],\n",
       "         [  0],\n",
       "         [140],\n",
       "         [233],\n",
       "         [  0],\n",
       "         [  0],\n",
       "         [  0],\n",
       "         [  0],\n",
       "         [  0],\n",
       "         [  0],\n",
       "         [  0],\n",
       "         [  0]],\n",
       " \n",
       "        [[  0],\n",
       "         [  0],\n",
       "         [  0],\n",
       "         [  0],\n",
       "         [  0],\n",
       "         [  0],\n",
       "         [  0],\n",
       "         [  0],\n",
       "         [  0],\n",
       "         [ 29],\n",
       "         [243],\n",
       "         [230],\n",
       "         [ 36],\n",
       "         [  0],\n",
       "         [  0],\n",
       "         [  0],\n",
       "         [  0],\n",
       "         [ 18],\n",
       "         [230],\n",
       "         [233],\n",
       "         [  0],\n",
       "         [  0],\n",
       "         [  0],\n",
       "         [  0],\n",
       "         [  0],\n",
       "         [  0],\n",
       "         [  0],\n",
       "         [  0]],\n",
       " \n",
       "        [[  0],\n",
       "         [  0],\n",
       "         [  0],\n",
       "         [  0],\n",
       "         [  0],\n",
       "         [  0],\n",
       "         [  0],\n",
       "         [  0],\n",
       "         [  0],\n",
       "         [  0],\n",
       "         [ 98],\n",
       "         [249],\n",
       "         [203],\n",
       "         [  7],\n",
       "         [  0],\n",
       "         [  0],\n",
       "         [  0],\n",
       "         [ 49],\n",
       "         [254],\n",
       "         [168],\n",
       "         [  0],\n",
       "         [  0],\n",
       "         [  0],\n",
       "         [  0],\n",
       "         [  0],\n",
       "         [  0],\n",
       "         [  0],\n",
       "         [  0]],\n",
       " \n",
       "        [[  0],\n",
       "         [  0],\n",
       "         [  0],\n",
       "         [  0],\n",
       "         [  0],\n",
       "         [  0],\n",
       "         [  0],\n",
       "         [  0],\n",
       "         [  0],\n",
       "         [  0],\n",
       "         [  0],\n",
       "         [109],\n",
       "         [254],\n",
       "         [193],\n",
       "         [  8],\n",
       "         [  0],\n",
       "         [ 19],\n",
       "         [219],\n",
       "         [232],\n",
       "         [  8],\n",
       "         [  0],\n",
       "         [  0],\n",
       "         [  0],\n",
       "         [  0],\n",
       "         [  0],\n",
       "         [  0],\n",
       "         [  0],\n",
       "         [  0]],\n",
       " \n",
       "        [[  0],\n",
       "         [  0],\n",
       "         [  0],\n",
       "         [  0],\n",
       "         [  0],\n",
       "         [  0],\n",
       "         [  0],\n",
       "         [  0],\n",
       "         [  0],\n",
       "         [  0],\n",
       "         [  0],\n",
       "         [  9],\n",
       "         [170],\n",
       "         [254],\n",
       "         [156],\n",
       "         [  0],\n",
       "         [ 94],\n",
       "         [254],\n",
       "         [111],\n",
       "         [  0],\n",
       "         [  0],\n",
       "         [  0],\n",
       "         [  0],\n",
       "         [  0],\n",
       "         [  0],\n",
       "         [  0],\n",
       "         [  0],\n",
       "         [  0]],\n",
       " \n",
       "        [[  0],\n",
       "         [  0],\n",
       "         [  0],\n",
       "         [  0],\n",
       "         [  0],\n",
       "         [  0],\n",
       "         [  0],\n",
       "         [  0],\n",
       "         [  0],\n",
       "         [  0],\n",
       "         [  0],\n",
       "         [  0],\n",
       "         [  9],\n",
       "         [170],\n",
       "         [247],\n",
       "         [182],\n",
       "         [247],\n",
       "         [216],\n",
       "         [ 10],\n",
       "         [  0],\n",
       "         [  0],\n",
       "         [  0],\n",
       "         [  0],\n",
       "         [  0],\n",
       "         [  0],\n",
       "         [  0],\n",
       "         [  0],\n",
       "         [  0]],\n",
       " \n",
       "        [[  0],\n",
       "         [  0],\n",
       "         [  0],\n",
       "         [  0],\n",
       "         [  0],\n",
       "         [  0],\n",
       "         [  0],\n",
       "         [  0],\n",
       "         [  0],\n",
       "         [  0],\n",
       "         [  0],\n",
       "         [  0],\n",
       "         [  0],\n",
       "         [ 25],\n",
       "         [225],\n",
       "         [254],\n",
       "         [238],\n",
       "         [ 43],\n",
       "         [  0],\n",
       "         [  0],\n",
       "         [  0],\n",
       "         [  0],\n",
       "         [  0],\n",
       "         [  0],\n",
       "         [  0],\n",
       "         [  0],\n",
       "         [  0],\n",
       "         [  0]],\n",
       " \n",
       "        [[  0],\n",
       "         [  0],\n",
       "         [  0],\n",
       "         [  0],\n",
       "         [  0],\n",
       "         [  0],\n",
       "         [  0],\n",
       "         [  0],\n",
       "         [  0],\n",
       "         [  0],\n",
       "         [  0],\n",
       "         [  0],\n",
       "         [  0],\n",
       "         [ 22],\n",
       "         [216],\n",
       "         [254],\n",
       "         [224],\n",
       "         [  7],\n",
       "         [  0],\n",
       "         [  0],\n",
       "         [  0],\n",
       "         [  0],\n",
       "         [  0],\n",
       "         [  0],\n",
       "         [  0],\n",
       "         [  0],\n",
       "         [  0],\n",
       "         [  0]],\n",
       " \n",
       "        [[  0],\n",
       "         [  0],\n",
       "         [  0],\n",
       "         [  0],\n",
       "         [  0],\n",
       "         [  0],\n",
       "         [  0],\n",
       "         [  0],\n",
       "         [  0],\n",
       "         [  0],\n",
       "         [  0],\n",
       "         [  0],\n",
       "         [  6],\n",
       "         [157],\n",
       "         [250],\n",
       "         [232],\n",
       "         [254],\n",
       "         [ 90],\n",
       "         [  0],\n",
       "         [  0],\n",
       "         [  0],\n",
       "         [  0],\n",
       "         [  0],\n",
       "         [  0],\n",
       "         [  0],\n",
       "         [  0],\n",
       "         [  0],\n",
       "         [  0]],\n",
       " \n",
       "        [[  0],\n",
       "         [  0],\n",
       "         [  0],\n",
       "         [  0],\n",
       "         [  0],\n",
       "         [  0],\n",
       "         [  0],\n",
       "         [  0],\n",
       "         [  0],\n",
       "         [  0],\n",
       "         [  0],\n",
       "         [  0],\n",
       "         [ 97],\n",
       "         [254],\n",
       "         [167],\n",
       "         [ 40],\n",
       "         [254],\n",
       "         [174],\n",
       "         [  0],\n",
       "         [  0],\n",
       "         [  0],\n",
       "         [  0],\n",
       "         [  0],\n",
       "         [  0],\n",
       "         [  0],\n",
       "         [  0],\n",
       "         [  0],\n",
       "         [  0]],\n",
       " \n",
       "        [[  0],\n",
       "         [  0],\n",
       "         [  0],\n",
       "         [  0],\n",
       "         [  0],\n",
       "         [  0],\n",
       "         [  0],\n",
       "         [  0],\n",
       "         [  0],\n",
       "         [  0],\n",
       "         [  0],\n",
       "         [ 49],\n",
       "         [247],\n",
       "         [213],\n",
       "         [ 10],\n",
       "         [ 40],\n",
       "         [254],\n",
       "         [224],\n",
       "         [  0],\n",
       "         [  0],\n",
       "         [  0],\n",
       "         [  0],\n",
       "         [  0],\n",
       "         [  0],\n",
       "         [  0],\n",
       "         [  0],\n",
       "         [  0],\n",
       "         [  0]],\n",
       " \n",
       "        [[  0],\n",
       "         [  0],\n",
       "         [  0],\n",
       "         [  0],\n",
       "         [  0],\n",
       "         [  0],\n",
       "         [  0],\n",
       "         [  0],\n",
       "         [  0],\n",
       "         [  0],\n",
       "         [ 24],\n",
       "         [216],\n",
       "         [234],\n",
       "         [ 44],\n",
       "         [  0],\n",
       "         [ 78],\n",
       "         [254],\n",
       "         [161],\n",
       "         [  0],\n",
       "         [  0],\n",
       "         [  0],\n",
       "         [  0],\n",
       "         [  0],\n",
       "         [  0],\n",
       "         [  0],\n",
       "         [  0],\n",
       "         [  0],\n",
       "         [  0]],\n",
       " \n",
       "        [[  0],\n",
       "         [  0],\n",
       "         [  0],\n",
       "         [  0],\n",
       "         [  0],\n",
       "         [  0],\n",
       "         [  0],\n",
       "         [  0],\n",
       "         [  0],\n",
       "         [  0],\n",
       "         [ 61],\n",
       "         [254],\n",
       "         [204],\n",
       "         [  9],\n",
       "         [ 98],\n",
       "         [242],\n",
       "         [253],\n",
       "         [ 75],\n",
       "         [  0],\n",
       "         [  0],\n",
       "         [  0],\n",
       "         [  0],\n",
       "         [  0],\n",
       "         [  0],\n",
       "         [  0],\n",
       "         [  0],\n",
       "         [  0],\n",
       "         [  0]],\n",
       " \n",
       "        [[  0],\n",
       "         [  0],\n",
       "         [  0],\n",
       "         [  0],\n",
       "         [  0],\n",
       "         [  0],\n",
       "         [  0],\n",
       "         [  0],\n",
       "         [  0],\n",
       "         [  0],\n",
       "         [ 60],\n",
       "         [254],\n",
       "         [255],\n",
       "         [254],\n",
       "         [254],\n",
       "         [254],\n",
       "         [157],\n",
       "         [  0],\n",
       "         [  0],\n",
       "         [  0],\n",
       "         [  0],\n",
       "         [  0],\n",
       "         [  0],\n",
       "         [  0],\n",
       "         [  0],\n",
       "         [  0],\n",
       "         [  0],\n",
       "         [  0]],\n",
       " \n",
       "        [[  0],\n",
       "         [  0],\n",
       "         [  0],\n",
       "         [  0],\n",
       "         [  0],\n",
       "         [  0],\n",
       "         [  0],\n",
       "         [  0],\n",
       "         [  0],\n",
       "         [  0],\n",
       "         [  0],\n",
       "         [123],\n",
       "         [244],\n",
       "         [254],\n",
       "         [240],\n",
       "         [ 84],\n",
       "         [  0],\n",
       "         [  0],\n",
       "         [  0],\n",
       "         [  0],\n",
       "         [  0],\n",
       "         [  0],\n",
       "         [  0],\n",
       "         [  0],\n",
       "         [  0],\n",
       "         [  0],\n",
       "         [  0],\n",
       "         [  0]],\n",
       " \n",
       "        [[  0],\n",
       "         [  0],\n",
       "         [  0],\n",
       "         [  0],\n",
       "         [  0],\n",
       "         [  0],\n",
       "         [  0],\n",
       "         [  0],\n",
       "         [  0],\n",
       "         [  0],\n",
       "         [  0],\n",
       "         [  0],\n",
       "         [  0],\n",
       "         [  0],\n",
       "         [  0],\n",
       "         [  0],\n",
       "         [  0],\n",
       "         [  0],\n",
       "         [  0],\n",
       "         [  0],\n",
       "         [  0],\n",
       "         [  0],\n",
       "         [  0],\n",
       "         [  0],\n",
       "         [  0],\n",
       "         [  0],\n",
       "         [  0],\n",
       "         [  0]],\n",
       " \n",
       "        [[  0],\n",
       "         [  0],\n",
       "         [  0],\n",
       "         [  0],\n",
       "         [  0],\n",
       "         [  0],\n",
       "         [  0],\n",
       "         [  0],\n",
       "         [  0],\n",
       "         [  0],\n",
       "         [  0],\n",
       "         [  0],\n",
       "         [  0],\n",
       "         [  0],\n",
       "         [  0],\n",
       "         [  0],\n",
       "         [  0],\n",
       "         [  0],\n",
       "         [  0],\n",
       "         [  0],\n",
       "         [  0],\n",
       "         [  0],\n",
       "         [  0],\n",
       "         [  0],\n",
       "         [  0],\n",
       "         [  0],\n",
       "         [  0],\n",
       "         [  0]],\n",
       " \n",
       "        [[  0],\n",
       "         [  0],\n",
       "         [  0],\n",
       "         [  0],\n",
       "         [  0],\n",
       "         [  0],\n",
       "         [  0],\n",
       "         [  0],\n",
       "         [  0],\n",
       "         [  0],\n",
       "         [  0],\n",
       "         [  0],\n",
       "         [  0],\n",
       "         [  0],\n",
       "         [  0],\n",
       "         [  0],\n",
       "         [  0],\n",
       "         [  0],\n",
       "         [  0],\n",
       "         [  0],\n",
       "         [  0],\n",
       "         [  0],\n",
       "         [  0],\n",
       "         [  0],\n",
       "         [  0],\n",
       "         [  0],\n",
       "         [  0],\n",
       "         [  0]]], dtype=uint8)>,\n",
       " 'label': <tf.Tensor: shape=(), dtype=int64, numpy=8>}"
      ]
     },
     "execution_count": 68,
     "metadata": {},
     "output_type": "execute_result"
    }
   ],
   "source": [
    "for mnist_sample in mnist['train']:\n",
    "    break\n",
    "    \n",
    "mnist_sample"
   ]
  },
  {
   "cell_type": "code",
   "execution_count": 152,
   "metadata": {},
   "outputs": [
    {
     "data": {
      "text/plain": [
       "TensorShape([10000, 28, 28, 1])"
      ]
     },
     "execution_count": 152,
     "metadata": {},
     "output_type": "execute_result"
    }
   ],
   "source": [
    "for features in mnist['train'].shuffle(10000).batch(10000).take(1):\n",
    "    X_train, y_train = features['image'], features['label']\n",
    "\n",
    "X_train.shape"
   ]
  },
  {
   "cell_type": "code",
   "execution_count": 153,
   "metadata": {},
   "outputs": [
    {
     "data": {
      "text/plain": [
       "TensorShape([28, 28, 1])"
      ]
     },
     "execution_count": 153,
     "metadata": {},
     "output_type": "execute_result"
    }
   ],
   "source": [
    "X_train[0].shape"
   ]
  },
  {
   "cell_type": "code",
   "execution_count": 154,
   "metadata": {},
   "outputs": [
    {
     "data": {
      "text/plain": [
       "TensorShape([1000, 28, 28, 1])"
      ]
     },
     "execution_count": 154,
     "metadata": {},
     "output_type": "execute_result"
    }
   ],
   "source": [
    "for features in mnist['test'].shuffle(1000).batch(1000).take(1):\n",
    "    X_test, y_test = features['image'], features['label']\n",
    "\n",
    "X_test.shape"
   ]
  },
  {
   "cell_type": "code",
   "execution_count": 157,
   "metadata": {},
   "outputs": [
    {
     "name": "stdout",
     "output_type": "stream",
     "text": [
      "Epoch 1/5\n",
      "313/313 [==============================] - 2s 8ms/step - loss: 20.1090 - accuracy: 0.7331 - val_loss: 10.6258 - val_accuracy: 0.8310\n",
      "Epoch 2/5\n",
      "313/313 [==============================] - 3s 8ms/step - loss: 7.8541 - accuracy: 0.8537 - val_loss: 9.0148 - val_accuracy: 0.8540\n",
      "Epoch 3/5\n",
      "313/313 [==============================] - 2s 5ms/step - loss: 5.8885 - accuracy: 0.8792 - val_loss: 8.5310 - val_accuracy: 0.8450\n",
      "Epoch 4/5\n",
      "313/313 [==============================] - 2s 7ms/step - loss: 5.2709 - accuracy: 0.8793 - val_loss: 9.2674 - val_accuracy: 0.8440\n",
      "Epoch 5/5\n",
      "313/313 [==============================] - 2s 7ms/step - loss: 4.7290 - accuracy: 0.8859 - val_loss: 7.9836 - val_accuracy: 0.8610\n"
     ]
    },
    {
     "data": {
      "image/png": "[encoded data removed]",
      "text/plain": [
       "<Figure size 432x288 with 1 Axes>"
      ]
     },
     "metadata": {
      "needs_background": "light"
     },
     "output_type": "display_data"
    }
   ],
   "source": [
    "model = tf.keras.models.Sequential([\n",
    "    tf.keras.layers.Flatten(input_shape=X_train[0].shape),\n",
    "    tf.keras.layers.Dense(10, activation='softmax')\n",
    "])\n",
    "\n",
    "model.compile(\n",
    "    loss='sparse_categorical_crossentropy',\n",
    "    metrics=['accuracy'],\n",
    "    optimizer='adam'\n",
    ")\n",
    "hist = model.fit(x=X_train, y=y_train, epochs=5, validation_data=(X_test, y_test))\n",
    "\n",
    "plt.plot(hist.history['accuracy'], label='accuracy')\n",
    "plt.plot(hist.history['val_accuracy'], label='val_accuracy')\n",
    "\n",
    "plt.legend()\n",
    "plt.show()"
   ]
  },
  {
   "cell_type": "markdown",
   "metadata": {},
   "source": [
    "### d)"
   ]
  },
  {
   "cell_type": "code",
   "execution_count": 158,
   "metadata": {},
   "outputs": [
    {
     "name": "stdout",
     "output_type": "stream",
     "text": [
      "Epoch 1/20\n",
      "313/313 [==============================] - 3s 8ms/step - loss: 21.0125 - accuracy: 0.7343 - val_loss: 9.7395 - val_accuracy: 0.8490\n",
      "Epoch 2/20\n",
      "313/313 [==============================] - 2s 8ms/step - loss: 8.0029 - accuracy: 0.8579 - val_loss: 7.8515 - val_accuracy: 0.8750\n",
      "Epoch 3/20\n",
      "313/313 [==============================] - 2s 8ms/step - loss: 5.8010 - accuracy: 0.8799 - val_loss: 8.0335 - val_accuracy: 0.8770\n",
      "Epoch 4/20\n",
      "313/313 [==============================] - 4s 12ms/step - loss: 5.1988 - accuracy: 0.8868 - val_loss: 7.6148 - val_accuracy: 0.8600\n",
      "Epoch 5/20\n",
      "313/313 [==============================] - 2s 5ms/step - loss: 4.7679 - accuracy: 0.8897 - val_loss: 7.9135 - val_accuracy: 0.8700\n",
      "Epoch 6/20\n",
      "313/313 [==============================] - 2s 7ms/step - loss: 4.3620 - accuracy: 0.8969 - val_loss: 7.9397 - val_accuracy: 0.8720\n",
      "Epoch 7/20\n",
      "313/313 [==============================] - 2s 7ms/step - loss: 4.2144 - accuracy: 0.8961 - val_loss: 8.9243 - val_accuracy: 0.8650\n",
      "Epoch 8/20\n",
      "313/313 [==============================] - 2s 7ms/step - loss: 3.9872 - accuracy: 0.9019 - val_loss: 8.2563 - val_accuracy: 0.8650\n",
      "Epoch 9/20\n",
      "313/313 [==============================] - 2s 6ms/step - loss: 3.5812 - accuracy: 0.9078 - val_loss: 8.1847 - val_accuracy: 0.8740\n",
      "Epoch 10/20\n",
      "313/313 [==============================] - 2s 7ms/step - loss: 3.6847 - accuracy: 0.9080 - val_loss: 8.9238 - val_accuracy: 0.8580\n",
      "Epoch 11/20\n",
      "313/313 [==============================] - 2s 6ms/step - loss: 3.3620 - accuracy: 0.9144 - val_loss: 9.3263 - val_accuracy: 0.8460\n",
      "Epoch 12/20\n",
      "313/313 [==============================] - 2s 7ms/step - loss: 3.4276 - accuracy: 0.9117 - val_loss: 9.3105 - val_accuracy: 0.8590\n",
      "Epoch 13/20\n",
      "313/313 [==============================] - 3s 10ms/step - loss: 3.1071 - accuracy: 0.9125 - val_loss: 8.6458 - val_accuracy: 0.8800\n",
      "Epoch 14/20\n",
      "313/313 [==============================] - 3s 8ms/step - loss: 2.9386 - accuracy: 0.9202 - val_loss: 9.2306 - val_accuracy: 0.8740\n",
      "Epoch 15/20\n",
      "313/313 [==============================] - 2s 7ms/step - loss: 3.0774 - accuracy: 0.9184 - val_loss: 8.1129 - val_accuracy: 0.8710\n",
      "Epoch 16/20\n",
      "313/313 [==============================] - 2s 7ms/step - loss: 2.9493 - accuracy: 0.9182 - val_loss: 10.2465 - val_accuracy: 0.8510\n",
      "Epoch 17/20\n",
      "313/313 [==============================] - 2s 8ms/step - loss: 2.9589 - accuracy: 0.9173 - val_loss: 9.2040 - val_accuracy: 0.8830\n",
      "Epoch 18/20\n",
      "313/313 [==============================] - 2s 6ms/step - loss: 3.0315 - accuracy: 0.9193 - val_loss: 10.3131 - val_accuracy: 0.8570\n",
      "Epoch 19/20\n",
      "313/313 [==============================] - 2s 7ms/step - loss: 2.7717 - accuracy: 0.9243 - val_loss: 9.0693 - val_accuracy: 0.8790\n",
      "Epoch 20/20\n",
      "313/313 [==============================] - 2s 7ms/step - loss: 2.8799 - accuracy: 0.9232 - val_loss: 9.9811 - val_accuracy: 0.8700\n"
     ]
    },
    {
     "data": {
      "image/png": "[encoded data removed]",
      "text/plain": [
       "<Figure size 432x288 with 1 Axes>"
      ]
     },
     "metadata": {
      "needs_background": "light"
     },
     "output_type": "display_data"
    }
   ],
   "source": [
    "model = tf.keras.models.Sequential([\n",
    "    tf.keras.layers.Flatten(input_shape=X_train[0].shape),\n",
    "    tf.keras.layers.Dense(10, activation='softmax')\n",
    "])\n",
    "\n",
    "model.compile(\n",
    "    loss='sparse_categorical_crossentropy',\n",
    "    metrics=['accuracy'],\n",
    "    optimizer='adam'\n",
    ")\n",
    "hist = model.fit(x=X_train, y=y_train, epochs=20, validation_data=(X_test, y_test))\n",
    "\n",
    "plt.plot(hist.history['accuracy'], label='accuracy')\n",
    "plt.plot(hist.history['val_accuracy'], label='val_accuracy')\n",
    "\n",
    "plt.legend()\n",
    "plt.show()"
   ]
  },
  {
   "cell_type": "markdown",
   "metadata": {},
   "source": [
    "The training accuracy and the validation accuracy start to drift, a signal of overfitting."
   ]
  },
  {
   "cell_type": "markdown",
   "metadata": {},
   "source": [
    "### e)"
   ]
  },
  {
   "cell_type": "code",
   "execution_count": 159,
   "metadata": {},
   "outputs": [
    {
     "name": "stdout",
     "output_type": "stream",
     "text": [
      "Epoch 1/20\n",
      "313/313 [==============================] - 4s 14ms/step - loss: 0.9161 - accuracy: 0.7767 - val_loss: 0.5226 - val_accuracy: 0.8750\n",
      "Epoch 2/20\n",
      "313/313 [==============================] - 4s 13ms/step - loss: 0.4567 - accuracy: 0.8824 - val_loss: 0.4225 - val_accuracy: 0.8880\n",
      "Epoch 3/20\n",
      "313/313 [==============================] - 3s 8ms/step - loss: 0.3782 - accuracy: 0.8997 - val_loss: 0.3799 - val_accuracy: 0.8980\n",
      "Epoch 4/20\n",
      "313/313 [==============================] - 2s 7ms/step - loss: 0.3400 - accuracy: 0.9084 - val_loss: 0.3648 - val_accuracy: 0.8990\n",
      "Epoch 5/20\n",
      "313/313 [==============================] - 2s 8ms/step - loss: 0.3169 - accuracy: 0.9162 - val_loss: 0.3502 - val_accuracy: 0.9050\n",
      "Epoch 6/20\n",
      "313/313 [==============================] - 3s 11ms/step - loss: 0.2997 - accuracy: 0.9194 - val_loss: 0.3453 - val_accuracy: 0.9050\n",
      "Epoch 7/20\n",
      "313/313 [==============================] - 2s 8ms/step - loss: 0.2863 - accuracy: 0.9220 - val_loss: 0.3415 - val_accuracy: 0.9060\n",
      "Epoch 8/20\n",
      "313/313 [==============================] - 4s 12ms/step - loss: 0.2767 - accuracy: 0.9240 - val_loss: 0.3429 - val_accuracy: 0.9090\n",
      "Epoch 9/20\n",
      "313/313 [==============================] - 2s 7ms/step - loss: 0.2668 - accuracy: 0.9262 - val_loss: 0.3307 - val_accuracy: 0.9100\n",
      "Epoch 10/20\n",
      "313/313 [==============================] - 3s 8ms/step - loss: 0.2590 - accuracy: 0.9291 - val_loss: 0.3341 - val_accuracy: 0.9080\n",
      "Epoch 11/20\n",
      "313/313 [==============================] - 2s 8ms/step - loss: 0.2527 - accuracy: 0.9315 - val_loss: 0.3461 - val_accuracy: 0.9090\n",
      "Epoch 12/20\n",
      "313/313 [==============================] - 3s 9ms/step - loss: 0.2462 - accuracy: 0.9330 - val_loss: 0.3420 - val_accuracy: 0.9090\n",
      "Epoch 13/20\n",
      "313/313 [==============================] - 2s 6ms/step - loss: 0.2417 - accuracy: 0.9353 - val_loss: 0.3392 - val_accuracy: 0.9130\n",
      "Epoch 14/20\n",
      "313/313 [==============================] - 2s 6ms/step - loss: 0.2355 - accuracy: 0.9356 - val_loss: 0.3385 - val_accuracy: 0.9110\n",
      "Epoch 15/20\n",
      "313/313 [==============================] - 2s 8ms/step - loss: 0.2324 - accuracy: 0.9363 - val_loss: 0.3303 - val_accuracy: 0.9120\n",
      "Epoch 16/20\n",
      "313/313 [==============================] - 2s 7ms/step - loss: 0.2275 - accuracy: 0.9397 - val_loss: 0.3316 - val_accuracy: 0.9100\n",
      "Epoch 17/20\n",
      "313/313 [==============================] - 3s 8ms/step - loss: 0.2233 - accuracy: 0.9413 - val_loss: 0.3378 - val_accuracy: 0.9110\n",
      "Epoch 18/20\n",
      "313/313 [==============================] - 2s 7ms/step - loss: 0.2206 - accuracy: 0.9405 - val_loss: 0.3365 - val_accuracy: 0.9080\n",
      "Epoch 19/20\n",
      "313/313 [==============================] - 2s 7ms/step - loss: 0.2175 - accuracy: 0.9409 - val_loss: 0.3328 - val_accuracy: 0.9100\n",
      "Epoch 20/20\n",
      "313/313 [==============================] - 3s 9ms/step - loss: 0.2133 - accuracy: 0.9421 - val_loss: 0.3330 - val_accuracy: 0.9120\n"
     ]
    },
    {
     "data": {
      "image/png": "[encoded data removed]",
      "text/plain": [
       "<Figure size 432x288 with 1 Axes>"
      ]
     },
     "metadata": {
      "needs_background": "light"
     },
     "output_type": "display_data"
    }
   ],
   "source": [
    "X_train_prep = X_train / 255\n",
    "X_test_prep = X_test / 255\n",
    "\n",
    "model = tf.keras.models.Sequential([\n",
    "    tf.keras.layers.Flatten(input_shape=X_train[0].shape),\n",
    "    tf.keras.layers.Dense(10, activation='softmax')\n",
    "])\n",
    "\n",
    "model.compile(\n",
    "    loss='sparse_categorical_crossentropy',\n",
    "    metrics=['accuracy'],\n",
    "    optimizer='adam'\n",
    ")\n",
    "hist = model.fit(x=X_train_prep, y=y_train, epochs=20, validation_data=(X_test_prep, y_test))\n",
    "\n",
    "plt.plot(hist.history['accuracy'], label='accuracy')\n",
    "plt.plot(hist.history['val_accuracy'], label='val_accuracy')\n",
    "\n",
    "plt.legend()\n",
    "plt.show()"
   ]
  },
  {
   "cell_type": "markdown",
   "metadata": {},
   "source": [
    "### f)"
   ]
  },
  {
   "cell_type": "code",
   "execution_count": 160,
   "metadata": {},
   "outputs": [
    {
     "name": "stdout",
     "output_type": "stream",
     "text": [
      "Epoch 1/20\n",
      "313/313 [==============================] - 2s 8ms/step - loss: 2.0322 - accuracy: 0.4664 - val_loss: 1.8377 - val_accuracy: 0.5450\n",
      "Epoch 2/20\n",
      "313/313 [==============================] - 2s 8ms/step - loss: 1.6862 - accuracy: 0.5387 - val_loss: 1.5471 - val_accuracy: 0.5550\n",
      "Epoch 3/20\n",
      "313/313 [==============================] - 3s 8ms/step - loss: 1.4312 - accuracy: 0.5833 - val_loss: 1.3414 - val_accuracy: 0.5860\n",
      "Epoch 4/20\n",
      "313/313 [==============================] - 2s 6ms/step - loss: 1.2542 - accuracy: 0.6044 - val_loss: 1.2050 - val_accuracy: 0.6190\n",
      "Epoch 5/20\n",
      "313/313 [==============================] - 3s 9ms/step - loss: 1.1315 - accuracy: 0.6196 - val_loss: 1.1084 - val_accuracy: 0.6190\n",
      "Epoch 6/20\n",
      "313/313 [==============================] - 3s 9ms/step - loss: 1.0452 - accuracy: 0.6339 - val_loss: 1.0459 - val_accuracy: 0.6170\n",
      "Epoch 7/20\n",
      "313/313 [==============================] - 3s 8ms/step - loss: 0.9839 - accuracy: 0.6415 - val_loss: 1.0004 - val_accuracy: 0.6320\n",
      "Epoch 8/20\n",
      "313/313 [==============================] - 2s 7ms/step - loss: 0.9363 - accuracy: 0.6436 - val_loss: 0.9654 - val_accuracy: 0.6260\n",
      "Epoch 9/20\n",
      "313/313 [==============================] - 3s 9ms/step - loss: 0.9022 - accuracy: 0.6473 - val_loss: 0.9462 - val_accuracy: 0.6320\n",
      "Epoch 10/20\n",
      "313/313 [==============================] - 3s 9ms/step - loss: 0.8743 - accuracy: 0.6609 - val_loss: 0.9262 - val_accuracy: 0.6290\n",
      "Epoch 11/20\n",
      "313/313 [==============================] - 3s 10ms/step - loss: 0.8510 - accuracy: 0.6662 - val_loss: 0.9094 - val_accuracy: 0.6390\n",
      "Epoch 12/20\n",
      "313/313 [==============================] - 2s 7ms/step - loss: 0.8318 - accuracy: 0.6671 - val_loss: 0.9014 - val_accuracy: 0.6370\n",
      "Epoch 13/20\n",
      "313/313 [==============================] - 3s 10ms/step - loss: 0.8152 - accuracy: 0.6789 - val_loss: 0.8891 - val_accuracy: 0.6420\n",
      "Epoch 14/20\n",
      "313/313 [==============================] - 3s 10ms/step - loss: 0.7985 - accuracy: 0.6843 - val_loss: 0.8726 - val_accuracy: 0.6550\n",
      "Epoch 15/20\n",
      "313/313 [==============================] - 2s 7ms/step - loss: 0.7814 - accuracy: 0.6958 - val_loss: 0.8605 - val_accuracy: 0.6660\n",
      "Epoch 16/20\n",
      "313/313 [==============================] - 3s 9ms/step - loss: 0.7669 - accuracy: 0.7006 - val_loss: 0.8540 - val_accuracy: 0.6720\n",
      "Epoch 17/20\n",
      "313/313 [==============================] - 3s 9ms/step - loss: 0.7517 - accuracy: 0.7124 - val_loss: 0.8487 - val_accuracy: 0.6810\n",
      "Epoch 18/20\n",
      "313/313 [==============================] - 3s 9ms/step - loss: 0.7387 - accuracy: 0.7242 - val_loss: 0.8305 - val_accuracy: 0.6900\n",
      "Epoch 19/20\n",
      "313/313 [==============================] - 2s 8ms/step - loss: 0.7249 - accuracy: 0.7250 - val_loss: 0.8233 - val_accuracy: 0.6990\n",
      "Epoch 20/20\n",
      "313/313 [==============================] - 3s 9ms/step - loss: 0.7119 - accuracy: 0.7348 - val_loss: 0.8124 - val_accuracy: 0.7030\n"
     ]
    },
    {
     "data": {
      "image/png": "[encoded data removed]",
      "text/plain": [
       "<Figure size 432x288 with 1 Axes>"
      ]
     },
     "metadata": {
      "needs_background": "light"
     },
     "output_type": "display_data"
    }
   ],
   "source": [
    "X_train_prep = X_train / 255\n",
    "X_test_prep = X_test / 255\n",
    "\n",
    "model = tf.keras.models.Sequential([\n",
    "    tf.keras.layers.Flatten(input_shape=X_train[0].shape),\n",
    "    tf.keras.layers.Dense(10, activation='softmax'),\n",
    "    tf.keras.layers.Dense(10, activation='softmax')\n",
    "])\n",
    "\n",
    "model.compile(\n",
    "    loss='sparse_categorical_crossentropy',\n",
    "    metrics=['accuracy'],\n",
    "    optimizer='adam'\n",
    ")\n",
    "hist = model.fit(x=X_train_prep, y=y_train, epochs=20, validation_data=(X_test_prep, y_test))\n",
    "\n",
    "plt.plot(hist.history['accuracy'], label='accuracy')\n",
    "plt.plot(hist.history['val_accuracy'], label='val_accuracy')\n",
    "\n",
    "plt.legend()\n",
    "plt.show()"
   ]
  },
  {
   "cell_type": "markdown",
   "metadata": {},
   "source": [
    "### g)"
   ]
  },
  {
   "cell_type": "code",
   "execution_count": 162,
   "metadata": {},
   "outputs": [
    {
     "name": "stdout",
     "output_type": "stream",
     "text": [
      "Epoch 1/20\n",
      "313/313 [==============================] - 2s 8ms/step - loss: 2.0185 - accuracy: 0.3856 - val_loss: 1.8134 - val_accuracy: 0.6410\n",
      "Epoch 2/20\n",
      "313/313 [==============================] - 2s 6ms/step - loss: 1.6709 - accuracy: 0.5969 - val_loss: 1.4874 - val_accuracy: 0.7480\n",
      "Epoch 3/20\n",
      "313/313 [==============================] - 3s 9ms/step - loss: 1.4021 - accuracy: 0.6397 - val_loss: 1.2553 - val_accuracy: 0.7510\n",
      "Epoch 4/20\n",
      "313/313 [==============================] - 3s 9ms/step - loss: 1.2388 - accuracy: 0.6386 - val_loss: 1.0847 - val_accuracy: 0.7750\n",
      "Epoch 5/20\n",
      "313/313 [==============================] - 3s 10ms/step - loss: 1.1322 - accuracy: 0.6439 - val_loss: 0.9758 - val_accuracy: 0.7780\n",
      "Epoch 6/20\n",
      "313/313 [==============================] - 4s 12ms/step - loss: 1.0376 - accuracy: 0.6531 - val_loss: 0.8892 - val_accuracy: 0.7800\n",
      "Epoch 7/20\n",
      "313/313 [==============================] - 2s 8ms/step - loss: 1.0090 - accuracy: 0.6513 - val_loss: 0.8310 - val_accuracy: 0.7760\n",
      "Epoch 8/20\n",
      "313/313 [==============================] - 2s 7ms/step - loss: 0.9559 - accuracy: 0.6618 - val_loss: 0.7839 - val_accuracy: 0.7960\n",
      "Epoch 9/20\n",
      "313/313 [==============================] - 2s 6ms/step - loss: 0.9177 - accuracy: 0.6705 - val_loss: 0.7516 - val_accuracy: 0.8020\n",
      "Epoch 10/20\n",
      "313/313 [==============================] - 2s 5ms/step - loss: 0.9109 - accuracy: 0.6643 - val_loss: 0.7175 - val_accuracy: 0.8100\n",
      "Epoch 11/20\n",
      "313/313 [==============================] - 2s 8ms/step - loss: 0.8877 - accuracy: 0.6757 - val_loss: 0.6892 - val_accuracy: 0.8050\n",
      "Epoch 12/20\n",
      "313/313 [==============================] - 3s 8ms/step - loss: 0.8880 - accuracy: 0.6697 - val_loss: 0.6726 - val_accuracy: 0.8070\n",
      "Epoch 13/20\n",
      "313/313 [==============================] - 2s 6ms/step - loss: 0.8644 - accuracy: 0.6758 - val_loss: 0.6604 - val_accuracy: 0.8060\n",
      "Epoch 14/20\n",
      "313/313 [==============================] - 2s 5ms/step - loss: 0.8402 - accuracy: 0.6827 - val_loss: 0.6606 - val_accuracy: 0.7990\n",
      "Epoch 15/20\n",
      "313/313 [==============================] - 3s 8ms/step - loss: 0.8237 - accuracy: 0.6834 - val_loss: 0.6345 - val_accuracy: 0.8080\n",
      "Epoch 16/20\n",
      "313/313 [==============================] - 2s 7ms/step - loss: 0.8329 - accuracy: 0.6860 - val_loss: 0.6168 - val_accuracy: 0.8190\n",
      "Epoch 17/20\n",
      "313/313 [==============================] - 2s 6ms/step - loss: 0.8268 - accuracy: 0.6938 - val_loss: 0.6163 - val_accuracy: 0.8130\n",
      "Epoch 18/20\n",
      "313/313 [==============================] - 3s 10ms/step - loss: 0.8131 - accuracy: 0.7059 - val_loss: 0.6136 - val_accuracy: 0.8260\n",
      "Epoch 19/20\n",
      "313/313 [==============================] - 3s 11ms/step - loss: 0.8025 - accuracy: 0.7023 - val_loss: 0.6079 - val_accuracy: 0.8160\n",
      "Epoch 20/20\n",
      "313/313 [==============================] - 2s 8ms/step - loss: 0.7863 - accuracy: 0.7128 - val_loss: 0.5914 - val_accuracy: 0.8250\n"
     ]
    },
    {
     "data": {
      "image/png": "[encoded data removed]",
      "text/plain": [
       "<Figure size 432x288 with 1 Axes>"
      ]
     },
     "metadata": {
      "needs_background": "light"
     },
     "output_type": "display_data"
    }
   ],
   "source": [
    "X_train_prep = X_train / 255\n",
    "X_test_prep = X_test / 255\n",
    "\n",
    "model = tf.keras.models.Sequential([\n",
    "    tf.keras.layers.Flatten(input_shape=X_train[0].shape),\n",
    "    tf.keras.layers.Dense(10, activation='softmax'),\n",
    "    tf.keras.layers.Dropout(rate=0.2),\n",
    "    tf.keras.layers.Dense(10, activation='softmax')\n",
    "])\n",
    "\n",
    "model.compile(\n",
    "    loss='sparse_categorical_crossentropy',\n",
    "    metrics=['accuracy'],\n",
    "    optimizer='adam'\n",
    ")\n",
    "hist = model.fit(x=X_train_prep, y=y_train, epochs=20, validation_data=(X_test_prep, y_test))\n",
    "\n",
    "plt.plot(hist.history['accuracy'], label='accuracy')\n",
    "plt.plot(hist.history['val_accuracy'], label='val_accuracy')\n",
    "\n",
    "plt.legend()\n",
    "plt.show()"
   ]
  }
 ],
 "metadata": {
  "kernelspec": {
   "display_name": "Python [conda env:AIDAE] *",
   "language": "python",
   "name": "conda-env-AIDAE-py"
  },
  "language_info": {
   "codemirror_mode": {
    "name": "ipython",
    "version": 3
   },
   "file_extension": ".py",
   "mimetype": "text/x-python",
   "name": "python",
   "nbconvert_exporter": "python",
   "pygments_lexer": "ipython3",
   "version": "3.8.3"
  }
 },
 "nbformat": 4,
 "nbformat_minor": 4
}
